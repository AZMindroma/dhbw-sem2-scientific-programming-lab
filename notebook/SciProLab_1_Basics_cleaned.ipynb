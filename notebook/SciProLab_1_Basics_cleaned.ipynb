{
 "cells": [
  {
   "cell_type": "code",
   "id": "71725de8",
   "metadata": {
    "slideshow": {
     "slide_type": "skip"
    },
    "ExecuteTime": {
     "end_time": "2025-05-20T16:44:11.322038Z",
     "start_time": "2025-05-20T16:44:11.310677Z"
    }
   },
   "source": [
    "#Bitte ausführen, damit alles Notwendige importiert wird\n",
    "#Note: Bei Änderungen der zugrundeliegenden Python-Files muss Jupyter neugestartet werden\n",
    "import scipro"
   ],
   "outputs": [],
   "execution_count": 1
  },
  {
   "cell_type": "code",
   "id": "2670d2e4",
   "metadata": {
    "scrolled": true,
    "slideshow": {
     "slide_type": "skip"
    },
    "ExecuteTime": {
     "end_time": "2025-05-20T16:44:12.709548Z",
     "start_time": "2025-05-20T16:44:12.698975Z"
    }
   },
   "source": [
    "%%html\n",
    "<!--Bitte diese Cell mit Run ausführen, damit die Styles geladen werden-->\n",
    "<!--Bei Änderungen des CSS muss das Notebook im Browser neu geladen werden-->\n",
    "<link rel=\"stylesheet\" href=\"./styles/sciprolab.css\">\n"
   ],
   "outputs": [
    {
     "data": {
      "text/plain": [
       "<IPython.core.display.HTML object>"
      ],
      "text/html": [
       "<!--Bitte diese Cell mit Run ausführen, damit die Styles geladen werden-->\n",
       "<!--Bei Änderungen des CSS muss das Notebook im Browser neu geladen werden-->\n",
       "<link rel=\"stylesheet\" href=\"./styles/sciprolab.css\">\n",
       "\n"
      ]
     },
     "metadata": {},
     "output_type": "display_data"
    }
   ],
   "execution_count": 2
  },
  {
   "cell_type": "markdown",
   "id": "unique-crisis",
   "metadata": {
    "slideshow": {
     "slide_type": "slide"
    }
   },
   "source": [
    "# Scientific Programming Lab\n"
   ]
  },
  {
   "cell_type": "markdown",
   "id": "543a2d73",
   "metadata": {
    "slideshow": {
     "slide_type": "slide"
    }
   },
   "source": [
    "## Ziele und Inhalte\n",
    "\n",
    "- Basis-Techniken der Python-Programmierung\n",
    "- Näherbringen der Idiomatische Form wie man gewisse Dinge in Python 3 angeht - der sogenannte _Pythonic Way_\n",
    "- Basistechniken für das Daten-Handling und die Visualisierung von Daten\n",
    "- Wiederholung wichtiger mathematischer Konzepte\n",
    "- Handwerkszeug für weitere Module, z.B. im Bereich Data Science\n",
    "\n",
    "\n"
   ]
  },
  {
   "cell_type": "markdown",
   "id": "korean-analysis",
   "metadata": {
    "slideshow": {
     "slide_type": "slide"
    }
   },
   "source": [
    "## Jupyter Notebooks\n",
    "* Interaktive Umgebung, die es ermöglicht ein Dokument (das ´Notebook´) zu schreiben, das folgende Elemente enthält:\n",
    " * Live Code\n",
    " * Plots, Interaktive GUI-Widgets\n",
    " * Beschreibender Text, Gleichungen und Formeln\n",
    " * Bilder und Videos\n",
    "\n"
   ]
  },
  {
   "cell_type": "markdown",
   "id": "bd8e74c2",
   "metadata": {
    "slideshow": {
     "slide_type": "slide"
    }
   },
   "source": [
    "* Verbindet eine Web-Applikation für das Schreiben und Anzeigen mit einem *Computing-Kernel*\n",
    "* Der Kernel ist für unsere Zwecke `IPython` (**I**nteractive **Python**). Es gibt eine Vielzahl an <a href=\"http://jupyter-notebook.readthedocs.io/en/latest/examples/Notebook/What%20is%20the%20Jupyter%20Notebook.html#Kernels\">Kernels</a> für viele verschiedene Sprachen\n",
    "* Jupyter ist **nicht** Python - es benutzt Python."
   ]
  },
  {
   "cell_type": "markdown",
   "id": "91cfbab7",
   "metadata": {
    "slideshow": {
     "slide_type": "slide"
    }
   },
   "source": [
    "* Öffnen des Notebooks\n",
    " * Windows: Klicken auf das entsprechende Symbol im Menü\n",
    " * Linux/Mac: Eingabe von `jupyter notebook` im Terminal\n",
    " * New &rarr; Python 3 | Eingabe von Markdown oder Python Code | Drücken von Shift+Return "
   ]
  },
  {
   "cell_type": "markdown",
   "id": "southwest-alarm",
   "metadata": {
    "slideshow": {
     "slide_type": "slide"
    }
   },
   "source": [
    "### Philosophie von Python:"
   ]
  },
  {
   "cell_type": "code",
   "execution_count": 3,
   "id": "polar-fighter",
   "metadata": {
    "slideshow": {
     "slide_type": "fragment"
    }
   },
   "outputs": [
    {
     "name": "stdout",
     "output_type": "stream",
     "text": [
      "The Zen of Python, by Tim Peters\n",
      "\n",
      "Beautiful is better than ugly.\n",
      "Explicit is better than implicit.\n",
      "Simple is better than complex.\n",
      "Complex is better than complicated.\n",
      "Flat is better than nested.\n",
      "Sparse is better than dense.\n",
      "Readability counts.\n",
      "Special cases aren't special enough to break the rules.\n",
      "Although practicality beats purity.\n",
      "Errors should never pass silently.\n",
      "Unless explicitly silenced.\n",
      "In the face of ambiguity, refuse the temptation to guess.\n",
      "There should be one-- and preferably only one --obvious way to do it.\n",
      "Although that way may not be obvious at first unless you're Dutch.\n",
      "Now is better than never.\n",
      "Although never is often better than *right* now.\n",
      "If the implementation is hard to explain, it's a bad idea.\n",
      "If the implementation is easy to explain, it may be a good idea.\n",
      "Namespaces are one honking great idea -- let's do more of those!\n"
     ]
    }
   ],
   "source": [
    "import this"
   ]
  },
  {
   "cell_type": "markdown",
   "id": "cognitive-purse",
   "metadata": {
    "slideshow": {
     "slide_type": "subslide"
    }
   },
   "source": [
    "## Arbeiten mit Jupyter"
   ]
  },
  {
   "cell_type": "markdown",
   "id": "efficient-exclusive",
   "metadata": {
    "slideshow": {
     "slide_type": "slide"
    }
   },
   "source": [
    "Es gibt zwei Arten von __Modi__:\n",
    "- __Edit__ \n",
    "- __Command__\n"
   ]
  },
  {
   "cell_type": "markdown",
   "id": "connected-daughter",
   "metadata": {
    "slideshow": {
     "slide_type": "fragment"
    }
   },
   "source": [
    "Für __Edit__ Mode &rarr; (Einfach- or Doppel-) __Click__ in eine Zelle oder __Enter__ drücken in einer Zelle.\n",
    "\n",
    "Für __Command__ Mode &rarr; Escape Button __`ESC`__."
   ]
  },
  {
   "cell_type": "markdown",
   "id": "adolescent-strip",
   "metadata": {
    "slideshow": {
     "slide_type": "slide"
    }
   },
   "source": [
    "Es existiert ein Vielzahl an hilfreichen Shortcuts. Drücken Sie im __Command__ Mode __`H`__ für eine Liste ...\n",
    "\n",
    "Einige hilfreiche:\n",
    "- __Shift + Enter__, Alt + Enter, Ctrl + Enter\n",
    "- `C`, `X`, `V` (Copy, Cut, Paste)\n",
    "- `A`, `B` (Insert Above/Below)\n",
    "- `DD`, `Z`..."
   ]
  },
  {
   "cell_type": "markdown",
   "id": "medieval-twelve",
   "metadata": {
    "slideshow": {
     "slide_type": "slide"
    }
   },
   "source": [
    "Einige einfache Eingaben - Python als Taschenrechner ...<br>\n",
    "Drücken Sie den Play-Button links des Codes, um die Beispiele auszuführen."
   ]
  },
  {
   "cell_type": "code",
   "id": "brazilian-trading",
   "metadata": {
    "slideshow": {
     "slide_type": "fragment"
    },
    "ExecuteTime": {
     "end_time": "2025-05-20T16:44:19.408676Z",
     "start_time": "2025-05-20T16:44:19.405127Z"
    }
   },
   "source": [
    "print(\"Hallo\" + \" \" + \"Welt\")"
   ],
   "outputs": [
    {
     "name": "stdout",
     "output_type": "stream",
     "text": [
      "Hallo Welt\n"
     ]
    }
   ],
   "execution_count": 3
  },
  {
   "cell_type": "code",
   "execution_count": 5,
   "id": "thrown-irish",
   "metadata": {
    "slideshow": {
     "slide_type": "fragment"
    }
   },
   "outputs": [
    {
     "name": "stdout",
     "output_type": "stream",
     "text": [
      "Diese Zeile wird ausgeführt\n"
     ]
    }
   ],
   "source": [
    "#Zeilen, die mit # starten, sind Kommentare\n",
    "#print(\"Diese Zeile wird nicht ausgeführt\")\n",
    "print(\"Diese Zeile wird ausgeführt\")"
   ]
  },
  {
   "cell_type": "markdown",
   "id": "intellectual-technique",
   "metadata": {
    "slideshow": {
     "slide_type": "slide"
    }
   },
   "source": [
    "## Operationen\n",
    "* Genauso wie in der Mathematik gibt es in Python Operationen\n",
    "* Diese erhalten einen oder mehrere __Operanden__ und liefern ein __Ergebnis__"
   ]
  },
  {
   "cell_type": "markdown",
   "id": "bc3027de",
   "metadata": {
    "slideshow": {
     "slide_type": "slide"
    }
   },
   "source": [
    "### Addition und Subtraktion\n",
    "* Definiert mittels `+` und `-`\n",
    "* Nachkommastellen mittels `.`\n",
    "* Drücken Sie den Play-Button, um die Beispiele auszuführen."
   ]
  },
  {
   "cell_type": "code",
   "execution_count": 6,
   "id": "8b59bcc5",
   "metadata": {
    "slideshow": {
     "slide_type": "fragment"
    }
   },
   "outputs": [
    {
     "data": {
      "text/plain": [
       "2"
      ]
     },
     "execution_count": 6,
     "metadata": {},
     "output_type": "execute_result"
    }
   ],
   "source": [
    " 1+1"
   ]
  },
  {
   "cell_type": "code",
   "execution_count": 7,
   "id": "cd9a68e4",
   "metadata": {
    "slideshow": {
     "slide_type": "fragment"
    }
   },
   "outputs": [
    {
     "data": {
      "text/plain": [
       "4.6"
      ]
     },
     "execution_count": 7,
     "metadata": {},
     "output_type": "execute_result"
    }
   ],
   "source": [
    "1.4 + 3.2"
   ]
  },
  {
   "cell_type": "code",
   "execution_count": 8,
   "id": "2538222d",
   "metadata": {
    "slideshow": {
     "slide_type": "fragment"
    }
   },
   "outputs": [
    {
     "data": {
      "text/plain": [
       "13"
      ]
     },
     "execution_count": 8,
     "metadata": {},
     "output_type": "execute_result"
    }
   ],
   "source": [
    "17 - 4"
   ]
  },
  {
   "cell_type": "code",
   "execution_count": 9,
   "id": "7d1f7491",
   "metadata": {
    "slideshow": {
     "slide_type": "fragment"
    }
   },
   "outputs": [
    {
     "data": {
      "text/plain": [
       "-4"
      ]
     },
     "execution_count": 9,
     "metadata": {},
     "output_type": "execute_result"
    }
   ],
   "source": [
    "-2 + -2"
   ]
  },
  {
   "cell_type": "markdown",
   "id": "5687b57c",
   "metadata": {
    "slideshow": {
     "slide_type": "slide"
    }
   },
   "source": [
    "### Multiplikation und Division\n",
    "* Multiplikation mittels `*`\n",
    "* Zwei Arten von Division `/` und `//` \n",
    "* Drücken Sie den Play-Button links des Codes, um die Beispiele auszuführen."
   ]
  },
  {
   "cell_type": "code",
   "execution_count": 10,
   "id": "altered-albany",
   "metadata": {
    "slideshow": {
     "slide_type": "fragment"
    }
   },
   "outputs": [
    {
     "data": {
      "text/plain": [
       "15"
      ]
     },
     "execution_count": 10,
     "metadata": {},
     "output_type": "execute_result"
    }
   ],
   "source": [
    "3 * 5"
   ]
  },
  {
   "cell_type": "code",
   "execution_count": 11,
   "id": "honey-disorder",
   "metadata": {
    "slideshow": {
     "slide_type": "fragment"
    }
   },
   "outputs": [
    {
     "data": {
      "text/plain": [
       "5.0"
      ]
     },
     "execution_count": 11,
     "metadata": {},
     "output_type": "execute_result"
    }
   ],
   "source": [
    "10/2"
   ]
  },
  {
   "cell_type": "code",
   "execution_count": 12,
   "id": "regulation-walter",
   "metadata": {
    "slideshow": {
     "slide_type": "fragment"
    }
   },
   "outputs": [
    {
     "data": {
      "text/plain": [
       "5"
      ]
     },
     "execution_count": 12,
     "metadata": {},
     "output_type": "execute_result"
    }
   ],
   "source": [
    "10//2"
   ]
  },
  {
   "cell_type": "markdown",
   "id": "engaging-secretariat",
   "metadata": {
    "slideshow": {
     "slide_type": "slide"
    }
   },
   "source": [
    "<div class=\"aufgabe\">\n",
    "    <h3>Division</h3>\n",
    "    Was ist der Unterschied zwischen `/` und `//`?<br>\n",
    "    Zeigen Sie diesen Unterschied anhand von zwei Beispielen.\n",
    "</div>"
   ]
  },
  {
   "cell_type": "markdown",
   "id": "34047623",
   "metadata": {
    "slideshow": {
     "slide_type": "skip"
    }
   },
   "source": [
    "<details class=\"hint\">\n",
    "<summary></summary>\n",
    "Was ist der Unterschied im Output zwischen `10/2` und `10//2`?\n",
    "    <details class=\"nexthint\">\n",
    "    <summary></summary>\n",
    "        Suchen Sie ein Paar von Operanden, bei dem das Ergebnis Nachkommstellen hat\n",
    "    </details>\n",
    "</details>\n"
   ]
  },
  {
   "cell_type": "code",
   "execution_count": 15,
   "id": "7403cca1",
   "metadata": {
    "slideshow": {
     "slide_type": "fragment"
    }
   },
   "outputs": [
    {
     "data": {
      "text/plain": [
       "2.5"
      ]
     },
     "execution_count": 15,
     "metadata": {},
     "output_type": "execute_result"
    }
   ],
   "source": [
    "#Beispiel für /\n",
    "5 / 2"
   ]
  },
  {
   "cell_type": "code",
   "execution_count": 16,
   "id": "fff6f307",
   "metadata": {
    "slideshow": {
     "slide_type": "fragment"
    }
   },
   "outputs": [
    {
     "data": {
      "text/plain": [
       "2"
      ]
     },
     "execution_count": 16,
     "metadata": {},
     "output_type": "execute_result"
    }
   ],
   "source": [
    "#Beispiel für /\n",
    "5 // 2"
   ]
  },
  {
   "cell_type": "markdown",
   "id": "54ad5420",
   "metadata": {
    "slideshow": {
     "slide_type": "slide"
    }
   },
   "source": [
    "# Variablen"
   ]
  },
  {
   "cell_type": "markdown",
   "id": "44af6924",
   "metadata": {},
   "source": [
    "<div class=\"definition\">\n",
    "    <h3>Variable (Mathematik)</h3>\n",
    "    Eine Variable ist eine symbolische Repräsentation eines mathematischen Objekts, z.B. einer Zahl oder Menge.<br>\n",
    "    Beispiele für Gleichungen mit Variablen x,y, und z:\n",
    "    $$\n",
    "      x^2 = 25 \\text{ genau dann, wenn } x = -5 \\text{ oder } x=5\\\\\n",
    "      \\text{ aus } y=3 \\text{ und } z = 4 \\text{ folgt } y+z=7\n",
    "    $$\n",
    "</div>"
   ]
  },
  {
   "cell_type": "markdown",
   "id": "271c433c",
   "metadata": {
    "slideshow": {
     "slide_type": "slide"
    }
   },
   "source": [
    "<div class=\"definition\">\n",
    "    <h3>Variable (Programmierung)</h3>\n",
    "    Eine Variable ist eine Repräsentation eines Speicherorts für einen Wert, z.B. eine Zahl oder eine Zeichenkette.<br>\n",
    "    Variablen sind durch einen Bezeichner eindeutig definiert.<br>\n",
    "    Beispiel für die Verwendung von Variablen x,y,z:\n",
    "</div>"
   ]
  },
  {
   "cell_type": "code",
   "execution_count": 17,
   "id": "fb7257c3",
   "metadata": {
    "slideshow": {
     "slide_type": "fragment"
    }
   },
   "outputs": [
    {
     "name": "stdout",
     "output_type": "stream",
     "text": [
      "Hallo, Studis!\n"
     ]
    }
   ],
   "source": [
    "x = \"Studis\"\n",
    "print(\"Hallo, \" + x + \"!\")"
   ]
  },
  {
   "cell_type": "code",
   "execution_count": 18,
   "id": "55d44c13",
   "metadata": {
    "slideshow": {
     "slide_type": "fragment"
    }
   },
   "outputs": [
    {
     "name": "stdout",
     "output_type": "stream",
     "text": [
      "7\n"
     ]
    }
   ],
   "source": [
    "y = 3\n",
    "z = 4\n",
    "print(y + z)"
   ]
  },
  {
   "cell_type": "markdown",
   "id": "9af79895",
   "metadata": {
    "slideshow": {
     "slide_type": "slide"
    }
   },
   "source": [
    "### Zuweisung und Gleichheit\n",
    "* Der Operator `=` hat in der Mathematik und in Python verschiedene Bedeutungen\n",
    "    * In der Mathematik _Gleichheit_, z.B. $x=5$ bedeutet, dass der Wert von x (immer und zu jeder Zeit) 5 ist\n",
    "    * In Python _Zuweisung_, z.B. `x=5` bedeutet, dass der Wert von X auf 5 gesetzt wird (und evtl. vorher ein anderer war)\n",
    "\n",
    "    "
   ]
  },
  {
   "cell_type": "code",
   "execution_count": 19,
   "id": "3bdf5f92",
   "metadata": {
    "slideshow": {
     "slide_type": "fragment"
    }
   },
   "outputs": [
    {
     "name": "stdout",
     "output_type": "stream",
     "text": [
      "5\n",
      "7\n"
     ]
    }
   ],
   "source": [
    "x=5\n",
    "print(x)\n",
    "x=7\n",
    "print(x)"
   ]
  },
  {
   "cell_type": "markdown",
   "id": "1c587d35",
   "metadata": {
    "slideshow": {
     "slide_type": "slide"
    }
   },
   "source": [
    "* In Python wird für den Vergleich das doppelte Gleichheitszeichen `==` benutzt"
   ]
  },
  {
   "cell_type": "code",
   "execution_count": 20,
   "id": "5b883ba0",
   "metadata": {
    "slideshow": {
     "slide_type": "fragment"
    }
   },
   "outputs": [
    {
     "name": "stdout",
     "output_type": "stream",
     "text": [
      "True\n",
      "False\n"
     ]
    }
   ],
   "source": [
    "x=5\n",
    "print(x==5)\n",
    "print(x==7)"
   ]
  },
  {
   "cell_type": "markdown",
   "id": "1f4f3e89",
   "metadata": {
    "slideshow": {
     "slide_type": "slide"
    }
   },
   "source": [
    "* Bei der Zuweisung werden _zuerst_ alle Operationen auf der rechten Seite ausgeführt, erst _dann_ wird das Ergebnis in der Variable auf der linken Seite gespeichert"
   ]
  },
  {
   "cell_type": "code",
   "id": "fa36dc91",
   "metadata": {
    "slideshow": {
     "slide_type": "fragment"
    },
    "ExecuteTime": {
     "end_time": "2025-05-15T17:57:27.283359Z",
     "start_time": "2025-05-15T17:57:27.272547Z"
    }
   },
   "source": [
    "x = 3\n",
    "print(x)\n",
    "x = x + 5\n",
    "print(x)\n",
    "x = x * x\n",
    "print(x)"
   ],
   "outputs": [
    {
     "name": "stdout",
     "output_type": "stream",
     "text": [
      "3\n",
      "8\n",
      "64\n"
     ]
    }
   ],
   "execution_count": 1
  },
  {
   "cell_type": "markdown",
   "id": "6cc90290",
   "metadata": {
    "slideshow": {
     "slide_type": "slide"
    }
   },
   "source": [
    "<div class=\"aufgabe\">\n",
    "    <h3>Zuweisung</h3>\n",
    "    Schreiben Sie die Zeilen Code, die den Inhalt der Variablen `a` und `b`tauschen!\n",
    "</div>"
   ]
  },
  {
   "cell_type": "code",
   "execution_count": 20,
   "id": "c328f382",
   "metadata": {
    "slideshow": {
     "slide_type": "fragment"
    }
   },
   "outputs": [
    {
     "name": "stdout",
     "output_type": "stream",
     "text": [
      "1 5\n"
     ]
    },
    {
     "data": {
      "text/html": [
       "<div class=\"alert alert-block alert-danger\"><h3>Zuweisung</h3><p>a=1 ❌ (erwartet: a=5)</p><p>b=5 ❌ (erwartet: b=1)</p></div>"
      ],
      "text/plain": [
       "<IPython.core.display.HTML object>"
      ]
     },
     "execution_count": 20,
     "metadata": {},
     "output_type": "execute_result"
    }
   ],
   "source": [
    "a = 1\n",
    "b = 5\n",
    "\n",
    "print(a,b)\n",
    "#Schreiben Sie Ihren Code hier\n",
    "\n",
    "#Dieser Code testet, ob Ihr Code das Richtige tut\n",
    "scipro.Test(\"Zuweisung\").equals(\"a\", a, 5).equals(\"b\", b, 1).report()"
   ]
  },
  {
   "cell_type": "markdown",
   "id": "4305a34d",
   "metadata": {
    "slideshow": {
     "slide_type": "slide"
    }
   },
   "source": [
    "### Doppelte Zuweisung"
   ]
  },
  {
   "cell_type": "code",
   "execution_count": 21,
   "id": "05aacf87",
   "metadata": {
    "slideshow": {
     "slide_type": "fragment"
    }
   },
   "outputs": [
    {
     "data": {
      "text/plain": [
       "(5, 1)"
      ]
     },
     "execution_count": 21,
     "metadata": {},
     "output_type": "execute_result"
    }
   ],
   "source": [
    "a=1\n",
    "b=5\n",
    "a,b\n",
    "temp = a\n",
    "a = b\n",
    "b = temp\n",
    "a,b"
   ]
  },
  {
   "cell_type": "markdown",
   "id": "91a71a25",
   "metadata": {
    "slideshow": {
     "slide_type": "fragment"
    }
   },
   "source": [
    "In Python geht das aber einfacher ... also tauschen wir (idomatisch = pythonic) zurück ..."
   ]
  },
  {
   "cell_type": "code",
   "execution_count": 22,
   "id": "78e3eb52",
   "metadata": {
    "slideshow": {
     "slide_type": "fragment"
    }
   },
   "outputs": [
    {
     "data": {
      "text/plain": [
       "(1, 5)"
      ]
     },
     "execution_count": 22,
     "metadata": {},
     "output_type": "execute_result"
    }
   ],
   "source": [
    "a,b = b,a\n",
    "a,b"
   ]
  },
  {
   "cell_type": "markdown",
   "id": "66e3f07f",
   "metadata": {
    "slideshow": {
     "slide_type": "slide"
    }
   },
   "source": [
    "## Variablennamen\n",
    "- Sollten einigermaßen deskriptiv und dabei nicht zu lang sein, wie z.B. `mass`, `kNN`,`frequency`, `pop_size`...\n",
    "- Groß- und Kleinschreibung zählt (`knn` $\\neq$ `kNN`)\n",
    "- können Buchstaben, Zahlen und “_” enthalten, können aber nicht mit einer Zahl beginnen\n",
    "- Vorbelegte Namen wie `type` sollten nicht verwendet werden"
   ]
  },
  {
   "cell_type": "markdown",
   "id": "478977fb",
   "metadata": {
    "slideshow": {
     "slide_type": "slide"
    }
   },
   "source": [
    "Versucht man nicht erlaubte Namen zu verwenden, produziert Python eine Fehlermeldung ..."
   ]
  },
  {
   "cell_type": "code",
   "execution_count": 23,
   "id": "86a54f6e",
   "metadata": {
    "slideshow": {
     "slide_type": "fragment"
    }
   },
   "outputs": [
    {
     "ename": "SyntaxError",
     "evalue": "invalid decimal literal (2793471419.py, line 1)",
     "output_type": "error",
     "traceback": [
      "  \u001B[36mCell\u001B[39m\u001B[36m \u001B[39m\u001B[32mIn[23]\u001B[39m\u001B[32m, line 1\u001B[39m\n\u001B[31m    \u001B[39m\u001B[31m1toMany = 3\u001B[39m\n    ^\n\u001B[31mSyntaxError\u001B[39m\u001B[31m:\u001B[39m invalid decimal literal\n"
     ]
    }
   ],
   "source": [
    "1toMany = 3"
   ]
  },
  {
   "cell_type": "code",
   "execution_count": 24,
   "id": "b9736453",
   "metadata": {
    "slideshow": {
     "slide_type": "fragment"
    }
   },
   "outputs": [
    {
     "ename": "SyntaxError",
     "evalue": "invalid syntax (1296145003.py, line 1)",
     "output_type": "error",
     "traceback": [
      "  \u001B[36mCell\u001B[39m\u001B[36m \u001B[39m\u001B[32mIn[24]\u001B[39m\u001B[32m, line 1\u001B[39m\n\u001B[31m    \u001B[39m\u001B[31mpass = True\u001B[39m\n         ^\n\u001B[31mSyntaxError\u001B[39m\u001B[31m:\u001B[39m invalid syntax\n"
     ]
    }
   ],
   "source": [
    "pass = True"
   ]
  },
  {
   "cell_type": "markdown",
   "id": "36085bb8",
   "metadata": {
    "slideshow": {
     "slide_type": "slide"
    }
   },
   "source": [
    "Python hat 31 Schlüssewörter, die nicht als Variablennamen benutzt werden können:\n",
    "\n",
    "|  |  |  |  |  |  |\n",
    "| :----: | :----: | :----: | :----: | :----: | :----: |\n",
    "|and|as|assert|break|class|continue|\n",
    "|def|del|elif|else|except|exec|\n",
    "|finally|for|from|global|if|import|\n",
    "|in|is|lambda|not|or|pass|\n",
    "|print|raise|return|try|while|with|\n",
    "|yield"
   ]
  },
  {
   "cell_type": "markdown",
   "id": "7bf99506",
   "metadata": {
    "slideshow": {
     "slide_type": "subslide"
    }
   },
   "source": [
    "Schlüsselwörter werden in Jupyter hervorgehoben, so dass Sie erkennen sollten, dass Sie sie nicht benutzen können:\n",
    "\n",
    "```python\n",
    "global\n",
    "```\n",
    "\n",
    "Benutzen Sie auch keine Funktionsnamen bereits existierender Funktionen, wie z.B. `int`, `float`, `len`, ..."
   ]
  },
  {
   "cell_type": "markdown",
   "id": "future-australia",
   "metadata": {
    "slideshow": {
     "slide_type": "slide"
    }
   },
   "source": [
    "## Mehr Operationen: Potenzieren"
   ]
  },
  {
   "cell_type": "code",
   "execution_count": 25,
   "id": "induced-regular",
   "metadata": {
    "slideshow": {
     "slide_type": "fragment"
    }
   },
   "outputs": [
    {
     "data": {
      "text/plain": [
       "8"
      ]
     },
     "execution_count": 25,
     "metadata": {},
     "output_type": "execute_result"
    }
   ],
   "source": [
    "10^2"
   ]
  },
  {
   "cell_type": "markdown",
   "id": "heavy-defendant",
   "metadata": {
    "slideshow": {
     "slide_type": "fragment"
    }
   },
   "source": [
    "Mas macht Python hier?"
   ]
  },
  {
   "cell_type": "code",
   "execution_count": 26,
   "id": "nearby-floor",
   "metadata": {
    "slideshow": {
     "slide_type": "fragment"
    }
   },
   "outputs": [
    {
     "name": "stdout",
     "output_type": "stream",
     "text": [
      "Operator precedence\n",
      "*******************\n",
      "\n",
      "The following table summarizes the operator precedence in Python, from\n",
      "highest precedence (most binding) to lowest precedence (least\n",
      "binding).  Operators in the same box have the same precedence.  Unless\n",
      "the syntax is explicitly given, operators are binary.  Operators in\n",
      "the same box group left to right (except for exponentiation and\n",
      "conditional expressions, which group from right to left).\n",
      "\n",
      "Note that comparisons, membership tests, and identity tests, all have\n",
      "the same precedence and have a left-to-right chaining feature as\n",
      "described in the Comparisons section.\n",
      "\n",
      "+-------------------------------------------------+---------------------------------------+\n",
      "| Operator                                        | Description                           |\n",
      "|=================================================|=======================================|\n",
      "| \"(expressions...)\",  \"[expressions...]\", \"{key: | Binding or parenthesized expression,  |\n",
      "| value...}\", \"{expressions...}\"                  | list display, dictionary display, set |\n",
      "|                                                 | display                               |\n",
      "+-------------------------------------------------+---------------------------------------+\n",
      "| \"x[index]\", \"x[index:index]\",                   | Subscription, slicing, call,          |\n",
      "| \"x(arguments...)\", \"x.attribute\"                | attribute reference                   |\n",
      "+-------------------------------------------------+---------------------------------------+\n",
      "| \"await x\"                                       | Await expression                      |\n",
      "+-------------------------------------------------+---------------------------------------+\n",
      "| \"**\"                                            | Exponentiation [5]                    |\n",
      "+-------------------------------------------------+---------------------------------------+\n",
      "| \"+x\", \"-x\", \"~x\"                                | Positive, negative, bitwise NOT       |\n",
      "+-------------------------------------------------+---------------------------------------+\n",
      "| \"*\", \"@\", \"/\", \"//\", \"%\"                        | Multiplication, matrix                |\n",
      "|                                                 | multiplication, division, floor       |\n",
      "|                                                 | division, remainder [6]               |\n",
      "+-------------------------------------------------+---------------------------------------+\n",
      "| \"+\", \"-\"                                        | Addition and subtraction              |\n",
      "+-------------------------------------------------+---------------------------------------+\n",
      "| \"<<\", \">>\"                                      | Shifts                                |\n",
      "+-------------------------------------------------+---------------------------------------+\n",
      "| \"&\"                                             | Bitwise AND                           |\n",
      "+-------------------------------------------------+---------------------------------------+\n",
      "| \"^\"                                             | Bitwise XOR                           |\n",
      "+-------------------------------------------------+---------------------------------------+\n",
      "| \"|\"                                             | Bitwise OR                            |\n",
      "+-------------------------------------------------+---------------------------------------+\n",
      "| \"in\", \"not in\", \"is\", \"is not\", \"<\", \"<=\", \">\", | Comparisons, including membership     |\n",
      "| \">=\", \"!=\", \"==\"                                | tests and identity tests              |\n",
      "+-------------------------------------------------+---------------------------------------+\n",
      "| \"not x\"                                         | Boolean NOT                           |\n",
      "+-------------------------------------------------+---------------------------------------+\n",
      "| \"and\"                                           | Boolean AND                           |\n",
      "+-------------------------------------------------+---------------------------------------+\n",
      "| \"or\"                                            | Boolean OR                            |\n",
      "+-------------------------------------------------+---------------------------------------+\n",
      "| \"if\" – \"else\"                                   | Conditional expression                |\n",
      "+-------------------------------------------------+---------------------------------------+\n",
      "| \"lambda\"                                        | Lambda expression                     |\n",
      "+-------------------------------------------------+---------------------------------------+\n",
      "| \":=\"                                            | Assignment expression                 |\n",
      "+-------------------------------------------------+---------------------------------------+\n",
      "\n",
      "-[ Footnotes ]-\n",
      "\n",
      "[1] While \"abs(x%y) < abs(y)\" is true mathematically, for floats it\n",
      "    may not be true numerically due to roundoff.  For example, and\n",
      "    assuming a platform on which a Python float is an IEEE 754 double-\n",
      "    precision number, in order that \"-1e-100 % 1e100\" have the same\n",
      "    sign as \"1e100\", the computed result is \"-1e-100 + 1e100\", which\n",
      "    is numerically exactly equal to \"1e100\".  The function\n",
      "    \"math.fmod()\" returns a result whose sign matches the sign of the\n",
      "    first argument instead, and so returns \"-1e-100\" in this case.\n",
      "    Which approach is more appropriate depends on the application.\n",
      "\n",
      "[2] If x is very close to an exact integer multiple of y, it’s\n",
      "    possible for \"x//y\" to be one larger than \"(x-x%y)//y\" due to\n",
      "    rounding.  In such cases, Python returns the latter result, in\n",
      "    order to preserve that \"divmod(x,y)[0] * y + x % y\" be very close\n",
      "    to \"x\".\n",
      "\n",
      "[3] The Unicode standard distinguishes between *code points* (e.g.\n",
      "    U+0041) and *abstract characters* (e.g. “LATIN CAPITAL LETTER A”).\n",
      "    While most abstract characters in Unicode are only represented\n",
      "    using one code point, there is a number of abstract characters\n",
      "    that can in addition be represented using a sequence of more than\n",
      "    one code point.  For example, the abstract character “LATIN\n",
      "    CAPITAL LETTER C WITH CEDILLA” can be represented as a single\n",
      "    *precomposed character* at code position U+00C7, or as a sequence\n",
      "    of a *base character* at code position U+0043 (LATIN CAPITAL\n",
      "    LETTER C), followed by a *combining character* at code position\n",
      "    U+0327 (COMBINING CEDILLA).\n",
      "\n",
      "    The comparison operators on strings compare at the level of\n",
      "    Unicode code points. This may be counter-intuitive to humans.  For\n",
      "    example, \"\"\\u00C7\" == \"\\u0043\\u0327\"\" is \"False\", even though both\n",
      "    strings represent the same abstract character “LATIN CAPITAL\n",
      "    LETTER C WITH CEDILLA”.\n",
      "\n",
      "    To compare strings at the level of abstract characters (that is,\n",
      "    in a way intuitive to humans), use \"unicodedata.normalize()\".\n",
      "\n",
      "[4] Due to automatic garbage-collection, free lists, and the dynamic\n",
      "    nature of descriptors, you may notice seemingly unusual behaviour\n",
      "    in certain uses of the \"is\" operator, like those involving\n",
      "    comparisons between instance methods, or constants.  Check their\n",
      "    documentation for more info.\n",
      "\n",
      "[5] The power operator \"**\" binds less tightly than an arithmetic or\n",
      "    bitwise unary operator on its right, that is, \"2**-1\" is \"0.5\".\n",
      "\n",
      "[6] The \"%\" operator is also used for string formatting; the same\n",
      "    precedence applies.\n",
      "\n",
      "Related help topics: lambda, or, and, not, in, is, BOOLEAN, COMPARISON,\n",
      "BITWISE, SHIFTING, BINARY, FORMATTING, POWER, UNARY, ATTRIBUTES,\n",
      "SUBSCRIPTS, SLICINGS, CALLS, TUPLES, LISTS, DICTIONARIES, BITWISE\n",
      "\n"
     ]
    }
   ],
   "source": [
    "help('^')"
   ]
  },
  {
   "cell_type": "markdown",
   "id": "musical-future",
   "metadata": {
    "slideshow": {
     "slide_type": "slide"
    }
   },
   "source": [
    "`help()` um nach Hilfe zu fragen, aber manchmal ist das nicht allzu hilfreich ..."
   ]
  },
  {
   "cell_type": "markdown",
   "id": "qualified-syria",
   "metadata": {
    "slideshow": {
     "slide_type": "fragment"
    }
   },
   "source": [
    "`^` ist der Python-Operator für bitweises exklusives oder (`XOR`):\n",
    "\n",
    "        1010 = 10\n",
    "    XOR 0010 =  2\n",
    "    ->  1000 =  8\n",
    "    \n",
    "Was genau das ist, lernen Sie in Digitaltechnik."
   ]
  },
  {
   "cell_type": "markdown",
   "id": "746d0384",
   "metadata": {},
   "source": [
    "Was wir eigentlich möchten, ist '**'."
   ]
  },
  {
   "cell_type": "code",
   "execution_count": 27,
   "id": "secret-intranet",
   "metadata": {
    "slideshow": {
     "slide_type": "fragment"
    }
   },
   "outputs": [
    {
     "data": {
      "text/plain": [
       "100"
      ]
     },
     "execution_count": 27,
     "metadata": {},
     "output_type": "execute_result"
    }
   ],
   "source": [
    "10**2"
   ]
  },
  {
   "cell_type": "markdown",
   "id": "elder-shoot",
   "metadata": {
    "slideshow": {
     "slide_type": "slide"
    }
   },
   "source": [
    "## Operatoren-Präzedenz\n",
    "\n",
    "In der Mathematik bestimmen Regeln wie _Punkt-Vor-Strich_, welche Operatoren zuerst ausgewertet werden. \n",
    "\n",
    "Python folgt der *BODMAS*-Regel:\n",
    "* **B**rackets\n",
    "* **O**rder (Potenzen)\n",
    "* **D**ivide / **M**ultiply\n",
    "* **A**dd / **S**ubtract"
   ]
  },
  {
   "cell_type": "code",
   "execution_count": 28,
   "id": "mechanical-white",
   "metadata": {
    "slideshow": {
     "slide_type": "subslide"
    }
   },
   "outputs": [
    {
     "data": {
      "text/plain": [
       "42"
      ]
     },
     "execution_count": 28,
     "metadata": {},
     "output_type": "execute_result"
    }
   ],
   "source": [
    "2 + 4 * 10"
   ]
  },
  {
   "cell_type": "code",
   "execution_count": 29,
   "id": "deadly-criterion",
   "metadata": {
    "slideshow": {
     "slide_type": "fragment"
    }
   },
   "outputs": [
    {
     "data": {
      "text/plain": [
       "500"
      ]
     },
     "execution_count": 29,
     "metadata": {},
     "output_type": "execute_result"
    }
   ],
   "source": [
    "5 * 10 ** 2"
   ]
  },
  {
   "cell_type": "code",
   "execution_count": 30,
   "id": "peaceful-platinum",
   "metadata": {
    "slideshow": {
     "slide_type": "fragment"
    }
   },
   "outputs": [
    {
     "data": {
      "text/plain": [
       "2500"
      ]
     },
     "execution_count": 30,
     "metadata": {},
     "output_type": "execute_result"
    }
   ],
   "source": [
    "(5 * 10) ** 2"
   ]
  },
  {
   "cell_type": "markdown",
   "id": "0b0f6ba5",
   "metadata": {},
   "source": [
    "Im Zweifelsfall gilt: Lieber eine Klammer zu viel, als zu wenig! \n",
    "\n",
    "Vergleichen Sie folgende Beispiele. Was ist für den Menschen besser verständlich?"
   ]
  },
  {
   "cell_type": "code",
   "execution_count": 31,
   "id": "9a98e06a",
   "metadata": {},
   "outputs": [
    {
     "data": {
      "text/plain": [
       "42.0"
      ]
     },
     "execution_count": 31,
     "metadata": {},
     "output_type": "execute_result"
    }
   ],
   "source": [
    "9 + 8 * 5 / 2 + 16 - 3"
   ]
  },
  {
   "cell_type": "code",
   "execution_count": 32,
   "id": "048fdfde",
   "metadata": {},
   "outputs": [
    {
     "data": {
      "text/plain": [
       "42.0"
      ]
     },
     "execution_count": 32,
     "metadata": {},
     "output_type": "execute_result"
    }
   ],
   "source": [
    "9 + ((8 * 5) / 2) + (16 - 3)"
   ]
  },
  {
   "cell_type": "markdown",
   "id": "6d862064",
   "metadata": {},
   "source": [
    "# Datentypen"
   ]
  },
  {
   "cell_type": "markdown",
   "id": "a2c62fe0",
   "metadata": {},
   "source": [
    "<div class=\"definition\">\n",
    "    <h3>Datentyp</h3>\n",
    "    Eine Datentyp ist eine Gruppe von Datenwerten, die ein eigenes Format aufweisen.<br>\n",
    "    Für einen Datenwert können spezifische Operatoren definiert werden.<br>\n",
    "    z.B. umfasst der Datentyp `int` die ganzen Zahlen, für die die Addition `+` als Operator definiert ist.\n",
    "</div>"
   ]
  },
  {
   "cell_type": "markdown",
   "id": "1edbbab2",
   "metadata": {},
   "source": [
    "| Datentyp | Abkürzung | Datenmenge | Beispiele |\n",
    "| --- | --- | --- |--- |\n",
    "|integer|int|\tganze Zahl\t|19|\n",
    "|float|float|\tFließkommazahl\t|3.1415|\n",
    "|boolean|bool|Wahrheitswerte\t|True, False|\n",
    "|string|str|Zeichenkette\t|“Hallo Welt“|\n",
    "|list|list|Liste|\t[4,8,15,16,23,42]|\n",
    "|tuple|tuple|Wertepaar|\t('Max', 'Mustermann')|"
   ]
  },
  {
   "cell_type": "markdown",
   "id": "8a7c08ad",
   "metadata": {
    "slideshow": {
     "slide_type": "slide"
    }
   },
   "source": [
    "Der Typ einer Variable oder eines Ausdrucks läßt sich mit `type()` überprüfen"
   ]
  },
  {
   "cell_type": "code",
   "execution_count": 33,
   "id": "dedc3e3e",
   "metadata": {
    "scrolled": true,
    "slideshow": {
     "slide_type": "fragment"
    }
   },
   "outputs": [
    {
     "data": {
      "text/plain": [
       "int"
      ]
     },
     "execution_count": 33,
     "metadata": {},
     "output_type": "execute_result"
    }
   ],
   "source": [
    "type(4)"
   ]
  },
  {
   "cell_type": "code",
   "execution_count": 34,
   "id": "81da0e34",
   "metadata": {
    "slideshow": {
     "slide_type": "fragment"
    }
   },
   "outputs": [
    {
     "data": {
      "text/plain": [
       "float"
      ]
     },
     "execution_count": 34,
     "metadata": {},
     "output_type": "execute_result"
    }
   ],
   "source": [
    "type(1.0+1)"
   ]
  },
  {
   "cell_type": "code",
   "execution_count": 35,
   "id": "d0baad92",
   "metadata": {
    "slideshow": {
     "slide_type": "fragment"
    }
   },
   "outputs": [
    {
     "data": {
      "text/plain": [
       "str"
      ]
     },
     "execution_count": 35,
     "metadata": {},
     "output_type": "execute_result"
    }
   ],
   "source": [
    "type(\"Hallo\")"
   ]
  },
  {
   "cell_type": "markdown",
   "id": "4a8c4781",
   "metadata": {},
   "source": [
    "Im Vergleich zu anderen Programmiersprachen wie z.B. Java haben Variablen in Python keinen vorbestimmten Typen."
   ]
  },
  {
   "cell_type": "code",
   "execution_count": 36,
   "id": "583d4311",
   "metadata": {},
   "outputs": [
    {
     "name": "stdout",
     "output_type": "stream",
     "text": [
      "Type mit \"Dies\":  <class 'str'>\n",
      "Type mit 3:  <class 'int'>\n"
     ]
    }
   ],
   "source": [
    "x=\"Dies\"\n",
    "print(\"Type mit \\\"Dies\\\": \",  type(x))\n",
    "x=3\n",
    "print(\"Type mit 3: \",  type(x))"
   ]
  },
  {
   "cell_type": "markdown",
   "id": "bd19ee3f",
   "metadata": {},
   "source": [
    "Ob die Datentypen zueinander passen, wird erst beim Ausführen geprüft."
   ]
  },
  {
   "cell_type": "code",
   "execution_count": 37,
   "id": "55c18525",
   "metadata": {},
   "outputs": [
    {
     "data": {
      "text/plain": [
       "49"
      ]
     },
     "execution_count": 37,
     "metadata": {},
     "output_type": "execute_result"
    }
   ],
   "source": [
    "x=7\n",
    "y=7\n",
    "x * y"
   ]
  },
  {
   "cell_type": "code",
   "execution_count": 38,
   "id": "e35c8541",
   "metadata": {},
   "outputs": [
    {
     "ename": "TypeError",
     "evalue": "unsupported operand type(s) for /: 'str' and 'int'",
     "output_type": "error",
     "traceback": [
      "\u001B[31m---------------------------------------------------------------------------\u001B[39m",
      "\u001B[31mTypeError\u001B[39m                                 Traceback (most recent call last)",
      "\u001B[36mCell\u001B[39m\u001B[36m \u001B[39m\u001B[32mIn[38]\u001B[39m\u001B[32m, line 3\u001B[39m\n\u001B[32m      1\u001B[39m x=\u001B[33m\"\u001B[39m\u001B[33mFeiner Sand\u001B[39m\u001B[33m\"\u001B[39m\n\u001B[32m      2\u001B[39m y=\u001B[32m7\u001B[39m\n\u001B[32m----> \u001B[39m\u001B[32m3\u001B[39m \u001B[43mx\u001B[49m\u001B[43m \u001B[49m\u001B[43m/\u001B[49m\u001B[43m \u001B[49m\u001B[43my\u001B[49m\n",
      "\u001B[31mTypeError\u001B[39m: unsupported operand type(s) for /: 'str' and 'int'"
     ]
    }
   ],
   "source": [
    "x=\"Feiner Sand\"\n",
    "y=7\n",
    "x / y"
   ]
  },
  {
   "cell_type": "markdown",
   "id": "e3853bbf",
   "metadata": {},
   "source": [
    "Wir sagen daher, Python ist **dynamisch typisiert**."
   ]
  },
  {
   "cell_type": "markdown",
   "id": "66d2d9a3",
   "metadata": {},
   "source": [
    "## Zahlen - int und float"
   ]
  },
  {
   "cell_type": "markdown",
   "id": "17da016a",
   "metadata": {},
   "source": [
    "<div class=\"definition\">\n",
    "    <h3>Integer</h3>\n",
    "    Integer (int) ist ein Datentyp, der die ganzen Zahlen ℤ repräsentiert.<br>\n",
    "</div>"
   ]
  },
  {
   "cell_type": "markdown",
   "id": "a11ba726",
   "metadata": {},
   "source": [
    "Die bekannten Grundrechenarten sind als Operatoren implementiert"
   ]
  },
  {
   "cell_type": "code",
   "execution_count": null,
   "id": "5ae9d1eb",
   "metadata": {},
   "outputs": [],
   "source": [
    "print(\"1+1=\", 1+1)\n",
    "print(\"10-2=\", 10-2)\n",
    "print(\"5*5=\", 5*5)\n",
    "print(\"9//3=\", 9//3)"
   ]
  },
  {
   "cell_type": "markdown",
   "id": "9fd92286",
   "metadata": {},
   "source": [
    "ℤ umfasst auch die negativen Zahlen."
   ]
  },
  {
   "cell_type": "code",
   "execution_count": 39,
   "id": "a4b5a36d",
   "metadata": {},
   "outputs": [
    {
     "name": "stdout",
     "output_type": "stream",
     "text": [
      "-3+5= 2\n",
      "1-2= -1\n",
      "-2*-2= 4\n",
      "12//-4= -3\n"
     ]
    }
   ],
   "source": [
    "print(\"-3+5=\", -3+5)\n",
    "print(\"1-2=\", 1-2)\n",
    "print(\"-2*-2=\", -2*-2)\n",
    "print(\"12//-4=\", 12//-4)\n"
   ]
  },
  {
   "cell_type": "markdown",
   "id": "5caea80c",
   "metadata": {},
   "source": [
    "Im Gegensatz zu anderen Programmiersprachen hat Integer keine Größenbeschränkung."
   ]
  },
  {
   "cell_type": "code",
   "execution_count": 40,
   "id": "cbe21f70",
   "metadata": {},
   "outputs": [
    {
     "data": {
      "text/plain": [
       "2003529930406846464979072351560255750447825475569751419265016973710894059556311453089506130880933348101038234342907263181822949382118812668869506364761547029165041871916351587966347219442930927982084309104855990570159318959639524863372367203002916969592156108764948889254090805911457037675208500206671563702366126359747144807111774815880914135742720967190151836282560618091458852699826141425030123391108273603843767876449043205960379124490905707560314035076162562476031863793126484703743782954975613770981604614413308692118102485959152380195331030292162800160568670105651646750568038741529463842244845292537361442533614373729088303794601274724958414864915930647252015155693922628180691650796381064132275307267143998158508811292628901134237782705567421080070065283963322155077831214288551675554073345107213112427399562982719769150054883905223804357045848197956393157853510018992000024141963706813559840464039472194016069517690156119726982337890017641517190051133466306898140219383481435426387306539552969691388024158161859561100640362119796101859534802787167200122604642492385111393400464351623867567078745259464670903886547743483217897012764455529409092021959585751622973333576159552394885297579954028471943529913543763705986928913757153740001986394332464890052543106629669165243419174691389632476560289415199775477703138064781342309596190960654591300890188887588084733625956065444888501447335706058817090162108499714529568344061979690565469813631162053579369791403236328496233046421066136200220175787851857409162050489711781820400187282939943446186224328009837323764931814789848119452713007440220765680910376203999203492023906626264491909167985461515778839060397720759279378852241294301017458086862263369284725851403039615558564330385450688652213114813638408384778263790459607186876728509763471271988890680478243230394718650525660978150729861141430305816927924971409161059417185352275887504477592218301158780701975535722241400019548102005661773589781499532325208589753463547007786690406429016763808161740550405117670093673202804549339027992491867306539931640720492238474815280619166900933805732120816350707634351669869625020969023162859350071874190579161241536897514808261904847946571736601005892476655445840838334790544144817684255327207315586349347605137419779525190365032198020108764738368682531025183377533908861426184800374008082238104076468878471647552945326947661700424461063311238021134588694532200116564076327023074292426051582811070387018345324567635625951430032037432740780879056283663406965030844225855967039271869461158513793386475699748568670079823960604393478850861649260304945061743412365828352144806726676841807083754862211408236579802961200027441324438432402331257403545019352428776430880232850855886089962774458164680857875115807014743763867976955049991643998284357290415378143438847303484261903388841494031366139854257635577105335580206622185577060082551288893332226436281984838613239570676191409638533832374343758830859233722284644287996245605476932428998432652677378373173288063210753211238680604674708428051166488709084770291208161104912555598322366244868556651402684641209694982590565519216188104341226838996283071654868525536914850299539675503954938371853405900096187489473992880432496373165753803673586710175783994818471798498246948060532081996066183434012476096639519778021441199752546704080608499344178256285092726523709898651539462193004607364507926212975917698293892367015170992091531567814439791248475706237804600009918293321306880570046591458387208088016887445835557926258465124763087148566313528934166117490617526671492672176128330845273936469244582892571388877839056300482483799839692029222215486145902373478222682521639957440801727144146179559226175083889020074169926238300282286249284182671243405751424188569994272331606998712986882771820617214453142574944015066139463169197629181506579745526236191224848063890033669074365989226349564114665503062965960199720636202603521917776740668777463549375318899587866282125469797102065747232721372918144666659421872003474508942830911535189271114287108376159222380276605327823351661555149369375778466670145717971901227117812780450240026384758788339396817962950690798817121690686929538248529830023476068454114178139110648560236549754227497231007615131870024053910510913817843721791422528587432098524957878034683703337818421444017138688124249984418618129271198533315382567321870421530631197748535214670955334626336610864667332292409879849256691109516143618601548909740241913509623043612196128165950518666022030715613684732364660868905014263913906515063908199378852318365059897299125404479443425166774299659811849233151555272883274028352688442408752811283289980625912673699546247341543333500147231430612750390307397135252069338173843322950701049061867539433130784798015655130384758155685236218010419650255596181934986315913233036096461905990236112681196023441843363334594927631946101716652913823717182394299216272538461776065694542297877071383198817036964588689811863210976900355735884624464835706291453052757101278872027965364479724025405448132748391794128826423835171949197209797145936887537198729130831738033911016128547415377377715951728084111627597186384924222802373441925469991983672192131287035585307966942713416391033882754318613643490100943197409047331014476299861725424423355612237435715825933382804986243892498222780715951762757847109475119033482241412025182688713728193104253478196128440176479531505057110722974314569915223451643121848657575786528197564843508958384722923534559464521215831657751471298708225909292655638836651120681943836904116252668710044560243704200663709001941185557160472044643696932850060046928140507119069261393993902735534545567470314903886022024639948260501762431969305640666366626090207048887438898907498152865444381862917382901051820869936382661868303915273264581286782806601337500096593364625146091723180312930347877421234679118454791311109897794648216922505629399956793483801699157439700537542134485874586856047286751065423341893839099110586465595113646061055156838541217459801807133163612573079611168343863767667307354583494789788316330129240800836356825939157113130978030516441716682518346573675934198084958947940983292500086389778563494693212473426103062713745077286156922596628573857905533240641849018451328284632709269753830867308409142247659474439973348130810986399417379789657010687026734161967196591599588537834822988270125605842365589539690306474965584147981310997157542043256395776070485100881578291408250777738559790129129407309462785944505859412273194812753225152324801503466519048228961406646890305102510916237770448486230229488966711380555607956620732449373374027836767300203011615227008921843515652121379215748206859356920790214502277133099987729459596952817044582181956080965811702798062669891205061560742325686842271306295009864421853470810407128917646906550836129916694778023822502789667843489199409657361704586786242554006942516693979292624714524945408858422726153755260071904336329196375777502176005195800693847635789586878489536872122898557806826518192703632099480155874455575175312736471421295536494084385586615208012115079075068553344489258693283859653013272046970694571546959353658571788894862333292465202735853188533370948455403336565356988172582528918056635488363743793348411845580168331827676834646291995605513470039147876808640322629616641560667508153710646723108461964247537490553744805318226002710216400980584497526023035640038083472053149941172965736785066421400842696497103241919182121213206939769143923368374709228267738708132236680086924703491586840991153098315412063566123187504305467536983230827966457417620806593177265685841681837966106144963432544111706941700222657817358351259821080769101961052229263879745049019254311900620561906577452416191913187533984049343976823310298465893318373015809592522829206820862230332585280119266496314441316442773003237792274712330696417149945532261035475145631290668854345426869788447742981777493710117614651624183616680254815296335308490849943006763654806102940094693750609845588558043970485914449584445079978497045583550685408745163316464118083123079704389849190506587586425810738422420591191941674182490452700288263983057950057341711487031187142834184499153456702915280104485145176055306971441761368582384102787659324662689978418319620312262421177391477208004883578333569204533935953254564897028558589735505751235129536540502842081022785248776603574246366673148680279486052445782673626230852978265057114624846595914210278122788941448163994973881884622768244851622051817076722169863265701654316919742651230041757329904473537672536845792754365412826553581858046840069367718605020070547247548400805530424951854495267247261347318174742180078574693465447136036975884118029408039616746946288540679172138601225419503819704538417268006398820656328792839582708510919958839448297775647152026132871089526163417707151642899487953564854553553148754978134009964854498635824847690590033116961303766127923464323129706628411307427046202032013368350385425360313636763575212604707425311209233402837482949453104727418969287275572027615272268283376741393425652653283068469997597097750005560889932685025049212884068274139881631540456490350775871680074055685724021758685439053228133770707415830756269628316955687424060527726485853050611356384851965918968649596335568216975437621430778665934730450164822432964891270709898076676625671517269062058815549666382573829274182082278960684488222983394816670984039024283514306813767253460126007269262969468672750794346190439996618979611928750519442356402644303271737341591281496056168353988188569484045342311424613559925272330064881627466723523751234311893442118885085079358163848994487544756331689213869675574302737953785262542329024881047181939037220666894702204258836895840939998453560948869946833852579675161882159410981624918741813364726965123980677561947912557957446471427868624053750576104204267149366084980238274680575982591331006919941904651906531171908926077949119217946407355129633864523035673345588033313197080365457184791550432654899559705862888286866606618021882248602144999973122164138170653480175510438406624412822803616648904257377640956326482825258407669045608439490325290526337532316509087681336614242398309530806549661879381949120033919489494065132398816642080088395554942237096734840072642705701165089075196155370186264797456381187856175457113400473810762763014953309735174180655479112660938034311378532532883533352024934365979129341284854970946826329075830193072665337782559314331110963848053940859283988907796210479847919686876539987477095912788727475874439806779824968278272200926449944559380414608770641941810440758269805688038949654616587983904660587645341810289907194293021774519976104495043196841503455514044820928933378657363052830619990077748726922998608279053171691876578860908941817057993404890218441559791092676862796597583952483926734883634745651687016166240642424241228961118010615682342539392180052483454723779219911228595914191877491793823340010078128326506710281781396029120914720100947878752551263372884222353869490067927664511634758101193875319657242121476038284774774571704578610417385747911301908583877890152334343013005282797038580359815182929600305682612091950943737325454171056383887047528950563961029843641360935641632589408137981511693338619797339821670761004607980096016024823096943043806956620123213650140549586250615282588033022908385812478469315720323233601899469437647726721879376826431828382603564520699468630216048874528424363593558622333506235945002890558581611275341783750455936126130852640828051213873177490200249552738734585956405160830583053770732533971552620444705429573538361113677523169972740292941674204423248113875075631319078272188864053374694213842169928862940479635305150560788126366206497231257579019598873041195626227343728900516561111094111745277965482790471250581999077498063821559376885546498822938985408291325129076478386322494781016753491693489288104203015610283386143827378160946341335383578340765314321417150655877547820252454780657301342277470616744241968952613164274104695474621483756288299771804186785084546965619150908695874251184435837306590951460980451247409411373899927822492983367796011015387096129749705566301637307202750734759922943792393824427421186158236161317886392553095117188421298508307238259729144142251579403883011359083331651858234967221259621812507058113759495525022747274674369887131926670769299199084467161228738858457584622726573330753735572823951616964175198675012681745429323738294143824814377139861906716657572945807804820559511881687188075212971832636442155336787751274766940790117057509819575084563565217389544179875074523854455200133572033332379895074393905312918212255259833790909463630202185353848854825062897715616963860712382771725621313460549401770413581731931763370136332252819127547191443450920711848838366818174263342949611870091503049165339464763717766439120798347494627397822171502090670190302469762151278521956142070806461631373236517853976292092025500288962012970141379640038055734949269073535145961208674796547733692958773628635660143767964038430796864138563447801328261284589184898528048048844180821639423974014362903481665458114454366460032490618763039502356402044530748210241366895196644221339200757479128683805175150634662569391937740283512075666260829890491877287833852178522792045771846965855278790447562192663992008409302075673925363735628390829817577902153202106409617373283598494066652141198183810884515459772895164572131897797907491941013148368544639616904607030107596818933741217575988165127000761262789169510406315857637534787420070222051070891257612361658026806815858499852631465878086616800733264676830206391697203064894405628195406190685242003053463156621891327309069687353181641094514288036605995220248248886711554429104721929134248346438705368508648749099178812670565665387191049721820042371492740164460943459845392536706132210616533085662021188968234005752675486101476993688738209584552211571923479686888160853631615862880150395949418529489227074410828207169303387818084936204018255222271010985653444817207470756019245915599431072949578197878590578940052540122867517142511184356437184053563024181225473266093302710397968091064939272722683035410467632591355279683837705019855234621222858410557119921731717969804339317707750755627056047831779844447637560254637033369247114220815519973691371975163241302748712199863404548248524570118553342675264715978310731245663429805221455494156252724028915333354349341217862037007260315279870771872491234494477147909520734761385425485311552773301030342476835865496093722324007154518129732692081058424090557725645803681462234493189708138897143299831347617799679712453782310703739151473878692119187566700319321281896803322696594459286210607438827416919465162267632540665070881071030394178860564893769816734159025925194611823642945652669372203155504700213598846292758012527715422016629954863130324912311029627923723899766416803497141226527931907636326136814145516376656559839788489381733082668779901962886932296597379951931621187215455287394170243669885593888793316744533363119541518404088283815193421234122820030950313341050704760159987985472529190665222479319715440331794836837373220821885773341623856441380700541913530245943913502554531886454796252260251762928374330465102361057583514550739443339610216229675461415781127197001738611494279501411253280621254775810512972088465263158094806633687670147310733540717710876615935856814098212967730759197382973441445256688770855324570888958320993823432102718224114763732791357568615421252849657903335093152776925505845644010552192644505312073756287744998163646332835816140330175813967359427327690448920361880386754955751806890058532927201493923500525845146706982628548257883267398735220457228239290207144822219885587102896991935873074277815159757620764023951243860202032596596250212578349957710085626386118233813318509014686577064010676278617583772772895892746039403930337271873850536912957126715066896688493880885142943609962012966759079225082275313812849851526902931700263136328942095797577959327635531162066753488651317323872438748063513314512644889967589828812925480076425186586490241111127301357197181381602583178506932244007998656635371544088454866393181708395735780799059730839094881804060935959190907473960904410150516321749681412100765719177483767355751000733616922386537429079457803200042337452807566153042929014495780629634138383551783599764708851349004856973697965238695845994595592090709058956891451141412684505462117945026611750166928260250950770778211950432617383223562437601776799362796099368975191394965033358507155418436456852616674243688920371037495328425927131610537834980740739158633817967658425258036737206469351248652238481341663808061505704829059890696451936440018597120425723007316410009916987524260377362177763430621616744884930810929901009517974541564251204822086714586849255132444266777127863728211331536224301091824391243380214046242223349153559516890816288487989988273630445372432174280215755777967021666317047969728172483392841015642274507271779269399929740308072770395013581545142494049026536105825409373114653104943382484379718606937214444600826798002471229489405761853892203425608302697052876621377373594394224114707074072902725461307358541745691419446487624357682397065703184168467540733466346293673983620004041400714054277632480132742202685393698869787607009590048684650626771363070979821006557285101306601010780633743344773073478653881742681230743766066643312775356466578603715192922768440458273283243808212841218776132042460464900801054731426749260826922155637405486241717031027919996942645620955619816454547662045022411449404749349832206807191352767986747813458203859570413466177937228534940031631599544093684089572533438702986717829770373332806801764639502090023941931499115009105276821119510999063166150311585582835582607179410052528583611369961303442790173811787412061288182062023263849861515656451230047792967563618345768105043341769543067538041113928553792529241347339481050532025708728186307291158911335942014761872664291564036371927602306283840650425441742335464549987055318726887926424102147363698625463747159744354943443899730051742525110877357886390946812096673428152585919924857640488055071329814299359911463239919113959926752576359007446572810191805841807342227734721397723218231771716916400108826112549093361186780575722391018186168549108500885272274374212086524852372456248697662245384819298671129452945515497030585919307198497105414181636968976131126744027009648667545934567059936995464500558921628047976365686133316563907395703272034389175415267500915011198856872708848195531676931681272892143031376818016445477367518353497857924276463354162433601125960252109501612264110346083465648235597934274056868849224458745493776752120324703803035491157544831295275891939893680876327685438769557694881422844311998595700727521393176837831770339130423060958999137314684569010422095161967070506420256733873446115655276175992727151877660010238944760539789516945708802728736225121076224091810066700883474737605156285533943565843756271241244457651663064085939507947550920463932245202535463634444791755661725962187199279186575490857852950012840229035061514937310107009446151011613712423761426722541732055959202782129325725947146417224977321316381845326555279604270541871496236585252458648933254145062642337885651464670604298564781968461593663288954299780722542264790400616019751975007460545150060291806638271497016110987951336633771378434416194053121445291855180136575558667615019373029691932076120009255065081583275508499340768797252369987023567931026804136745718956641431852679054717169962990363015545645090044802789055701968328313630718997699153166679208958768572290600915472919636381673596673959975710326015571920237348580521128117458610065152598883843114511894880552129145775699146577530041384717124577965048175856395072895337539755822087777506072339445587895905719156736"
      ]
     },
     "execution_count": 40,
     "metadata": {},
     "output_type": "execute_result"
    }
   ],
   "source": [
    "#Dieser Code erlaubt es, lange Zahlen auch auszugeben\n",
    "import sys\n",
    "sys.set_int_max_str_digits(10000000) \n",
    "#Das Ergebnis dieser Berechnung ist ein int, der ausgegeben wird\n",
    "2**2**2**2**2"
   ]
  },
  {
   "cell_type": "markdown",
   "id": "d8e6a2e4",
   "metadata": {},
   "source": [
    "<div class=\"definition\">\n",
    "    <h3>Float</h3>\n",
    "    Float (float) ist ein Datentyp, der die reellen Zahlen ℝ repräsentiert.<br>\n",
    "    Float steht für Floating Point Number, im Deutschen Gleitkommazahl.<br>\n",
    "    Vereinfacht gesagt speichert dieser Datentyp nur eine begrenzte Anzahl an Vor- bzw. Nachkommastellen. Die Präzision ist dadurch begrenzt.<br>\n",
    "    Eine reelle Zahl wie π=3,14159... kann daher nicht perfekt im Computer abgebildet werden.<br>\n",
    "</div>"
   ]
  },
  {
   "cell_type": "markdown",
   "id": "97bb7423",
   "metadata": {},
   "source": [
    "Durch die begrenzte Präzision von ´float´ kommt es zu sog. **Rundungsfehlern**.\n",
    "Diese müssen beim Arbeiten mit Nachkommastellen berücksichtigt werden."
   ]
  },
  {
   "cell_type": "markdown",
   "id": "dddc6ed1",
   "metadata": {},
   "source": [
    "Folgende mathematische Gleichung zeigt, wie die Multiplikation und Divison von 7 zu 1 das Ergebnis nicht verändert, egal, in welcher Reihenfolge die Multiplikationen und Divisionen durchgeführt werden."
   ]
  },
  {
   "cell_type": "markdown",
   "id": "c5ee0a24",
   "metadata": {},
   "source": [
    "$$\n",
    "  1=1 * \\frac{7^7}{7^7}=1 * 7^7 / 7^7 =1 / 7^7 * 7^7 =1(/7/7/7/7/7/7/7)*(7*7*7*7*7*7*7) = 1\n",
    "$$"
   ]
  },
  {
   "cell_type": "markdown",
   "id": "c2f71889",
   "metadata": {},
   "source": [
    "In Python kommt es aber je nach Reihenfolge zu Rundungsfehlern. "
   ]
  },
  {
   "cell_type": "code",
   "execution_count": 41,
   "id": "fc117a53",
   "metadata": {},
   "outputs": [
    {
     "name": "stdout",
     "output_type": "stream",
     "text": [
      "1.0\n"
     ]
    }
   ],
   "source": [
    "siebengeteilt = 1.0      /(7**7)\n",
    "eins = siebengeteilt     *(7**7)\n",
    "print(eins)"
   ]
  },
  {
   "cell_type": "code",
   "execution_count": 42,
   "id": "ba73d1dc",
   "metadata": {},
   "outputs": [
    {
     "name": "stdout",
     "output_type": "stream",
     "text": [
      "0.9999999999999998\n"
     ]
    }
   ],
   "source": [
    "siebengeteilt = 1.0      /7/7/7/7/7/7/7\n",
    "eins = siebengeteilt     *7*7*7*7*7*7*7\n",
    "print(eins)"
   ]
  },
  {
   "cell_type": "markdown",
   "id": "beb1cfc0",
   "metadata": {},
   "source": [
    "Im Scientific Programming müssen **Rundungsfehler** beim Arbeiten mit Nachkommastellen **immer berücksichtigt** werden!\n",
    "Die **Numerik** ist ein Teilgebiet der Informatik, das sich mit der Lösung mathematischer Probleme unter Minimierung der Rundungsfehler beschäftigt."
   ]
  },
  {
   "cell_type": "markdown",
   "id": "physical-warren",
   "metadata": {
    "slideshow": {
     "slide_type": "slide"
    }
   },
   "source": [
    "## Strings"
   ]
  },
  {
   "cell_type": "markdown",
   "id": "ca5ae7de",
   "metadata": {},
   "source": [
    "<div class=\"definition\">\n",
    "    <h3>String</h3>\n",
    "    Eine String ist ein Datentyp, der eine Zeichenkette repräsentiert.<br>\n",
    "    Zeichen sind Buchstaben, Ziffern, Satzzeichen, etc.\n",
    "</div>"
   ]
  },
  {
   "cell_type": "markdown",
   "id": "eligible-welsh",
   "metadata": {
    "slideshow": {
     "slide_type": "fragment"
    }
   },
   "source": [
    "\n",
    "* Strings können mittels Single- oder Double-Quotes definiert werden\n",
    "* Aber nicht in \"Strange-Quote's\" (\\`)"
   ]
  },
  {
   "cell_type": "code",
   "execution_count": 43,
   "id": "twenty-guitar",
   "metadata": {
    "slideshow": {
     "slide_type": "fragment"
    }
   },
   "outputs": [
    {
     "data": {
      "text/plain": [
       "'Hallo!'"
      ]
     },
     "execution_count": 43,
     "metadata": {},
     "output_type": "execute_result"
    }
   ],
   "source": [
    "'Hallo!'"
   ]
  },
  {
   "cell_type": "code",
   "execution_count": 44,
   "id": "dietary-anaheim",
   "metadata": {
    "slideshow": {
     "slide_type": "fragment"
    }
   },
   "outputs": [
    {
     "ename": "SyntaxError",
     "evalue": "invalid syntax (346021733.py, line 1)",
     "output_type": "error",
     "traceback": [
      "  \u001B[36mCell\u001B[39m\u001B[36m \u001B[39m\u001B[32mIn[44]\u001B[39m\u001B[32m, line 1\u001B[39m\n\u001B[31m    \u001B[39m\u001B[31m`Hallo!`\u001B[39m\n    ^\n\u001B[31mSyntaxError\u001B[39m\u001B[31m:\u001B[39m invalid syntax\n"
     ]
    }
   ],
   "source": [
    "`Hallo!`"
   ]
  },
  {
   "cell_type": "code",
   "execution_count": 45,
   "id": "starting-findings",
   "metadata": {
    "slideshow": {
     "slide_type": "fragment"
    }
   },
   "outputs": [
    {
     "data": {
      "text/plain": [
       "'Hallo!'"
      ]
     },
     "execution_count": 45,
     "metadata": {},
     "output_type": "execute_result"
    }
   ],
   "source": [
    "\"Hallo!\""
   ]
  },
  {
   "cell_type": "markdown",
   "id": "standard-purple",
   "metadata": {
    "slideshow": {
     "slide_type": "slide"
    }
   },
   "source": [
    "## String-Operationen"
   ]
  },
  {
   "cell_type": "markdown",
   "id": "e8f0a820",
   "metadata": {},
   "source": [
    "Die String-Konkatenation (engl. concatenate, '+') ist das Aneinanderreihen von Strings."
   ]
  },
  {
   "cell_type": "code",
   "execution_count": 46,
   "id": "integrated-rogers",
   "metadata": {
    "slideshow": {
     "slide_type": "fragment"
    }
   },
   "outputs": [
    {
     "data": {
      "text/plain": [
       "'Dies und Das'"
      ]
     },
     "execution_count": 46,
     "metadata": {},
     "output_type": "execute_result"
    }
   ],
   "source": [
    "\"Dies\" + \" und \" + \"Das\""
   ]
  },
  {
   "cell_type": "markdown",
   "id": "c52b0da2",
   "metadata": {},
   "source": [
    "Konkatenieren funktioniert allerdings nicht, wenn ein Operand kein String ist."
   ]
  },
  {
   "cell_type": "code",
   "execution_count": 47,
   "id": "5b869df3",
   "metadata": {},
   "outputs": [
    {
     "ename": "TypeError",
     "evalue": "can only concatenate str (not \"int\") to str",
     "output_type": "error",
     "traceback": [
      "\u001B[31m---------------------------------------------------------------------------\u001B[39m",
      "\u001B[31mTypeError\u001B[39m                                 Traceback (most recent call last)",
      "\u001B[36mCell\u001B[39m\u001B[36m \u001B[39m\u001B[32mIn[47]\u001B[39m\u001B[32m, line 1\u001B[39m\n\u001B[32m----> \u001B[39m\u001B[32m1\u001B[39m \u001B[33;43m\"\u001B[39;49m\u001B[33;43mDies\u001B[39;49m\u001B[33;43m\"\u001B[39;49m\u001B[43m \u001B[49m\u001B[43m+\u001B[49m\u001B[43m \u001B[49m\u001B[32;43m5\u001B[39;49m\n",
      "\u001B[31mTypeError\u001B[39m: can only concatenate str (not \"int\") to str"
     ]
    }
   ],
   "source": [
    "\"Dies\" + 5"
   ]
  },
  {
   "cell_type": "markdown",
   "id": "045623df",
   "metadata": {},
   "source": [
    "Möchte man einen String wiederholen, geht das - ganz *pythonic* mittels - '*'."
   ]
  },
  {
   "cell_type": "code",
   "execution_count": 48,
   "id": "designing-turtle",
   "metadata": {
    "slideshow": {
     "slide_type": "fragment"
    }
   },
   "outputs": [
    {
     "data": {
      "text/plain": [
       "'DiesDiesDies'"
      ]
     },
     "execution_count": 48,
     "metadata": {},
     "output_type": "execute_result"
    }
   ],
   "source": [
    "\"Dies\" * 3"
   ]
  },
  {
   "cell_type": "markdown",
   "id": "92d3075b",
   "metadata": {},
   "source": [
    "Auch hier sind die Datentypen wichtig."
   ]
  },
  {
   "cell_type": "code",
   "execution_count": 49,
   "id": "passing-juice",
   "metadata": {
    "slideshow": {
     "slide_type": "fragment"
    }
   },
   "outputs": [
    {
     "ename": "TypeError",
     "evalue": "can't multiply sequence by non-int of type 'str'",
     "output_type": "error",
     "traceback": [
      "\u001B[31m---------------------------------------------------------------------------\u001B[39m",
      "\u001B[31mTypeError\u001B[39m                                 Traceback (most recent call last)",
      "\u001B[36mCell\u001B[39m\u001B[36m \u001B[39m\u001B[32mIn[49]\u001B[39m\u001B[32m, line 1\u001B[39m\n\u001B[32m----> \u001B[39m\u001B[32m1\u001B[39m \u001B[33;43m\"\u001B[39;49m\u001B[33;43mDies\u001B[39;49m\u001B[33;43m\"\u001B[39;49m\u001B[43m \u001B[49m\u001B[43m*\u001B[49m\u001B[43m \u001B[49m\u001B[33;43m\"\u001B[39;49m\u001B[33;43mDas\u001B[39;49m\u001B[33;43m\"\u001B[39;49m\n",
      "\u001B[31mTypeError\u001B[39m: can't multiply sequence by non-int of type 'str'"
     ]
    }
   ],
   "source": [
    "\"Dies\" * \"Das\""
   ]
  },
  {
   "cell_type": "markdown",
   "id": "asian-thought",
   "metadata": {
    "slideshow": {
     "slide_type": "slide"
    }
   },
   "source": [
    "<div class=\"aufgabe\">\n",
    "    <h3>String-Operationen</h3>\n",
    "    Weisen Sie der Variable `k` den Wert \"kuckuck\" zu, indem Sie ein '+', ein '*' und maximal vier Buchstaben benutzen.\n",
    "</div>"
   ]
  },
  {
   "cell_type": "code",
   "execution_count": 50,
   "id": "2f9b8472",
   "metadata": {},
   "outputs": [
    {
     "ename": "NotImplementedError",
     "evalue": "",
     "output_type": "error",
     "traceback": [
      "\u001B[31m---------------------------------------------------------------------------\u001B[39m",
      "\u001B[31mNotImplementedError\u001B[39m                       Traceback (most recent call last)",
      "\u001B[36mCell\u001B[39m\u001B[36m \u001B[39m\u001B[32mIn[50]\u001B[39m\u001B[32m, line 4\u001B[39m\n\u001B[32m      1\u001B[39m \u001B[38;5;66;03m#Ergänzen Sie die Zuweisung hier\u001B[39;00m\n\u001B[32m      2\u001B[39m \n\u001B[32m      3\u001B[39m \u001B[38;5;66;03m# YOUR CODE HERE\u001B[39;00m\n\u001B[32m----> \u001B[39m\u001B[32m4\u001B[39m \u001B[38;5;28;01mraise\u001B[39;00m \u001B[38;5;167;01mNotImplementedError\u001B[39;00m()\n\u001B[32m      6\u001B[39m \u001B[38;5;66;03m#Dieser Code testet, ob Ihr Code das Richtige tut\u001B[39;00m\n\u001B[32m      7\u001B[39m scipro.Test(\u001B[33m\"\u001B[39m\u001B[33mString-Operationen\u001B[39m\u001B[33m\"\u001B[39m).equals(\u001B[33m\"\u001B[39m\u001B[33mk\u001B[39m\u001B[33m\"\u001B[39m, k, \u001B[33m\"\u001B[39m\u001B[33mkuckuck\u001B[39m\u001B[33m\"\u001B[39m).report()\n",
      "\u001B[31mNotImplementedError\u001B[39m: "
     ]
    }
   ],
   "source": [
    "#Ergänzen Sie die Zuweisung hier\n",
    "\n",
    "# YOUR CODE HERE\n",
    "raise NotImplementedError()\n",
    "\n",
    "#Dieser Code testet, ob Ihr Code das Richtige tut\n",
    "scipro.Test(\"String-Operationen\").equals(\"k\", k, \"kuckuck\").report()"
   ]
  },
  {
   "cell_type": "markdown",
   "id": "matched-tyler",
   "metadata": {
    "slideshow": {
     "slide_type": "fragment"
    }
   },
   "source": [
    "Die **Länge** eines Strings sit die Anzahl der Zeichen und kann mittels 'len()' ermittelt werden."
   ]
  },
  {
   "cell_type": "code",
   "execution_count": 51,
   "id": "constant-mistake",
   "metadata": {
    "slideshow": {
     "slide_type": "fragment"
    }
   },
   "outputs": [
    {
     "data": {
      "text/plain": [
       "13"
      ]
     },
     "execution_count": 51,
     "metadata": {},
     "output_type": "execute_result"
    }
   ],
   "source": [
    "len(\"Hallo Python!\")"
   ]
  },
  {
   "cell_type": "markdown",
   "id": "3613cd95",
   "metadata": {},
   "source": [
    "Der leere String hat die Länge 0."
   ]
  },
  {
   "cell_type": "code",
   "execution_count": 52,
   "id": "6c3dc153",
   "metadata": {},
   "outputs": [
    {
     "data": {
      "text/plain": [
       "0"
      ]
     },
     "execution_count": 52,
     "metadata": {},
     "output_type": "execute_result"
    }
   ],
   "source": [
    "len(\"\")"
   ]
  },
  {
   "cell_type": "markdown",
   "id": "e78a0019",
   "metadata": {},
   "source": [
    "Achtung: 'len()' erwartet einen String als Parameter."
   ]
  },
  {
   "cell_type": "code",
   "execution_count": 53,
   "id": "27b636a0",
   "metadata": {},
   "outputs": [
    {
     "ename": "TypeError",
     "evalue": "object of type 'int' has no len()",
     "output_type": "error",
     "traceback": [
      "\u001B[31m---------------------------------------------------------------------------\u001B[39m",
      "\u001B[31mTypeError\u001B[39m                                 Traceback (most recent call last)",
      "\u001B[36mCell\u001B[39m\u001B[36m \u001B[39m\u001B[32mIn[53]\u001B[39m\u001B[32m, line 1\u001B[39m\n\u001B[32m----> \u001B[39m\u001B[32m1\u001B[39m \u001B[38;5;28;43mlen\u001B[39;49m\u001B[43m(\u001B[49m\u001B[32;43m13\u001B[39;49m\u001B[43m)\u001B[49m\n",
      "\u001B[31mTypeError\u001B[39m: object of type 'int' has no len()"
     ]
    }
   ],
   "source": [
    "len(13)"
   ]
  },
  {
   "cell_type": "markdown",
   "id": "14bf7931",
   "metadata": {},
   "source": [
    "## Boolean- wahr oder falsch? "
   ]
  },
  {
   "cell_type": "markdown",
   "id": "e22fe749",
   "metadata": {},
   "source": [
    "<div class=\"definition\">\n",
    "    <h3>Boolean</h3>\n",
    "    Ein Boolean (bool) ist ein Datentyp, der einen logischen Wahrheitswert repräsentiert.<br>\n",
    "    Es gibt zwei mögliche Wahrheitswerte: 'True' (wahr) und 'False' (falsch)<br>\n",
    "</div>"
   ]
  },
  {
   "cell_type": "markdown",
   "id": "c7a3d497",
   "metadata": {},
   "source": [
    "Das Ergebnis eines Vergleichs ist ein Boolean."
   ]
  },
  {
   "cell_type": "code",
   "execution_count": 54,
   "id": "8b8a1017",
   "metadata": {},
   "outputs": [
    {
     "data": {
      "text/plain": [
       "True"
      ]
     },
     "execution_count": 54,
     "metadata": {},
     "output_type": "execute_result"
    }
   ],
   "source": [
    "1+1 == 2"
   ]
  },
  {
   "cell_type": "code",
   "execution_count": 55,
   "id": "b84a4000",
   "metadata": {},
   "outputs": [
    {
     "data": {
      "text/plain": [
       "True"
      ]
     },
     "execution_count": 55,
     "metadata": {},
     "output_type": "execute_result"
    }
   ],
   "source": [
    "\"mama\" == \"ma\" * 2"
   ]
  },
  {
   "cell_type": "markdown",
   "id": "32cf7d89",
   "metadata": {},
   "source": [
    "Python unterstützt auch andere Vergleichsoperatoren."
   ]
  },
  {
   "cell_type": "code",
   "execution_count": 56,
   "id": "04207c09",
   "metadata": {},
   "outputs": [
    {
     "data": {
      "text/plain": [
       "True"
      ]
     },
     "execution_count": 56,
     "metadata": {},
     "output_type": "execute_result"
    }
   ],
   "source": [
    "17 > 4"
   ]
  },
  {
   "cell_type": "code",
   "execution_count": 57,
   "id": "da35e5cc",
   "metadata": {},
   "outputs": [
    {
     "data": {
      "text/plain": [
       "False"
      ]
     },
     "execution_count": 57,
     "metadata": {},
     "output_type": "execute_result"
    }
   ],
   "source": [
    "5+1 < 5"
   ]
  },
  {
   "cell_type": "code",
   "execution_count": 58,
   "id": "b08365d3",
   "metadata": {},
   "outputs": [
    {
     "data": {
      "text/plain": [
       "True"
      ]
     },
     "execution_count": 58,
     "metadata": {},
     "output_type": "execute_result"
    }
   ],
   "source": [
    "7*7 <= 49"
   ]
  },
  {
   "cell_type": "code",
   "execution_count": 59,
   "id": "5b07863c",
   "metadata": {},
   "outputs": [
    {
     "data": {
      "text/plain": [
       "True"
      ]
     },
     "execution_count": 59,
     "metadata": {},
     "output_type": "execute_result"
    }
   ],
   "source": [
    "3*3 > 3+3"
   ]
  },
  {
   "cell_type": "markdown",
   "id": "25961049",
   "metadata": {},
   "source": [
    "Neben der Gleichheit (mathematisch `=`, Python '==') gibt es auch das ungleich (mathematisch `≠`, Python '!=')"
   ]
  },
  {
   "cell_type": "code",
   "execution_count": 60,
   "id": "5582cb3e",
   "metadata": {},
   "outputs": [
    {
     "data": {
      "text/plain": [
       "True"
      ]
     },
     "execution_count": 60,
     "metadata": {},
     "output_type": "execute_result"
    }
   ],
   "source": [
    "17 != 4"
   ]
  },
  {
   "cell_type": "code",
   "execution_count": 61,
   "id": "d1194839",
   "metadata": {},
   "outputs": [
    {
     "data": {
      "text/plain": [
       "True"
      ]
     },
     "execution_count": 61,
     "metadata": {},
     "output_type": "execute_result"
    }
   ],
   "source": [
    "\"mama\" != \"papa\""
   ]
  },
  {
   "cell_type": "markdown",
   "id": "8cf32a08",
   "metadata": {},
   "source": [
    "Python beinhaltet auch logische Operatoren: \n",
    "* Logisches Und (`∧`, Python 'and')\n",
    "* Logisches Oder (`∨`, Python 'or')\n",
    "* Logisches Nicht (`¬`, Python 'not()')\n",
    "\n",
    "Mehr dazu in der Logik-Vorlesung."
   ]
  },
  {
   "cell_type": "code",
   "execution_count": 62,
   "id": "edbc861b",
   "metadata": {},
   "outputs": [
    {
     "data": {
      "text/plain": [
       "False"
      ]
     },
     "execution_count": 62,
     "metadata": {},
     "output_type": "execute_result"
    }
   ],
   "source": [
    "True and False"
   ]
  },
  {
   "cell_type": "code",
   "execution_count": 63,
   "id": "b280fb60",
   "metadata": {},
   "outputs": [
    {
     "data": {
      "text/plain": [
       "True"
      ]
     },
     "execution_count": 63,
     "metadata": {},
     "output_type": "execute_result"
    }
   ],
   "source": [
    "True or False"
   ]
  },
  {
   "cell_type": "code",
   "execution_count": 64,
   "id": "8429f9c5",
   "metadata": {},
   "outputs": [
    {
     "data": {
      "text/plain": [
       "False"
      ]
     },
     "execution_count": 64,
     "metadata": {},
     "output_type": "execute_result"
    }
   ],
   "source": [
    "not(True)"
   ]
  },
  {
   "cell_type": "code",
   "execution_count": 65,
   "id": "0350b134",
   "metadata": {},
   "outputs": [
    {
     "data": {
      "text/plain": [
       "True"
      ]
     },
     "execution_count": 65,
     "metadata": {},
     "output_type": "execute_result"
    }
   ],
   "source": [
    "a,b,c=True,False,True\n",
    "a and b or c and not(b)"
   ]
  },
  {
   "cell_type": "markdown",
   "id": "07a92fd9",
   "metadata": {},
   "source": [
    "Achtung **Operatorenpräzenz**! 'and' wird vor 'or' ausgewertet"
   ]
  },
  {
   "cell_type": "code",
   "execution_count": 66,
   "id": "31b613f9",
   "metadata": {},
   "outputs": [
    {
     "data": {
      "text/plain": [
       "True"
      ]
     },
     "execution_count": 66,
     "metadata": {},
     "output_type": "execute_result"
    }
   ],
   "source": [
    "a,b,c=False,True,True\n",
    "a and c or b and c"
   ]
  },
  {
   "cell_type": "code",
   "execution_count": 67,
   "id": "6c845e6a",
   "metadata": {},
   "outputs": [
    {
     "data": {
      "text/plain": [
       "False"
      ]
     },
     "execution_count": 67,
     "metadata": {},
     "output_type": "execute_result"
    }
   ],
   "source": [
    "a,b,c=False,True,True\n",
    "a and (c or b) and c"
   ]
  },
  {
   "cell_type": "markdown",
   "id": "df37100c",
   "metadata": {},
   "source": [
    "<div class=\"aufgabe\">\n",
    "    <h3>Variablenbelegung</h3>\n",
    "    Weisen Sie den Variablen 'a,b,c' Wahrheitswerte zu, die die Variable 'f' wahr machen.\n",
    "</div>"
   ]
  },
  {
   "cell_type": "code",
   "execution_count": 68,
   "id": "bfaa229c",
   "metadata": {},
   "outputs": [
    {
     "ename": "NotImplementedError",
     "evalue": "",
     "output_type": "error",
     "traceback": [
      "\u001B[31m---------------------------------------------------------------------------\u001B[39m",
      "\u001B[31mNotImplementedError\u001B[39m                       Traceback (most recent call last)",
      "\u001B[36mCell\u001B[39m\u001B[36m \u001B[39m\u001B[32mIn[68]\u001B[39m\u001B[32m, line 3\u001B[39m\n\u001B[32m      1\u001B[39m \u001B[38;5;66;03m#Ergänzen Sie die Zuweisung hier\u001B[39;00m\n\u001B[32m      2\u001B[39m \u001B[38;5;66;03m# YOUR CODE HERE\u001B[39;00m\n\u001B[32m----> \u001B[39m\u001B[32m3\u001B[39m \u001B[38;5;28;01mraise\u001B[39;00m \u001B[38;5;167;01mNotImplementedError\u001B[39;00m()\n\u001B[32m      5\u001B[39m f= \u001B[38;5;129;01mnot\u001B[39;00m(a) \u001B[38;5;129;01mand\u001B[39;00m (a \u001B[38;5;129;01mor\u001B[39;00m b \u001B[38;5;129;01mor\u001B[39;00m c) \u001B[38;5;129;01mand\u001B[39;00m (a \u001B[38;5;129;01mor\u001B[39;00m \u001B[38;5;129;01mnot\u001B[39;00m(b))\n\u001B[32m      6\u001B[39m \u001B[38;5;28mprint\u001B[39m(f)\n",
      "\u001B[31mNotImplementedError\u001B[39m: "
     ]
    }
   ],
   "source": [
    "#Ergänzen Sie die Zuweisung hier\n",
    "# YOUR CODE HERE\n",
    "raise NotImplementedError()\n",
    "\n",
    "f= not(a) and (a or b or c) and (a or not(b))\n",
    "print(f)\n",
    "\n",
    "\n",
    "#Dieser Code testet, ob Ihr Code das Richtige tut\n",
    "scipro.Test(\"Variablenbelegung\").equals(\"f\", f, True).report()"
   ]
  },
  {
   "cell_type": "markdown",
   "id": "4c555f55",
   "metadata": {},
   "source": [
    "# Input und Output"
   ]
  },
  {
   "cell_type": "markdown",
   "id": "e5eeb934",
   "metadata": {},
   "source": [
    "Wir haben die Funktion 'print()' bereits verwendet, um Test auszugeben."
   ]
  },
  {
   "cell_type": "code",
   "execution_count": 69,
   "id": "e73bd4b1",
   "metadata": {},
   "outputs": [
    {
     "name": "stdout",
     "output_type": "stream",
     "text": [
      "Kennen wir schon.\n"
     ]
    }
   ],
   "source": [
    "print(\"Kennen wir schon.\")"
   ]
  },
  {
   "cell_type": "code",
   "execution_count": 70,
   "id": "ef63a108",
   "metadata": {},
   "outputs": [
    {
     "name": "stdout",
     "output_type": "stream",
     "text": [
      "Funktioniert mit mehr als 1 Parameter\n"
     ]
    }
   ],
   "source": [
    "print(\"Funktioniert\", \"mit\", \"mehr\", \"als\",1,\"Parameter\")"
   ]
  },
  {
   "cell_type": "markdown",
   "id": "9839e127",
   "metadata": {},
   "source": [
    "Mittels einem sogenannten **Format-String** kann man beeinflussen, wie Zahlen ausgegeben werden."
   ]
  },
  {
   "cell_type": "code",
   "execution_count": 71,
   "id": "8982706e",
   "metadata": {},
   "outputs": [
    {
     "name": "stdout",
     "output_type": "stream",
     "text": [
      "Mit dem f am Anfang ist es ein Formatstring: Hallo\n"
     ]
    }
   ],
   "source": [
    "parameter = \"Hallo\"\n",
    "print(f\"Mit dem f am Anfang ist es ein Formatstring: {parameter}\")"
   ]
  },
  {
   "cell_type": "code",
   "execution_count": 72,
   "id": "c5d1d07a",
   "metadata": {},
   "outputs": [
    {
     "name": "stdout",
     "output_type": "stream",
     "text": [
      "Ausgabe ohne Format: 0.3333333333333333\n",
      "Ausgabe mit zwei Nachkommastellen: 0.33\n"
     ]
    }
   ],
   "source": [
    "drittel = 1.0/3.0\n",
    "print(\"Ausgabe ohne Format:\", drittel)\n",
    "print(f\"Ausgabe mit zwei Nachkommastellen: {drittel:.2}\")"
   ]
  },
  {
   "cell_type": "code",
   "execution_count": 73,
   "id": "69f5d0d2",
   "metadata": {},
   "outputs": [
    {
     "name": "stdout",
     "output_type": "stream",
     "text": [
      "   1\n",
      "  10\n",
      " 100\n",
      "1000\n"
     ]
    }
   ],
   "source": [
    "eins,zehn,hundert,tausend=1,10,100,1000\n",
    "print(f\"{eins:4}\")\n",
    "print(f\"{zehn:4}\")\n",
    "print(f\"{hundert:4}\")\n",
    "print(f\"{tausend:4}\")\n"
   ]
  },
  {
   "cell_type": "markdown",
   "id": "577b2f5d",
   "metadata": {},
   "source": [
    "'print()' gibt auch direkt Ergebnisse von Funktionen und Operationen aus, wenn die Datentypen passen."
   ]
  },
  {
   "cell_type": "code",
   "execution_count": 74,
   "id": "c426989f",
   "metadata": {},
   "outputs": [
    {
     "name": "stdout",
     "output_type": "stream",
     "text": [
      "Hallo\n"
     ]
    }
   ],
   "source": [
    "print(\"Ha\" + 2 * \"l\" + \"o\")"
   ]
  },
  {
   "cell_type": "code",
   "execution_count": 75,
   "id": "ca08601a",
   "metadata": {},
   "outputs": [
    {
     "name": "stdout",
     "output_type": "stream",
     "text": [
      "6\n"
     ]
    }
   ],
   "source": [
    "print(len(\"Lineal\"))"
   ]
  },
  {
   "cell_type": "code",
   "execution_count": 76,
   "id": "506d2a56",
   "metadata": {},
   "outputs": [
    {
     "name": "stdout",
     "output_type": "stream",
     "text": [
      "Lineal\n"
     ]
    },
    {
     "ename": "TypeError",
     "evalue": "object of type 'NoneType' has no len()",
     "output_type": "error",
     "traceback": [
      "\u001B[31m---------------------------------------------------------------------------\u001B[39m",
      "\u001B[31mTypeError\u001B[39m                                 Traceback (most recent call last)",
      "\u001B[36mCell\u001B[39m\u001B[36m \u001B[39m\u001B[32mIn[76]\u001B[39m\u001B[32m, line 1\u001B[39m\n\u001B[32m----> \u001B[39m\u001B[32m1\u001B[39m \u001B[38;5;28;43mlen\u001B[39;49m\u001B[43m(\u001B[49m\u001B[38;5;28;43mprint\u001B[39;49m\u001B[43m(\u001B[49m\u001B[33;43m\"\u001B[39;49m\u001B[33;43mLineal\u001B[39;49m\u001B[33;43m\"\u001B[39;49m\u001B[43m)\u001B[49m\u001B[43m)\u001B[49m\n",
      "\u001B[31mTypeError\u001B[39m: object of type 'NoneType' has no len()"
     ]
    }
   ],
   "source": [
    "len(print(\"Lineal\"))"
   ]
  },
  {
   "cell_type": "markdown",
   "id": "f41fba92",
   "metadata": {},
   "source": [
    "Mittels 'input()' wird das Programm interaktiv. Der User muss einen Text eingeben, der in einer Variable gespeichert wird."
   ]
  },
  {
   "cell_type": "code",
   "execution_count": null,
   "id": "b616d77a",
   "metadata": {},
   "outputs": [],
   "source": [
    "print(\"Bitte gib deinen Namen ein.\")\n",
    "ein = input()\n",
    "print(f\"Hallo, {ein}!\")"
   ]
  },
  {
   "cell_type": "markdown",
   "id": "fdc03345",
   "metadata": {},
   "source": [
    "Achtung, der Datentyp der Eingabe ist String, auch wenn man nur Zahlen eingibt."
   ]
  },
  {
   "cell_type": "code",
   "execution_count": null,
   "id": "b050a5ba",
   "metadata": {},
   "outputs": [],
   "source": [
    "print(\"Bitte gib eine Zahl ein.\")\n",
    "num = input()\n",
    "doublednum = 2 * num\n",
    "print(num,\"* 2 =\",doublednum)"
   ]
  },
  {
   "cell_type": "markdown",
   "id": "80fbf64b",
   "metadata": {},
   "source": [
    "Mittels **Typumwandlung** kann man Strings aber in einen anderen Datentyp umwandeln."
   ]
  },
  {
   "cell_type": "code",
   "execution_count": null,
   "id": "90e1e652",
   "metadata": {},
   "outputs": [],
   "source": [
    "str_seven = \"7\"\n",
    "print(\"String: \", str_seven + str_seven)\n",
    "int_seven = int(str_seven)\n",
    "print(\"Integer:\", int_seven + int_seven)\n",
    "float_seven = float(str_seven)\n",
    "print(\"Float:  \", float_seven + float_seven)"
   ]
  },
  {
   "cell_type": "markdown",
   "id": "42a1fc7b",
   "metadata": {},
   "source": [
    "<div class=\"aufgabe\">\n",
    "    <h3>Integer-Eingabe</h3>\n",
    "    Korrigieren Sie das Programm von oben so, dass es die  vom User eingegebene Zahl verdoppelt.\n",
    "</div>"
   ]
  },
  {
   "cell_type": "code",
   "execution_count": null,
   "id": "0c9f298f",
   "metadata": {},
   "outputs": [],
   "source": [
    "#Korrigieren Sie das Originalprogramm\n",
    "print(\"Bitte gib eine Zahl ein.\")\n",
    "num = input()\n",
    "doublednum = 2 * num\n",
    "print(num,\"* 2 =\",doublednum)"
   ]
  },
  {
   "cell_type": "markdown",
   "id": "b042f4c9",
   "metadata": {},
   "source": [
    "Was passiert, wenn Sie in Ihr Programm einen Wert eingeben, der keine Zahl ist? Warum funktioniert es nicht?"
   ]
  },
  {
   "cell_type": "markdown",
   "id": "dd6298b6",
   "metadata": {},
   "source": [
    "# Module"
   ]
  },
  {
   "cell_type": "markdown",
   "id": "8d8bec6f",
   "metadata": {},
   "source": [
    "Module sind Dateien, die Python-Code enthalten.\n",
    "Mittels Modulen können Funktionen etc., die man öfters braucht, wiederverwendet werden. Man spricht auch von Softwarebibliotheken.\n",
    "Für Python gibt es zahlreiche mitgelieferte bzw. von Drittanbietern bereitgestelle Module."
   ]
  },
  {
   "cell_type": "markdown",
   "id": "055a1882",
   "metadata": {},
   "source": [
    "Vor der Verwendung muss ein Modul importiert werden. Auf die Elemente des Moduls wird mittels des Modulnamens zugegriffen."
   ]
  },
  {
   "cell_type": "code",
   "execution_count": null,
   "id": "711cfb28",
   "metadata": {},
   "outputs": [],
   "source": [
    "import math\n",
    "math.sqrt(16)"
   ]
  },
  {
   "cell_type": "markdown",
   "id": "c5490011",
   "metadata": {},
   "source": [
    "Das Modul 'math' bietet weitere mathematische Funktionen und Konstanten, z.B.\n",
    "* Quadratwurzel ('math.sqrt()'\n",
    "* $e^{x}$ ('math.exp(x)')\n",
    "* Natürlicher Logarithmus ('math.log(x)')\n",
    "* Logarithmus zur Basis 2 ('math.log2(x)')\n",
    "* Logarithmus zur Basis 10 ('math.log10(x)')\n",
    "* Kreiszahl π ('math.pi')\n",
    "* Eulersche Zahl $e$ ('math.e')\n",
    "* Sinus, Cosinus, Tangens ('math.sin()', 'math.cos()', 'math.tan()')"
   ]
  },
  {
   "cell_type": "code",
   "execution_count": null,
   "id": "90e1aaba-75dd-4075-82e8-2aac43db2fc4",
   "metadata": {},
   "outputs": [],
   "source": [
    "import math\n",
    "math.pi"
   ]
  },
  {
   "cell_type": "code",
   "execution_count": null,
   "id": "2782340c-b332-49c4-957c-f6c3add46f89",
   "metadata": {},
   "outputs": [],
   "source": [
    "math.sin(math.pi/2.0)"
   ]
  },
  {
   "cell_type": "code",
   "execution_count": null,
   "id": "b5e52cd9-65ad-430c-9ae5-ef9cb7144df7",
   "metadata": {},
   "outputs": [],
   "source": [
    "math.log10(100000)"
   ]
  },
  {
   "cell_type": "markdown",
   "id": "3a618fd5-883c-4575-a0f9-6247f9ccd19e",
   "metadata": {},
   "source": [
    "Das Modul math enthält einige Funktionen, die wir zu Übungszwecken selbst entwickeln wollen.\n",
    "In der Praxis erfindet man das Rad natürlich nicht neu."
   ]
  },
  {
   "cell_type": "markdown",
   "id": "9a354bc1-f6ba-4e5f-b1f3-2449484e9202",
   "metadata": {},
   "source": [
    "<div class=\"aufgabe\">\n",
    "    <h3>Kreisumfang</h3>\n",
    "    Berechnen Sie den Kreisumfang 'u' und die Kreisfläche 'a' abhängig vom Radius 'r'.\n",
    "</div>"
   ]
  },
  {
   "cell_type": "code",
   "execution_count": null,
   "id": "8e88fae4-2a45-4928-9a3f-cd6e1aa67961",
   "metadata": {},
   "outputs": [],
   "source": [
    "import math\n",
    "print(\"Bitte gib den Radius ein.\")\n",
    "r = float(input())\n",
    "#Ergänzen Sie die Berechnung für u\n",
    "# YOUR CODE HERE\n",
    "raise NotImplementedError()"
   ]
  },
  {
   "cell_type": "markdown",
   "id": "7b105667-56d1-41ab-98d4-053f790973bc",
   "metadata": {},
   "source": [
    "# Kontrollfluss"
   ]
  },
  {
   "cell_type": "markdown",
   "id": "7ba7bf79-e023-4bc9-90c9-b91cb0bfcb16",
   "metadata": {},
   "source": [
    "# if"
   ]
  },
  {
   "cell_type": "markdown",
   "id": "57682caa-08e0-40a9-8eed-1de37655ecda",
   "metadata": {},
   "source": [
    "Die if-Anweisung ermöglicht eine **Verzweigung** im Code abhängig von einer booleschen Bedingung."
   ]
  },
  {
   "cell_type": "markdown",
   "id": "e0a625e8-5020-44fa-b108-b0dc775a48c4",
   "metadata": {},
   "source": [
    "![title](./images/ifelse.png)"
   ]
  },
  {
   "cell_type": "markdown",
   "id": "8dca75ff-e232-4f94-9367-432f9001bb13",
   "metadata": {},
   "source": [
    "Das Bild zeigt den gewünschten Programmablauf. Der User gibt eine Zahl ein, um die Wurzel zu berechnen.\n",
    "Das geht aber nur, wenn die Zahl nicht negativ ist. Wird eine negative Zahl eingegeben, soll stattdessen eine Fehlermeldung ausgegeben werden."
   ]
  },
  {
   "cell_type": "code",
   "execution_count": null,
   "id": "ac5a390c-4404-43e4-86da-09dd407b6f8d",
   "metadata": {},
   "outputs": [],
   "source": [
    "import math\n",
    "print(\"Bitte gib eine Zahl ein.\")\n",
    "num = float(input())\n",
    "if num >= 0:\n",
    "    wurzel = math.sqrt(num)\n",
    "    print(f\"Die Wurzel von {num} ist {wurzel:.3}\")\n",
    "else:\n",
    "    print(\"Die Wurzel aus negativen Zahlen kann nicht berechnet werden.\")\n"
   ]
  },
  {
   "cell_type": "markdown",
   "id": "f0cb36de-d5bd-4a70-b1ed-69ef0e6eacad",
   "metadata": {},
   "source": [
    "Im Gegensatz zu anderen Programmiersprachen benutzt Python **Einrückungen**, um Code zu strukturieren.\n",
    "\n",
    "Einrückungen können mit ´tab´ hinzugefügt und ´Umschalt+tab´ entfernt werden."
   ]
  },
  {
   "cell_type": "code",
   "execution_count": null,
   "id": "aa4e5ac9-75a7-4ba7-a2d8-cb5d3a1bfd39",
   "metadata": {},
   "outputs": [],
   "source": [
    "if 3>5:\n",
    "    print(\"if-Zweig wird nie ausgegeben, denn 3<5.\")\n",
    "else:\n",
    "    print(\"else-Zweig Wird ausgegeben, denn 3<5.\")\n",
    "print(\"Wird immer ausgegeben, gehört nicht mehr zur Verzweigung.\")\n",
    "    \n",
    "\n",
    "\n"
   ]
  },
  {
   "cell_type": "code",
   "execution_count": null,
   "id": "e6e899c8-4473-47fb-b31c-cfb1c243bb2a",
   "metadata": {},
   "outputs": [],
   "source": [
    "if 4>2:\n",
    "print(\"Falsche Einrückungen sorgen für Fehler\")"
   ]
  },
  {
   "cell_type": "markdown",
   "id": "b9ad6a7b-f1e9-4e3a-94d2-883d0c9e8e5c",
   "metadata": {},
   "source": [
    "Mehr als zwei Verzweigungen sind mittels else-if ('elif') möglich. Python prüft die Bedingungen der Reihe nach von oben nach unten."
   ]
  },
  {
   "cell_type": "code",
   "execution_count": null,
   "id": "cff56a3e-c80b-44c7-8148-92cf6d73f40f",
   "metadata": {},
   "outputs": [],
   "source": [
    "print(\"Bitte gib dein Alter ein.\")\n",
    "age = int(input())\n",
    "if age>=67:\n",
    "    print(\"Senior-Senior-Student.\")\n",
    "elif age>=35:\n",
    "    print(\"Senior-Student oder Dozent?\")\n",
    "elif age>=20:\n",
    "    print(\"Student.\")\n",
    "elif age>=18:\n",
    "    print(\"Erstie!\")\n",
    "else:\n",
    "    print(\"Ist heute Schülerinfotag?\")"
   ]
  },
  {
   "cell_type": "markdown",
   "id": "58ff1255-a4f3-487e-ac43-35bdc663cad3",
   "metadata": {},
   "source": [
    "<div class=\"satz\">\n",
    "    <h3>Binomische Formeln</h3>\n",
    "    Die binomischen Formeln helfen beim Ausmultiplizieren von Klammern:<br>\n",
    "1. binomische Formel: $(a+b)^2 = a^2 + 2ab + b^2$<br>\n",
    "2. binomische Formel: $(a-b)^2 = a^2 - 2ab + b^2$<br>\n",
    "3. binomische Formel: $(a+b)(a-b) = a^2 - b^2$<br>\n",
    "</div>\n",
    "\n",
    "\n"
   ]
  },
  {
   "cell_type": "markdown",
   "id": "f0be1156-ea7b-46d4-9115-4c47b36c7d67",
   "metadata": {},
   "source": [
    "<div class=\"aufgabe\">\n",
    "    <h3>Binomische Formeln</h3>\n",
    "    Fragen Sie den User nach den Variablen 'a' und 'b', sowie welche der binomischen Formeln (1,2,3) verwendet werden soll.<br>\n",
    "    Zeigen Sie abhängig von der Eingabe die binomische Formel sowie das Ergebnis an.\n",
    "</div>"
   ]
  },
  {
   "cell_type": "code",
   "execution_count": null,
   "id": "3a02b9d2-a6e6-4ed6-8794-d5fc3018c592",
   "metadata": {},
   "outputs": [],
   "source": [
    "#Schreiben Sie Ihr Programm hier\n",
    "\n",
    "# YOUR CODE HERE\n",
    "raise NotImplementedError()\n",
    "\n",
    "#Beispielausgabe: (3.0 + 4.0)² = 3.0² + 2.0*3.0*4.0 + 4.0² = 49.0"
   ]
  },
  {
   "cell_type": "markdown",
   "id": "a1a0a9e0-29bc-4717-9b65-fedb81d4cbb9",
   "metadata": {},
   "source": [
    "# for"
   ]
  },
  {
   "cell_type": "markdown",
   "id": "4b91b18a-c539-4d72-9975-98de577dbb33",
   "metadata": {},
   "source": [
    "Die **for-Schleife** erlaubt es, Code zu wiederholen. Eine **Schleifenvariable** zählt dabei die Durchläufe."
   ]
  },
  {
   "cell_type": "code",
   "execution_count": null,
   "id": "1d717ba3-e771-4ab5-bfe7-24be21dfe773",
   "metadata": {},
   "outputs": [],
   "source": [
    "for x in range(10):\n",
    "  print(f\"Schleifendurchlauf Nr.{x}\")"
   ]
  },
  {
   "cell_type": "markdown",
   "id": "9ced4dac-12ae-4bd6-89ec-2339e54be55e",
   "metadata": {},
   "source": [
    "Mittels 'range(min,max)' kann der **Wertebereich** angegeben werden. Dabei ist min inklusiv (also mit dabei) und max exklusiv (also nicht dabei)."
   ]
  },
  {
   "cell_type": "code",
   "execution_count": null,
   "id": "01a83057-76e4-4423-89a4-3d2a52fae72a",
   "metadata": {},
   "outputs": [],
   "source": [
    "for x in range(3,7):\n",
    "  print(f\"x={x}\")"
   ]
  },
  {
   "cell_type": "markdown",
   "id": "c1c6608b-484e-48b8-96f6-97e1793894b7",
   "metadata": {},
   "source": [
    "Es kann auch als dritter Parameter eine **Schrittweite** angegeben werden."
   ]
  },
  {
   "cell_type": "code",
   "execution_count": null,
   "id": "7c28d407-0763-4a1b-b280-ca75113b01a5",
   "metadata": {},
   "outputs": [],
   "source": [
    "for x in range(1,10,2):\n",
    "  print(f\"x={x}\")"
   ]
  },
  {
   "cell_type": "markdown",
   "id": "ee9c181a-ebf3-4fc1-822b-0252fa48e051",
   "metadata": {},
   "source": [
    "Mit negativer Schrittweite ist auch ein **Countdown** möglich."
   ]
  },
  {
   "cell_type": "code",
   "execution_count": null,
   "id": "34e9b3e9-730f-436c-aac0-1b24e1c121c1",
   "metadata": {},
   "outputs": [],
   "source": [
    "for x in range(10,0,-1):\n",
    "  print(f\"Schleifendurchlauf Nr.{x}\")"
   ]
  },
  {
   "cell_type": "markdown",
   "id": "902e6e9f-4936-4111-8c14-f21f3b8af986",
   "metadata": {},
   "source": [
    "<div class=\"aufgabe\">\n",
    "    <h3>Das Ein-Mal-Eins</h3>\n",
    "    In der Grundschule lernt man das Multiplizieren mit Tabellen.<br>\n",
    "    Geben Sie abhängig vom Eingabewert 'n' mithilfe einer for-Schleife eine solche Tabelle aus. \n",
    "</div>"
   ]
  },
  {
   "cell_type": "code",
   "execution_count": null,
   "id": "09d56e4c-b063-423e-84ad-861135eea5b5",
   "metadata": {},
   "outputs": [],
   "source": [
    "#Schreiben Sie Ihr Programm hier\n",
    "\n",
    "# YOUR CODE HERE\n",
    "raise NotImplementedError()\n",
    "    \n",
    "#Beispielausgabe:\n",
    "# 1*7=7\n",
    "# 2*7=14\n",
    "# 3*7=21\n",
    "# 4*7=28\n",
    "# 5*7=35\n",
    "# 6*7=42\n",
    "# 7*7=49\n",
    "# 8*7=56\n",
    "# 9*7=63\n",
    "#10*7=70"
   ]
  },
  {
   "cell_type": "markdown",
   "id": "96ffb2ed-583e-4e9a-88cd-5798f638f531",
   "metadata": {},
   "source": [
    "Schleifen lassen sich auch ineinander **verschachteln**."
   ]
  },
  {
   "cell_type": "code",
   "execution_count": null,
   "id": "88c5563a-19ed-4d9e-8ecf-ab164509f311",
   "metadata": {},
   "outputs": [],
   "source": [
    "for x in range(1,4):\n",
    "    for y in range(1,4):\n",
    "        print(f\"{x}/{y}\")"
   ]
  },
  {
   "cell_type": "markdown",
   "id": "4bbcf041-84d6-4e8d-9433-ccbc9289e150",
   "metadata": {},
   "source": [
    "Die Parameter der Schleife können auch mit Variablen spezifiziert werden."
   ]
  },
  {
   "cell_type": "code",
   "execution_count": null,
   "id": "8e3c9e03-41b3-47b0-a5e2-185c24305793",
   "metadata": {},
   "outputs": [],
   "source": [
    "min = 1\n",
    "max = min + 4\n",
    "summe = 0\n",
    "for x in range(min,max):\n",
    "      summe = summe + x\n",
    "print(f\"Die Summe der Zahlen von {min}...{max -1} ist {summe}\")"
   ]
  },
  {
   "cell_type": "markdown",
   "id": "cdfeb6ce-69f5-43f9-bddb-475f13fa7958",
   "metadata": {},
   "source": [
    "Mittels 'continue' kann ein Schleifendurchlauf übersprungen werden."
   ]
  },
  {
   "cell_type": "code",
   "execution_count": null,
   "id": "9dda4064-d980-4e81-a8fd-6354c85e7133",
   "metadata": {},
   "outputs": [],
   "source": [
    "for x in range(1,5):\n",
    "    if x==3:\n",
    "        continue\n",
    "    print(f\"x={x}\")"
   ]
  },
  {
   "cell_type": "markdown",
   "id": "1ee750c8-5fdb-4905-b47f-ee010c64e5b8",
   "metadata": {},
   "source": [
    "<div class=\"definition\">\n",
    "    <h3>Fakultät</h3>\n",
    "    Die Fakultät einer Zahl $n$ ist das Produkt aller natürlichen Zahlen von $1..n$.<br>\n",
    "$$\n",
    "        n!=\\prod_{i=1}^{n}i=1\\cdot 2 \\cdot 3 \\cdot \\cdot \\cdot n\n",
    "$$\n",
    "</div>\n"
   ]
  },
  {
   "cell_type": "markdown",
   "id": "1591d768-6fe0-40aa-b867-72f0670d7c72",
   "metadata": {},
   "source": [
    "<div class=\"aufgabe\">\n",
    "    <h3>Fakultät</h3>\n",
    "    Fragen Sie den User nach der Variable 'n' und berechnen Sie die Fakultät.<br>\n",
    "    Verwenden Sie NICHT das math-Modul.\n",
    "</div>"
   ]
  },
  {
   "cell_type": "code",
   "execution_count": null,
   "id": "7f0fe71e-f498-4168-a463-a9046748b010",
   "metadata": {},
   "outputs": [],
   "source": [
    "#Schreiben Sie Ihr Programm hier\n",
    "\n",
    "# YOUR CODE HERE\n",
    "raise NotImplementedError()\n",
    "\n",
    "#Beispielausgabe: 5!=120"
   ]
  },
  {
   "cell_type": "markdown",
   "id": "c32e2d20-b8c6-4c87-af3b-28901598c5df",
   "metadata": {},
   "source": [
    "## while"
   ]
  },
  {
   "cell_type": "markdown",
   "id": "3e64a05c-0a5f-4966-ad97-2baf646bfbef",
   "metadata": {},
   "source": [
    "Mittels der while-Schleife lässt sich Code wiederholen, so lange eine boolesche **Bedingung wahr** ist."
   ]
  },
  {
   "cell_type": "code",
   "execution_count": null,
   "id": "0846cc88-b81d-4241-b5f6-37879474bd08",
   "metadata": {},
   "outputs": [],
   "source": [
    "song = \"\"\n",
    "while len(song) < 10:\n",
    "    song = song + \"La\"\n",
    "print(song)"
   ]
  },
  {
   "cell_type": "markdown",
   "id": "5a38eea8-12ee-4178-af63-6a1fdf48a246",
   "metadata": {},
   "source": [
    "Achtung, die while-Schleife läuft potenziell endlos. Bei einer solchen **Endlosschleife** läuft das Programm für immer weiter.\n",
    "In Jupyter muss dann der Kernel neu gestartet werden (Menüpunkt Kernel)."
   ]
  },
  {
   "cell_type": "code",
   "execution_count": null,
   "id": "04d72b2c-c42a-4337-b749-29405711f055",
   "metadata": {},
   "outputs": [],
   "source": [
    "while 1+1==2:\n",
    "    print(\"Achtung, Endlosschleife!\")"
   ]
  },
  {
   "cell_type": "markdown",
   "id": "beada81c-2590-4a1a-9e3c-01166c2c6f7a",
   "metadata": {},
   "source": [
    "Mittels 'break' kann eine Schleife manuell abgebrochen werden."
   ]
  },
  {
   "cell_type": "code",
   "execution_count": null,
   "id": "ccfe020d-3140-4b68-a351-8b2ea81e5ff3",
   "metadata": {},
   "outputs": [],
   "source": [
    "sum = 0.0\n",
    "print(\"Zahlen aufsummieren. 'fertig' eingeben zum Abbrechen.\")\n",
    "while True:\n",
    "    f = input()\n",
    "    if f == \"fertig\":\n",
    "        break\n",
    "    sum = sum + float(f)\n",
    "print(f\"Summe={sum}\")"
   ]
  },
  {
   "cell_type": "markdown",
   "id": "1135e720-e5e7-4bf2-bfe7-a2b1e89abf4e",
   "metadata": {},
   "source": [
    "<div class=\"definition\">\n",
    "    <h3>Modulo</h3>\n",
    "    Der Modulo-Operator $\\%$ berechnet den Rest einer ganzzahligen Divison. Hat $a // b$ den Rest $m$, so ist dies der Modulo. <br>\n",
    "$$\n",
    "    a \\% b = a - \\lfloor{}(\\frac{a}{b})\\rfloor{}\\cdot b\n",
    "$$\n",
    "    Der Modulo nimmt immer einen Wert von $0$ bis $b-1$ an.\n",
    "</div>"
   ]
  },
  {
   "cell_type": "markdown",
   "id": "7f1d4d9f-541c-4dbd-841c-2503dc9e2a06",
   "metadata": {},
   "source": [
    "Den Modulo könnte man mit eine while-Schleife berechnen."
   ]
  },
  {
   "cell_type": "code",
   "execution_count": null,
   "id": "2108f5b4-4943-4dd4-bff5-4a31ea984f56",
   "metadata": {},
   "outputs": [],
   "source": [
    "a = 17\n",
    "b = 3\n",
    "rest = a\n",
    "while rest > b:\n",
    "    rest = rest - b\n",
    "print(f\"{a}%{b}={rest}\")"
   ]
  },
  {
   "cell_type": "markdown",
   "id": "616af8ff-8292-4b3f-bb03-883f9647a970",
   "metadata": {},
   "source": [
    "In Python ist der der Modulo-Operator aber bereits eingebeut:"
   ]
  },
  {
   "cell_type": "code",
   "execution_count": null,
   "id": "001de3bf-b7db-4a84-9d35-5e09e72eb82f",
   "metadata": {},
   "outputs": [],
   "source": [
    "17 % 3\n"
   ]
  },
  {
   "cell_type": "markdown",
   "id": "b1298fa5-4a6e-48e2-a7c0-78e98677bd78",
   "metadata": {},
   "source": [
    "Ist eine Zahl ohne Rest teilbar, so beträgt der Modulo 0"
   ]
  },
  {
   "cell_type": "code",
   "execution_count": null,
   "id": "6004accd-7585-4026-844c-55b3e1dae1a9",
   "metadata": {},
   "outputs": [],
   "source": [
    "9 % 3"
   ]
  },
  {
   "cell_type": "markdown",
   "id": "0aadd08e-4def-49eb-b7f6-1ca6aee5b9bb",
   "metadata": {},
   "source": [
    "<div class=\"definition\">\n",
    "    <h3>Primzahl</h3>\n",
    "    Eine Primzahl $p \\in \\mathbb{N}$ ist eine natürliche Zahl, die genau zwei Teiler hat, also nur durch $1$ und sich selbst teilbar ist.<br>\n",
    "    Die ersten zehn Primzahlen sind $2,3,5,7,11,13,17,19,23,29$.\n",
    "</div>"
   ]
  },
  {
   "cell_type": "markdown",
   "id": "64f43a98-7ef0-401c-a876-3d406b7e4084",
   "metadata": {},
   "source": [
    "<div class=\"aufgabe\">\n",
    "    <h3>Primzahltest</h3>\n",
    "    Fragen Sie den User nach der Variable 'p' und prüfen Sie, ob die eingegebene Zahl eine Primzahl ist.<br>\n",
    "    Verwenden Sie eine Schleife und den Modulo-Operator.<br>\n",
    "    Falls 'p' keine Primzahl ist, geben Sie einen Teiler an (außer 1 oder p).<br>\n",
    "</div>"
   ]
  },
  {
   "cell_type": "code",
   "execution_count": null,
   "id": "86f56986-8cb8-4b09-b32c-d820472d13b1",
   "metadata": {},
   "outputs": [],
   "source": [
    "#Schreiben Sie Ihr Programm hier\n",
    "\n",
    "# YOUR CODE HERE\n",
    "raise NotImplementedError()\n",
    "    \n",
    "#Beispielausgabe: 593 ist eine Primzahl.\n",
    "#Beispielausgabe: 1591 ist keine Primzahl, denn 37 ist ein Teiler."
   ]
  },
  {
   "cell_type": "markdown",
   "id": "0f6f51e3-7eb0-4c99-baa9-2ca20222e496",
   "metadata": {},
   "source": [
    "# Listen"
   ]
  },
  {
   "cell_type": "markdown",
   "id": "297ec338-4590-4293-9a31-c7f506a12e92",
   "metadata": {},
   "source": [
    "Eine Liste ist eine geordnete Sammlung mehrerer Elemente."
   ]
  },
  {
   "cell_type": "code",
   "execution_count": null,
   "id": "13794cb7-361c-4fcf-a510-a19790a7f60f",
   "metadata": {},
   "outputs": [],
   "source": [
    "list = [1,2,3,4,5]\n",
    "print(list)\n",
    "       "
   ]
  },
  {
   "cell_type": "markdown",
   "id": "267a42b6-a44a-4b1d-b8bf-3586f51dcbf0",
   "metadata": {},
   "source": [
    "Mit einer for-Schleife lässt sich durch die Elemente einer Liste iterieren.\n",
    "Dabei werden die Elemente in der Reihenfolge, in der sie in der Liste stehen, verarbeitet."
   ]
  },
  {
   "cell_type": "code",
   "execution_count": null,
   "id": "af7a131a-9ab1-40b3-92c0-09d378be0903",
   "metadata": {},
   "outputs": [],
   "source": [
    "beatles = [\"Ringo\", \"George\", \"John\", \"Paul\"]\n",
    "for singer in beatles:\n",
    "    print(f\"Ein Bandmitglied ist: {singer}\")"
   ]
  },
  {
   "cell_type": "markdown",
   "id": "dae57239-eb19-46df-89ba-7e54232e2b33",
   "metadata": {},
   "source": [
    "Mittels 'append' kann man etwas am Ende einer Liste **hinzufügen**."
   ]
  },
  {
   "cell_type": "code",
   "execution_count": null,
   "id": "26a05b1a-f07c-4388-ae5b-965b71084797",
   "metadata": {},
   "outputs": [],
   "source": [
    "list = []\n",
    "for i in range(1,10):\n",
    "    list.append(i)\n",
    "print(list)"
   ]
  },
  {
   "cell_type": "markdown",
   "id": "ae1338ad-9a8a-49db-a22f-35c898d6fcd0",
   "metadata": {},
   "source": [
    "Mittels remove wird ein Element aus einer Liste **entfernt**."
   ]
  },
  {
   "cell_type": "code",
   "execution_count": null,
   "id": "25662552-05cc-4fb5-b4fd-ed3ada7eaff6",
   "metadata": {},
   "outputs": [],
   "source": [
    "list = [1,2,3,4,5]\n",
    "list.remove(2)\n",
    "list.remove(4)\n",
    "print(list)"
   ]
  },
  {
   "cell_type": "markdown",
   "id": "92408bcf-7f4b-4965-8cdb-93a4aa82ff66",
   "metadata": {},
   "source": [
    "Ist ein Element mehrfach vorhanden, wird **nur das erste** Vorkommen entfernt."
   ]
  },
  {
   "cell_type": "code",
   "execution_count": null,
   "id": "d8dc62a4-b16d-432a-9e4f-ec3ac45f13cf",
   "metadata": {},
   "outputs": [],
   "source": [
    "list = [\"Pünktchen\", \"Anton\", \"Lottchen\", \"Emil\", \"Lottchen\"]\n",
    "list.remove(\"Lottchen\")\n",
    "print(list)"
   ]
  },
  {
   "cell_type": "markdown",
   "id": "7d42da51-515b-4bd2-b0f3-47315c391046",
   "metadata": {},
   "source": [
    "Ist ein Element **nicht vorhanden**, gibt es einen **Fehler**."
   ]
  },
  {
   "cell_type": "code",
   "execution_count": null,
   "id": "7de4506b-7ffe-4dde-9517-9205afb7ee9d",
   "metadata": {},
   "outputs": [],
   "source": [
    "list = [\"Alpha\", \"Beta\", \"Gamma\"]\n",
    "list.remove(\"Delta\")"
   ]
  },
  {
   "cell_type": "markdown",
   "id": "5a0adf2e-6e67-42d8-af67-a2b35981ac0c",
   "metadata": {},
   "source": [
    "Man kann allerdings vorher prüfen, ob ein Element in einer Liste **enthalten** ist."
   ]
  },
  {
   "cell_type": "code",
   "execution_count": null,
   "id": "35af6e70-9c5e-4131-ba05-f559fc921eb9",
   "metadata": {},
   "outputs": [],
   "source": [
    "list = [\"Alpha\", \"Beta\", \"Gamma\"]\n",
    "if \"Beta\" in list:\n",
    "    list.remove(\"Beta\")\n",
    "if \"Delta\" in list:\n",
    "    list.remove(\"Delta\")\n",
    "print(list)"
   ]
  },
  {
   "cell_type": "markdown",
   "id": "28a87384-136a-42eb-89ba-690cb8be84d4",
   "metadata": {},
   "source": [
    "Auf die Elemente einer Liste kann mittels der **Index-Nummer** zugegriffen werden. Achtung: der Index startet bei **0**."
   ]
  },
  {
   "cell_type": "code",
   "execution_count": null,
   "id": "9c713791-d2c2-4922-800d-35e527ff4e3b",
   "metadata": {},
   "outputs": [],
   "source": [
    "list = [\"Prima\", \"Secunda\", \"Tertia\"]\n",
    "print(list[0])\n",
    "print(list[1])\n",
    "print(list[2])"
   ]
  },
  {
   "cell_type": "markdown",
   "id": "1252f48e-10b6-44a7-aa8b-cbdddfb63da7",
   "metadata": {},
   "source": [
    "**Vorsicht** ist geboten, wenn man die for-Schleife mit remove kombiniert.\n",
    "Python geht die Liste anhand der Index-Nummer durch, wenn man zwischendrin etwas löscht, *verrutschen* die restlichen Werte, sodass man evtl. ungewollt Einträge überspringt."
   ]
  },
  {
   "cell_type": "code",
   "execution_count": null,
   "id": "04a41333-b265-4781-8a49-1150fe153b4f",
   "metadata": {},
   "outputs": [],
   "source": [
    "nlist = [1,2,4,4,5,6,7,8,9,10]\n",
    "i = 0\n",
    "for number in nlist:\n",
    "    print(f\"Bei Element {number:2} an index {i} in {nlist}\")\n",
    "    if number%2==0:\n",
    "        nlist.remove(number)\n",
    "    i = i + 1"
   ]
  },
  {
   "cell_type": "markdown",
   "id": "d0af533f-9094-44d8-b63b-5e5da9d4a084",
   "metadata": {},
   "source": [
    "Mittels count kann man das Vorkommen von Elementen in einer Liste **zählen**. len gibt die **Länge** der Liste zurück."
   ]
  },
  {
   "cell_type": "code",
   "execution_count": null,
   "id": "9ebd4dca-53b7-4d0a-90d5-c957ddb31fd4",
   "metadata": {},
   "outputs": [],
   "source": [
    "equations = [1+1==2, 7*7==49, 7*8==42, 10/2==5]\n",
    "print(f\"{equations.count(True)} von {len(equations)} Gleichungen sind korrekt\")"
   ]
  },
  {
   "cell_type": "markdown",
   "id": "b476ad4d-63bc-42e2-a75a-2aff998b92b5",
   "metadata": {},
   "source": [
    "Anstatt explizit die Elemente einer Liste anzugeben, kann man diese auch auf andere Weisen deklarieren."
   ]
  },
  {
   "cell_type": "code",
   "execution_count": null,
   "id": "651b0de3-14ff-4c17-b0c4-a697b6d42460",
   "metadata": {},
   "outputs": [],
   "source": [
    "list = [i for i in range(1,10)]\n",
    "print(list)"
   ]
  },
  {
   "cell_type": "code",
   "execution_count": null,
   "id": "007c5d0d-dad2-4a52-9b80-cc55a4d0589a",
   "metadata": {},
   "outputs": [],
   "source": [
    "list = [False] * 5\n",
    "print(list)"
   ]
  },
  {
   "cell_type": "markdown",
   "id": "eb2f9b67-d80d-4cfe-af66-412a575e6a2b",
   "metadata": {},
   "source": [
    "<div class=\"aufgabe\">\n",
    "    <h3>Zweierpotenzen</h3>\n",
    "    Legen Sie in der Variable 'list' eine Liste der Zweierpotenzen bis $2^{10}$ an, ohne die Elemente explizit anzugeben.<br>\n",
    "$$\n",
    "        2^{0}, 2^{1}, 2^{2}, ..., 2^{10}\n",
    "$$\n",
    "    Berechnen Sie dann die Summe aller Listenelemente in der Variable 'sum'.<br>\n",
    "</div>"
   ]
  },
  {
   "cell_type": "code",
   "execution_count": null,
   "id": "8c59cff0-a0de-4a73-b3b3-6f0cf85738be",
   "metadata": {},
   "outputs": [],
   "source": [
    "#Schreiben Sie Ihren Code hier\n",
    "\n",
    "# YOUR CODE HERE\n",
    "raise NotImplementedError()\n",
    "\n",
    "#Dieser Code testet, ob Ihr Code das Richtige tut\n",
    "scipro.Test(\"Zweierpotenzen\").equals(\"list\", list, [1, 2, 4, 8, 16, 32, 64, 128, 256, 512, 1024]).equals(\"sum\", sum, 2047).report()"
   ]
  },
  {
   "cell_type": "markdown",
   "id": "30ee2316-1b3a-40b6-af50-452ae0676496",
   "metadata": {},
   "source": [
    "# Das Sieb des Erathostenes"
   ]
  },
  {
   "cell_type": "markdown",
   "id": "c4c8c5bf-c158-4a81-b274-3019ff5c67f7",
   "metadata": {},
   "source": [
    "Das Sieb des Erathostenes ist ein Verfahren, um alle Primzahlen bis zu einem vorgegebenen Maximum $max$ zu finden.\n",
    "Dabei wird wie folgt vorgegangen:\n",
    "* Lege eine Tabelle aller natürlichen Zahlen bis $max$ an\n",
    "* Streiche die $1$ durch\n",
    "* Wiederhole das Folgende:\n",
    "    * Finde die kleinste, nicht durchgestrichene, nicht eingekreiste Zahl $min$\n",
    "    * Kreise $min$ ein\n",
    "    * Streiche alle Vielfachen von $min$ durch: $2 \\cdot min, 3 \\cdot min, ...$\n",
    "    * Falls alle Zahlen entweder durchgestrichen oder eingekreist sind, brich ab\n",
    "* Die eingekreisten Zahlen sind die Primzahlen von $1... max$\n"
   ]
  },
  {
   "cell_type": "markdown",
   "id": "d896c29a-4391-4409-a976-b6d23ce4b22c",
   "metadata": {},
   "source": [
    "Die untenstehenden Tabellen zeigen die ersten drei Schritte des Sieb des Erathostenes für die Zahlen von $1...100$."
   ]
  },
  {
   "cell_type": "markdown",
   "id": "a583951c-d3ef-4723-9c3f-20e0ae35787a",
   "metadata": {},
   "source": [
    "|       |       |       |       |       |       |       |       |       |       | \n",
    "|:-----:|:-----:|:-----:|:-----:|:-----:|:-----:|:-----:|:-----:|:-----:|:-----:| \n",
    "|  ~1~ |  2 |  3 |  4 |  5 |  6 |  7 |  8 |  9 |  10 | \n",
    "|  11 |  12 |  13 |  14 |  15 |  16 |  17 |  18 |  19 |  20 | \n",
    "|  21 |  22 |  23 |  24 |  25 |  26 |  27 |  28 |  29 |  30 | \n",
    "|  31 |  32 |  33 |  34 |  35 |  36 |  37 |  38 |  39 |  40 | \n",
    "|  41 |  42 |  43 |  44 |  45 |  46 |  47 |  48 |  49 |  50 | \n",
    "|  51 |  52 |  53 |  54 |  55 |  56 |  57 |  58 |  59 |  60 | \n",
    "|  61 |  62 |  63 |  64 |  65 |  66 |  67 |  68 |  69 |  70 | \n",
    "|  71 |  72 |  73 |  74 |  75 |  76 |  77 |  78 |  79 |  80 | \n",
    "|  81 |  82 |  83 |  84 |  85 |  86 |  87 |  88 |  89 |  90 | \n",
    "|  91 |  92 |  93 |  94 |  95 |  96 |  97 |  98 |  99 |  100 | "
   ]
  },
  {
   "cell_type": "markdown",
   "id": "5fc67079-34f1-4922-890e-99df98e0cc8a",
   "metadata": {},
   "source": [
    "|       |       |       |       |       |       |       |       |       |       | \n",
    "|:-----:|:-----:|:-----:|:-----:|:-----:|:-----:|:-----:|:-----:|:-----:|:-----:| \n",
    "|  ~1~ | **2**|  3 | ~4~ |  5 | ~6~|  7 | ~8~|  9 | ~10~| \n",
    "|  11 | ~12~|  13 | ~14~|  15 | ~16~|  17 | ~18~|  19 | ~20~| \n",
    "|  21 | ~22~|  23 | ~24~|  25 | ~26~|  27 | ~28~|  29 | ~30~| \n",
    "|  31 | ~32~|  33 | ~34~|  35 | ~36~|  37 | ~38~|  39 | ~40~| \n",
    "|  41 | ~42~|  43 | ~44~|  45 | ~46~|  47 | ~48~|  49 | ~50~| \n",
    "|  51 | ~52~|  53 | ~54~|  55 | ~56~|  57 | ~58~|  59 | ~60~| \n",
    "|  61 | ~62~|  63 | ~64~|  65 | ~66~|  67 | ~68~|  69 | ~70~| \n",
    "|  71 | ~72~|  73 | ~74~|  75 | ~76~|  77 | ~78~|  79 | ~80~| \n",
    "|  81 | ~82~|  83 | ~84~|  85 | ~86~|  87 | ~88~|  89 | ~90~| \n",
    "|  91 | ~92~|  93 | ~94~|  95 | ~96~|  97 | ~98~|  99 | ~100~| "
   ]
  },
  {
   "cell_type": "markdown",
   "id": "4c3f2ae2-ca36-471c-a7a9-97a8caa404c4",
   "metadata": {},
   "source": [
    "|       |       |       |       |       |       |       |       |       |       | \n",
    "|:-----:|:-----:|:-----:|:-----:|:-----:|:-----:|:-----:|:-----:|:-----:|:-----:| \n",
    "|  ~1~ | *2*| **3**| ~4~|  5 | ~6~|  7 | ~8~| ~9~| ~10~| \n",
    "|  11 | ~12~|  13 | ~14~| ~15~| ~16~|  17 | ~18~|  19 | ~20~| \n",
    "| ~21~| ~22~|  23 | ~24~|  25 | ~26~| ~27~| ~28~|  29 | ~30~| \n",
    "|  31 | ~32~| ~33~| ~34~|  35 | ~36~|  37 | ~38~| ~39~| ~40~| \n",
    "|  41 | ~42~|  43 | ~44~| ~45~| ~46~|  47 | ~48~|  49 | ~50~| \n",
    "| ~51~| ~52~|  53 | ~54~|  55 | ~56~| ~57~| ~58~|  59 | ~60~| \n",
    "|  61 | ~62~| ~63~| ~64~|  65 | ~66~|  67 | ~68~| ~69~| ~70~| \n",
    "|  71 | ~72~|  73 | ~74~| ~75~| ~76~|  77 | ~78~|  79 | ~80~| \n",
    "| ~81~| ~82~|  83 | ~84~|  85 | ~86~| ~87~| ~88~|  89 | ~90~| \n",
    "|  91 | ~92~| ~93~| ~94~|  95 | ~96~|  97 | ~98~| ~99~| ~100~| "
   ]
  },
  {
   "cell_type": "markdown",
   "id": "f96b2ba2-5dfa-4c30-ace6-09ec4c597c31",
   "metadata": {},
   "source": [
    "<div class=\"aufgabe\">\n",
    "    <h3>Das manuelle Sieb</h3>\n",
    "    Berechnen Sie mit Stift und Papier mittels des Sieb des Erathostenes die Primzahlen von $1..100$.\n",
    "</div>"
   ]
  },
  {
   "cell_type": "markdown",
   "id": "c247930b-74e3-4664-94ff-92b2110edd1f",
   "metadata": {},
   "source": [
    "<div class=\"aufgabe\">\n",
    "    <h3>Das Sieb mit Python</h3>\n",
    "    Implementieren Sie das Sieb des Erathostenes mittels Python.<br>\n",
    "    Nutzen Sie eine Variable 'max' als konfigurierbares Maximum und speichern Sie die Liste der ermittelten Primzahlen in einer Liste 'primes', die Sie am Ende ausgeben.\n",
    "</div>"
   ]
  },
  {
   "cell_type": "markdown",
   "id": "35c7ab4a-ad5f-4038-bee6-44a8b084167d",
   "metadata": {},
   "source": [
    "<details class=\"hint\">\n",
    "<summary> Wie fängt man an?</summary>\n",
    "<p>Überlegen Sie, wie sich das Papierverfahren in ein Programm übersetzen lässt:<br>\n",
    "     <ul>\n",
    "      <li>Es gibt zwei Möglichkeiten: Eine Zahl ist entweder durchgestrichen oder nicht.</li>\n",
    "      <li>Wenn man eine Zahl einkreist weiß man sicher, sie ist eine der gesuchten Primzahlen.</li>\n",
    "      <li>Die Zahlen werden der Reihe nach angeschaut, nur bei nicht durchgestrichenen Zahlen wird etwas getan.</li>\n",
    "    </ul> \n",
    "</p>\n",
    "    <details class=\"hint\">\n",
    "    <summary> Fehlersuche</summary>\n",
    "        <ul>\n",
    "          <li>Erstmal mit kleinem max anfangen, z.B. 10.</li>\n",
    "          <li>Ausgeben, was in welcher Reihenfolge durchgestrichen wird, kann hilfreich sein.</li>\n",
    "          <li>1 ist keine Primzahl und die Vielfachen von 1 sollte man nicht streichen.</li>\n",
    "          <li>Off-By-One-Fehler: Array bzw. Schleife sind um 1 zu groß oder zu klein.</li>\n",
    "          <li>Im Gegensatz zur Tabelle fängt die Liste immer bei Index 0 an.</li>\n",
    "        </ul> \n",
    "    </details>\n",
    "</details>\n"
   ]
  },
  {
   "cell_type": "code",
   "execution_count": null,
   "id": "705b2f5d-d324-45e0-a9da-164ea87f173d",
   "metadata": {},
   "outputs": [],
   "source": [
    "max=100\n",
    "primes = []\n",
    "#Schreiben Sie Ihren Code hier\n",
    "\n",
    "# YOUR CODE HERE\n",
    "raise NotImplementedError()\n",
    "\n",
    "#Beispielausgabe: [2, 3, 5, 7, 11, 13, 17, 19, 23, 29, 31, 37, 41, 43, 47, 53, 59, 61, 67, 71, 73, 79, 83, 89, 97]"
   ]
  },
  {
   "cell_type": "markdown",
   "id": "591cf7ba-dbfa-415d-98ca-7869cc0b9474",
   "metadata": {},
   "source": [
    "# Zusatzaufgaben"
   ]
  },
  {
   "cell_type": "markdown",
   "id": "3bdc512b-7193-45a0-beca-ff87ae2d14db",
   "metadata": {},
   "source": [
    "## Mitternachtsformel"
   ]
  },
  {
   "cell_type": "markdown",
   "id": "3934a33b-0c75-417c-a8bc-838b1a161d46",
   "metadata": {},
   "source": [
    "Die **Mitternachtsformel** dient dazu, die Nullstellen von Polynomen zweiten Grades zu finden."
   ]
  },
  {
   "cell_type": "markdown",
   "id": "c6b22183-c602-48fa-a7b6-17e7a196c01c",
   "metadata": {},
   "source": [
    "Eine **quadratische Gleichung** der Form $ax^2+bx+c=0$ lässt sich lösen durch die **Mitternachtsformel**\n",
    "$$\n",
    " x_1,x_2 = \\frac{-b \\pm \\sqrt{b^2 - 4ac}}{2a}\n",
    "$$\n",
    "Dabei wird der Term $b^2 - 4ac$ als **Diskriminante** ($D$) bezeichnet.\n",
    "Anhand der Diskriminante lässt sich bestimmen, wie viele Lösungen die quadratische Gleichung hat:\n",
    "* Ist $D > 0$, dann gibt es zwei Lösungen ($x_1,x_2$)\n",
    "* Ist $D = 0$, dann gibt es eine Lösungen $x_1=x_2$\n",
    "* Ist $D < 0$, dann gibt es keine Lösung (zumindest in $ \\mathbb{R}$)\n"
   ]
  },
  {
   "cell_type": "markdown",
   "id": "600a45c3-bf60-491e-a021-e149253cbd5e",
   "metadata": {},
   "source": [
    "<div class=\"aufgabe\">\n",
    "    <h3>Mitternachtsformel</h3>\n",
    "    Fragen Sie den Usern nach den Variablen 'a','b', und 'c'. und geben Sie die quadratische Gleichung aus.<br>\n",
    "    Geben Sie danach alle Lösungen aus. Verwenden Sie die Diskriminante, um die drei Fälle zu unterscheiden.\n",
    "</div>"
   ]
  },
  {
   "cell_type": "code",
   "execution_count": null,
   "id": "0b8b4245-2816-4f0e-ab20-2276abc29e61",
   "metadata": {},
   "outputs": [],
   "source": [
    "import math\n",
    "#Schreiben Sie Ihr Programm hier\n",
    "\n",
    "# YOUR CODE HERE\n",
    "raise NotImplementedError()\n",
    "\n",
    "#Beispielausgaben:\n",
    "#6.0x²+9.0x+3.0 = 0\n",
    "#x₁ = -0.5\n",
    "#x₂ = -1.0\n",
    "#\n",
    "#4.0x²+1.0x+2.0 = 0\n",
    "#Es gibt keine Lösung!"
   ]
  },
  {
   "cell_type": "markdown",
   "id": "2daf43ab-a543-4c6b-8297-d186734ef30b",
   "metadata": {},
   "source": [
    "<div class=\"aufgabe\">\n",
    "    <h3>Mitternachtsformel - lineare Funktionen</h3>\n",
    "    Testen Sie ihr Programm für lineare Funktionen (a=0).<br>\n",
    "    Falls es nicht funktioniert, erweitern Sie es so, dass auch für lineare Funktionen die Nullstelle berechnet wird.<br>\n",
    "    Wie sieht es aus, wenn ein oder mehrere andere Parameter 0 sind?\n",
    "</div>"
   ]
  },
  {
   "cell_type": "code",
   "execution_count": null,
   "id": "5b5493db-eb51-496a-9a82-81276086b179",
   "metadata": {},
   "outputs": [],
   "source": [
    "#Beispielausgabe:\n",
    "#0.0x²+10.0x+5.0 = 0\n",
    "#x₁ = -0.5"
   ]
  },
  {
   "cell_type": "markdown",
   "id": "287f0cea-fb8c-4b7e-8150-9344ab25d0ff",
   "metadata": {},
   "source": [
    "<div class=\"aufgabe\">\n",
    "    <h3>Mitternachtsformel - Formatierung</h3>\n",
    "    Stellen Sie sicher, dass die ausgegebene Formel schön formatiert ist:<br>\n",
    "    So soll bei negativen Parametern nicht z.B. '+ -3.0x' stehen.<br>\n",
    "    Ist ein Parameter 0, soll der Teil der Gleichung weggelassen werden, also nicht z.B. '+ 0x'.<br>\n",
    "    Verwenden Sie den ternären Operator, den Sie selbstständig recherchieren (engl. \"Ternary Operator\").<br>\n",
    "</div>"
   ]
  },
  {
   "cell_type": "code",
   "execution_count": null,
   "id": "ac2d417e-2b1b-473a-9f36-ad50c23229fc",
   "metadata": {},
   "outputs": [],
   "source": [
    "#Beispielausgabe:\n",
    "#Falsch:  0.0x²+3.0x+-6.0 = 0\n",
    "#Richtig: 3.0x-6.0 = 0\n"
   ]
  },
  {
   "cell_type": "markdown",
   "id": "8df3d185-ef6a-4c9b-b57b-fba00ef22fac",
   "metadata": {},
   "source": [
    "## Logarithmus"
   ]
  },
  {
   "cell_type": "markdown",
   "id": "ee0df35b-8dbb-457d-ad37-c25c62137ac4",
   "metadata": {},
   "source": [
    "<div class=\"definition\">\n",
    "    <h3>Logarithmus</h3>\n",
    "    Die Logarithmus $log_b(a)$ einer Zahl $a$ zu einer Basis $b$ ist der Exponent $y$, mit dem man b potenzieren muss, um $a$ zu erhalten.<br>\n",
    "$$\n",
    "    b^{y} = a \\Leftrightarrow y=log_b(a)\n",
    "$$\n",
    "    Vereinfacht gesprochen gibt $log_b(a)$ an, wie oft man $a$ durch $b$ teilen kann, bis man $1$ erhält.\n",
    "</div>\n"
   ]
  },
  {
   "cell_type": "markdown",
   "id": "eeabba21-72cf-40e6-9e82-ca8657db36d0",
   "metadata": {},
   "source": [
    "Der Logarithmus ist bereits im Modul math enthalten."
   ]
  },
  {
   "cell_type": "code",
   "execution_count": null,
   "id": "7c64f722-d62c-4fa3-85a9-c5cf7a17c650",
   "metadata": {},
   "outputs": [],
   "source": [
    "import math\n",
    "math.log(16,2)"
   ]
  },
  {
   "cell_type": "markdown",
   "id": "58dad47f-598e-4df2-95be-1bc6d6ca653a",
   "metadata": {},
   "source": [
    "<div class=\"aufgabe\">\n",
    "    <h3>Ganzzahliger Logarithmus zur Basis 10</h3>\n",
    "    Fragen Sie den User nach der Variable 'n' und berechnen Sie den Logarithmus zur Basis 10.<br>\n",
    "    Verwenden Sie NICHT das math-Modul, sondern benutzen Sie eine while-Schleife und wiederholtes Dividieren.<br>\n",
    "    Beim ganzzahligen Logarithmus gibt es keine Nachkommastellen, verwenden Sie int und Ganzzahl-Division.\n",
    "</div>"
   ]
  },
  {
   "cell_type": "code",
   "execution_count": null,
   "id": "fd53bbd7-1ef0-49ce-88de-c077f0dc34d3",
   "metadata": {},
   "outputs": [],
   "source": [
    "import math\n",
    "#Schreiben Sie Ihr Programm hier\n",
    "\n",
    "# YOUR CODE HERE\n",
    "raise NotImplementedError()\n",
    "\n",
    "#Beispielausgabe: log₁₀1000=3"
   ]
  },
  {
   "cell_type": "markdown",
   "id": "152ff64c-0a33-4e25-959e-e70b9d592d1d",
   "metadata": {},
   "source": [
    "Testen Sie auch für die Sonderfälle 'n=0' und 'n=1'. Finden Sie den Sollwert für beide Eingaben mittels einer Webrecherche oder einem Taschenrechner heraus."
   ]
  },
  {
   "cell_type": "markdown",
   "id": "5e5a8b93-aeb6-4303-8685-f0150f7db597",
   "metadata": {},
   "source": [
    "<div class=\"definition\">\n",
    "    <h3>Primfaktor</h3>\n",
    "    Ein Primfaktor einer natürlichen Zahl $n \\in \\mathbb{N}$ ist eine Primzahl $p \\in \\mathbb{P}$, durch die $n$ teilbar ist, also:<br>\n",
    "$$\n",
    "    n \\% p = 0\n",
    "$$\n",
    "</div>\n"
   ]
  },
  {
   "cell_type": "markdown",
   "id": "6523147e-588c-497f-be20-e1a984d1d223",
   "metadata": {},
   "source": [
    "<div class=\"satz\">\n",
    "    <h3>Primfaktorzerlegung</h3>\n",
    "    Jede natürliche Zahl $n > 1$ lässt sich als ein Produkt von Primzahlen darstellen:\n",
    "    $$\n",
    "        \\forall n > 1 \\in \\mathbb{N} ( \\exists p_1 \\dots p_k (n=\\prod_{i=1}^{k}p_i=p_1\\cdot p_2  \\cdot \\cdot \\cdot p_k))\n",
    "    $$\n",
    "    Beispiel:\n",
    "    $$\n",
    "        780=2\\cdot2\\cdot3\\cdot5\\cdot13\n",
    "    $$\n",
    "</div>"
   ]
  },
  {
   "cell_type": "markdown",
   "id": "5a70e4e5-f26a-4a11-9391-4b32d38e817b",
   "metadata": {},
   "source": [
    "<div class=\"aufgabe\">\n",
    "    <h3>Primfaktorzerlegung</h3>\n",
    "    Implementieren Sie ein Programm, das für eine eingegebene Zahl die Primfaktoktoren aufsteigend ausgibt.<br>\n",
    "    Verwenden Sie eine Liste zum Speichern der Primfaktoren.<br>\n",
    "    Sie dürfen wo sinnvoll Code aus den vorhergehenden Aufgaben wiederverwenden.\n",
    "</div>"
   ]
  },
  {
   "cell_type": "code",
   "execution_count": null,
   "id": "977d13ae-fae9-4ecd-80c6-03f80b5801fb",
   "metadata": {},
   "outputs": [],
   "source": [
    "import math\n",
    "#Schreiben Sie Ihr Programm hier\n",
    "\n",
    "# YOUR CODE HERE\n",
    "raise NotImplementedError()\n",
    "\n",
    "#Beispielausgabe:       \n",
    "#780=2*2*3*5*13   \n",
    "        "
   ]
  },
  {
   "cell_type": "markdown",
   "id": "3291432e-598b-4b9c-97b9-a64bd862cd1f",
   "metadata": {},
   "source": [
    "# Footer"
   ]
  },
  {
   "cell_type": "code",
   "execution_count": 22,
   "id": "7392d151",
   "metadata": {},
   "outputs": [
    {
     "data": {
      "text/html": [
       "<p>Version 1.0.2 vom 08.12.2024</p>\n",
       "\n",
       "<h2>Quellen</h2>\n",
       "\n",
       "</div><!-- insert bibtex2hteml output here -->\n",
       "\n",
       "\t<p><a name=\"pythondocs\"></a>\n",
       "\n",
       "\tPython Software Foundation.\n",
       "\t Python 3.13.0 documentation.\n",
       "\t[&nbsp;<a href=\"https://docs.python.org/3/index.html\">https://docs.python.org/3/index.html</a>&nbsp;]\n",
       "\n",
       "\t</p>\n",
       "\n",
       "\t<p><a name=\"officialpythontutorial\"></a>\n",
       "\n",
       "\tPython Software Foundation.\n",
       "\t The Python Tutorial.\n",
       "\t[&nbsp;<a href=\"https://docs.python.org/3/tutorial/index.html\">https://docs.python.org/3/tutorial/index.html</a>&nbsp;]\n",
       "\n",
       "\t</p>\n",
       "\n",
       "\t<p><a name=\"unistuttgartpythonkurs\"></a>\n",
       "\n",
       "\tDominik Göddeke.\n",
       "\t Programmierkurs Python.\n",
       "\t[&nbsp;<a href=\"https://www.oerbw.de/edu-sharing/components/collections?id=4dc12ce9-58f8-452e-9093-7d13aa758240\">https://www.oerbw.de/edu-sharing/components/collections?id=4dc12ce9-58f8-452e-9093-7d13aa758240</a>&nbsp;]\n",
       "\n",
       "\t</p>\n",
       "\n",
       "\t<p><a name=\"w3schoolspythontutorial\"></a>\n",
       "\n",
       "\tW3Schools .\n",
       "\t Python Tutorial.\n",
       "\t[&nbsp;<a href=\"https://www.w3schools.com/python/\">https://www.w3schools.com/python/</a>&nbsp;]\n",
       "\n",
       "\t</p>\n",
       "\n",
       "\t<p><a name=\"sundnes2020introduction\"></a>\n",
       "\n",
       "\tJoakim Sundnes.\n",
       "\t <em>Introduction to scientific programming with Python</em>.\n",
       "\t Springer Nature, 2020.\n",
       "\t[&nbsp;<a href=\"https://library.oapen.org/handle/20.500.12657/39979\">https://library.oapen.org/handle/20.500.12657/39979</a>&nbsp;]\n",
       "\n",
       "\t</p>\n",
       "\n",
       "\t<p><a name=\"linge2020programming\"></a>\n",
       "\n",
       "\tSvein Linge and Hans&nbsp;Petter Langtangen.\n",
       "\t <em>Programming for computations-Python: A gentle introduction to\n",
       "\t  numerical simulations with Python 3.6</em>.\n",
       "\t Springer Nature, 2020.\n",
       "\t[&nbsp;<a href=\"https://library.oapen.org/handle/20.500.12657/23103\">https://library.oapen.org/handle/20.500.12657/23103</a>&nbsp;]\n",
       "\n",
       "\t</p>\n",
       "\n",
       "\t<p><a name=\"weitz2021konkrete\"></a>\n",
       "\n",
       "\tEdmund Weitz.\n",
       "\t <em>Konkrete Mathematik (nicht nur) f&uuml;r Informatiker</em>.\n",
       "\t Springer, 2021.\n",
       "\t[&nbsp;<a href=\"https://link.springer.com/book/10.1007/978-3-662-62618-4\">https://link.springer.com/book/10.1007/978-3-662-62618-4</a>&nbsp;]\n",
       "\n",
       "\t</p>\n",
       "\n",
       "\n",
       "\t<p><a name=\"arensMathematik2022\"></a>\n",
       "\n",
       "\tTilo Arens, Frank Hettlich, Christian Karpfinger, Ulrich Kockelkorn, Klaus\n",
       "\t  Lichtenegger, and Hellmuth Stachel.\n",
       "\t <em>Mathematik</em>.\n",
       "\t Springer Spektrum Berlin, Heidelberg, Heidelberg, 5 edition, October\n",
       "\t  2022.\n",
       "\t[&nbsp;<a href=\"https://link.springer.com/book/10.1007/978-3-662-64389-1\">https://link.springer.com/book/10.1007/978-3-662-64389-1</a>&nbsp;]\n",
       "\t</p>\n",
       "\n",
       "\t<p><a name=\"papulaMathematikFuerIngenieure2024BdIII\"></a>\n",
       "\n",
       "\tLothar Papula.\n",
       "\t <em>Mathematik für Ingenieure und Naturwissenschaftler Band\n",
       "\t  3: Vektoranalysis, Wahrscheinlichkeitsrechnung, Mathematische\n",
       "\t  Statistik, Fehler- und Ausgleichsrechnung</em>, volume&nbsp;3 of <em>Mathematik\n",
       "\t  für Ingenieure und Naturwissenschaftler</em>.\n",
       "\t Springer Vieweg Wiesbaden, Wiesbaden, October 2024.\n",
       "\t[&nbsp;<a href=\"https://link.springer.com/book/10.1007/978-3-658-45804-1\">https://link.springer.com/book/10.1007/978-3-658-45804-1</a>&nbsp;]\n",
       "\n",
       "\t</p>\n",
       "\n",
       "<p><a name=\"arensMathematik2022\"></a>\n",
       "\n",
       "Tilo Arens, Frank Hettlich, Christian Karpfinger, Ulrich Kockelkorn, Klaus\n",
       "  Lichtenegger, and Hellmuth Stachel.\n",
       " <em>Mathematik</em>.\n",
       " Springer Spektrum Berlin, Heidelberg, Heidelberg, 5 edition, October\n",
       "  2022.\n",
       "[&nbsp;<a href=\"https://link.springer.com/book/10.1007/978-3-662-64389-1\">https://link.springer.com/book/10.1007/978-3-662-64389-1</a>&nbsp;]\n",
       "\n",
       "</p>\n",
       "\n",
       "<p><a name=\"papulaMathematikFuerIngenieure2024BdIII\"></a>\n",
       "\n",
       "Lothar Papula.\n",
       " <em>Mathematik für Ingenieure und Naturwissenschaftler Band\n",
       "  3: Vektoranalysis, Wahrscheinlichkeitsrechnung, Mathematische\n",
       "  Statistik, Fehler- und Ausgleichsrechnung</em>, volume&nbsp;3 of <em>Mathematik\n",
       "  für Ingenieure und Naturwissenschaftler</em>.\n",
       " Springer Vieweg Wiesbaden, Wiesbaden, October 2024.\n",
       "[&nbsp;<a href=\"https://link.springer.com/book/10.1007/978-3-658-45804-1\">https://link.springer.com/book/10.1007/978-3-658-45804-1</a>&nbsp;]\n",
       "\n",
       "</p>\n",
       "\n",
       "<p><a name=\"LL:SOLA-2017\"></a>\n",
       "\n",
       "Seymour Lipschutz and Mark Lipson.\n",
       " <em>Schaum's Outline of Linear Algebra</em>.\n",
       " Schaum's Outline. McGraw Hill, 6th edition edition, 2017.\n",
       "\n",
       "</p>\n",
       "</body>\n",
       "\n",
       "\n",
       "</div>\n",
       "\n",
       "<h2>Autoren und Lizenz</h2>\n",
       "\n",
       "<p>&copy; Ivan Bogicevic, Janko Dietzsch, Falko Kötter, und Stephan Schulz</p>\n",
       "\n",
       "<p xmlns:cc=\"http://creativecommons.org/ns#\" xmlns:dct=\"http://purl.org/dc/terms/\"><span property=\"dct:title\">Scientific Programming Lab</span> von <span property=\"cc:attributionName\">DHBW Stuttgart</span> ist lizensiert unter <a href=\"https://creativecommons.org/licenses/by/4.0/?ref=chooser-v1\" target=\"_blank\" rel=\"license noopener noreferrer\" style=\"display:inline-block;\">CC BY 4.0<img style=\"height:22px!important;margin-left:3px;vertical-align:text-bottom;\" src=\"https://mirrors.creativecommons.org/presskit/icons/cc.svg?ref=chooser-v1\" alt=\"\"><img style=\"height:22px!important;margin-left:3px;vertical-align:text-bottom;\" src=\"https://mirrors.creativecommons.org/presskit/icons/by.svg?ref=chooser-v1\" alt=\"\"></a></p>\n"
      ],
      "text/plain": [
       "<IPython.core.display.HTML object>"
      ]
     },
     "execution_count": 22,
     "metadata": {},
     "output_type": "execute_result"
    }
   ],
   "source": [
    "#Ausführen, um den aktuellen Footer anzuzeigen\n",
    "from IPython.display import HTML\n",
    "HTML(filename='files/footer.html')"
   ]
  },
  {
   "cell_type": "code",
   "execution_count": null,
   "id": "141d2b88-bfc4-440a-9cd0-87c7909817ae",
   "metadata": {},
   "outputs": [],
   "source": []
  }
 ],
 "metadata": {
  "file_extension": ".py",
  "kernelspec": {
   "display_name": "Python 3 (ipykernel)",
   "language": "python",
   "name": "python3"
  },
  "language_info": {
   "codemirror_mode": {
    "name": "ipython",
    "version": 3
   },
   "file_extension": ".py",
   "mimetype": "text/x-python",
   "name": "python",
   "nbconvert_exporter": "python",
   "pygments_lexer": "ipython3",
   "version": "3.13.2"
  },
  "mimetype": "text/x-python",
  "name": "python",
  "npconvert_exporter": "python",
  "pygments_lexer": "ipython3",
  "rise": {
   "autolaunch": false,
   "backimage": "images/python-logo-only.svg",
   "enable_chalkboard": true,
   "footer": "<h3>DHBW Stuttgart</h3>",
   "header": "<h1>Scientific Programming Lab</h1>",
   "scroll": true,
   "theme": "serif",
   "transition": "convex"
  },
  "version": 3
 },
 "nbformat": 4,
 "nbformat_minor": 5
}
