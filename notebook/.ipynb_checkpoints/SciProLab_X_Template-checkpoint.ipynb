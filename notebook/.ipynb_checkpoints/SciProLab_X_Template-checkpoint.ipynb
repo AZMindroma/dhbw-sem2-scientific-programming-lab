{
 "cells": [
  {
   "cell_type": "code",
   "execution_count": 7,
   "id": "71725de8",
   "metadata": {
    "slideshow": {
     "slide_type": "skip"
    }
   },
   "outputs": [],
   "source": [
    "#Bitte ausführen, damit alles Notwendige importiert wird\n",
    "#Note: Bei Änderungen der zugrundeliegenden Python-Files muss Jupyter neugestartet werden\n",
    "import scipro"
   ]
  },
  {
   "cell_type": "code",
   "execution_count": 8,
   "id": "2670d2e4",
   "metadata": {
    "scrolled": true,
    "slideshow": {
     "slide_type": "skip"
    }
   },
   "outputs": [
    {
     "data": {
      "text/html": [
       "<!--Bitte diese Cell mit Run ausführen, damit die Styles geladen werden-->\n",
       "<!--Bei Änderungen des CSS muss das Notebook im Browser neu geladen werden-->\n",
       "<link rel=\"stylesheet\" href=\"./styles/sciprolab.css\">\n"
      ],
      "text/plain": [
       "<IPython.core.display.HTML object>"
      ]
     },
     "metadata": {},
     "output_type": "display_data"
    }
   ],
   "source": [
    "%%html\n",
    "<!--Bitte diese Cell mit Run ausführen, damit die Styles geladen werden-->\n",
    "<!--Bei Änderungen des CSS muss das Notebook im Browser neu geladen werden-->\n",
    "<link rel=\"stylesheet\" href=\"./styles/sciprolab.css\">\n"
   ]
  },
  {
   "cell_type": "markdown",
   "id": "unique-crisis",
   "metadata": {
    "slideshow": {
     "slide_type": "slide"
    }
   },
   "source": [
    "# Scientific Programming Lab\n"
   ]
  },
  {
   "cell_type": "markdown",
   "id": "543a2d73",
   "metadata": {
    "slideshow": {
     "slide_type": "slide"
    }
   },
   "source": [
    "## Abschnittsüberschrift\n",
    "\n",
    " Normaler Text\n",
    "\n",
    " - Bullet\n",
    " - Bullet\n",
    "\n"
   ]
  },
  {
   "cell_type": "code",
   "execution_count": null,
   "id": "brazilian-trading",
   "metadata": {
    "slideshow": {
     "slide_type": "fragment"
    }
   },
   "outputs": [],
   "source": [
    "print(\"Code\" + \" \" + \"Example\")"
   ]
  },
  {
   "cell_type": "markdown",
   "id": "engaging-secretariat",
   "metadata": {
    "slideshow": {
     "slide_type": "slide"
    }
   },
   "source": [
    "<div class=\"aufgabe\">\n",
    "    <h3>Beispielaufgabe</h3>\n",
    "   Wie? Und warum?\n",
    "</div>"
   ]
  },
  {
   "cell_type": "code",
   "execution_count": null,
   "id": "7403cca1",
   "metadata": {
    "slideshow": {
     "slide_type": "fragment"
    }
   },
   "outputs": [],
   "source": [
    "#Beispiel für /\n",
    "/"
   ]
  },
  {
   "cell_type": "code",
   "execution_count": null,
   "id": "fff6f307",
   "metadata": {
    "scrolled": true,
    "slideshow": {
     "slide_type": "fragment"
    }
   },
   "outputs": [],
   "source": [
    "#Beispiel für /\n",
    "//"
   ]
  },
  {
   "cell_type": "markdown",
   "id": "34047623",
   "metadata": {
    "slideshow": {
     "slide_type": "skip"
    }
   },
   "source": [
    "<details class=\"hint\">\n",
    "<summary></summary>\n",
    "Beispielhinweis\n",
    "    <details class=\"nexthint\">\n",
    "    <summary></summary>\n",
    "       Auch verschachtelt\n",
    "    </details>\n",
    "</details>\n"
   ]
  },
  {
   "cell_type": "markdown",
   "id": "44af6924",
   "metadata": {},
   "source": [
    "<div class=\"definition\">\n",
    "    <h3>Beispieldefinition</h3>\n",
    "    Blabla\n",
    "    $$\n",
    "      x^2 = 25 \\text{ genau dann, wenn } x = -5 \\text{ oder } x=5\\\\\n",
    "      \\text{ aus } y=3 \\text{ und } z = 4 \\text{ folgt } y+z=7\n",
    "    $$\n",
    "</div>"
   ]
  },
  {
   "cell_type": "code",
   "execution_count": 1,
   "id": "5ff46057-e97a-4f3d-a811-85f23ee10638",
   "metadata": {},
   "outputs": [
    {
     "data": {
      "image/png": "[encoded data removed]",
      "text/plain": [
       "<Figure size 640x480 with 1 Axes>"
      ]
     },
     "metadata": {},
     "output_type": "display_data"
    }
   ],
   "source": [
    "import matplotlib.pyplot as plt\n",
    "\n",
    "plt.arrow(2,2, 4, 6, )\n",
    "plt.show()\n"
   ]
  },
  {
   "cell_type": "code",
   "execution_count": null,
   "id": "c328f382",
   "metadata": {
    "slideshow": {
     "slide_type": "fragment"
    }
   },
   "outputs": [],
   "source": [
    "# Beispiel für Test auf korrekte Ergebnisse\n",
    "a = 1\n",
    "b = 5\n",
    "print(a,b)\n",
    "#Schreiben Sie Ihren Code hier\n",
    "(b,a)=(a,b)\n",
    "#Dieser Code testet, ob Ihr Code das Richtige tut\n",
    "scipro.Test(\"Zuweisung\").equals(\"a\", a, 5).equals(\"b\", b, 1).report()"
   ]
  },
  {
   "cell_type": "markdown",
   "id": "3291432e-598b-4b9c-97b9-a64bd862cd1f",
   "metadata": {},
   "source": [
    "# Footer"
   ]
  },
  {
   "cell_type": "code",
   "execution_count": 9,
   "id": "7392d151",
   "metadata": {},
   "outputs": [
    {
     "data": {
      "text/html": [
       "<h1>Footer</h1>\n",
       "<p>Ein Test-Footer mit Kram und Zeuchs und sowieso</p>\n",
       "\n",
       " <p xmlns:cc=\"http://creativecommons.org/ns#\" xmlns:dct=\"http://purl.org/dc/terms/\"><span property=\"dct:title\">Scientific Programming Lab</span> by <span property=\"cc:attributionName\">DHBW Stuttgart</span> is licensed under <a href=\"https://creativecommons.org/licenses/by/4.0/?ref=chooser-v1\" target=\"_blank\" rel=\"license noopener noreferrer\" style=\"display:inline-block;\">CC BY 4.0<img style=\"height:22px!important;margin-left:3px;vertical-align:text-bottom;\" src=\"https://mirrors.creativecommons.org/presskit/icons/cc.svg?ref=chooser-v1\" alt=\"\"><img style=\"height:22px!important;margin-left:3px;vertical-align:text-bottom;\" src=\"https://mirrors.creativecommons.org/presskit/icons/by.svg?ref=chooser-v1\" alt=\"\"></a></p> "
      ],
      "text/plain": [
       "<IPython.core.display.HTML object>"
      ]
     },
     "execution_count": 9,
     "metadata": {},
     "output_type": "execute_result"
    }
   ],
   "source": [
    "#Ausführen, um den aktuellen Footer anzuzeigen\n",
    "from IPython.display import HTML\n",
    "HTML(filename='files/footer.html')"
   ]
  },
  {
   "cell_type": "code",
   "execution_count": null,
   "id": "b02e94d1",
   "metadata": {},
   "outputs": [],
   "source": []
  }
 ],
 "metadata": {
  "celltoolbar": "Slideshow",
  "file_extension": ".py",
  "kernelspec": {
   "display_name": "Python 3 (ipykernel)",
   "language": "python",
   "name": "python3"
  },
  "language_info": {
   "codemirror_mode": {
    "name": "ipython",
    "version": 3
   },
   "file_extension": ".py",
   "mimetype": "text/x-python",
   "name": "python",
   "nbconvert_exporter": "python",
   "pygments_lexer": "ipython3",
   "version": "3.11.10"
  },
  "mimetype": "text/x-python",
  "name": "python",
  "npconvert_exporter": "python",
  "pygments_lexer": "ipython3",
  "rise": {
   "autolaunch": false,
   "backimage": "images/python-logo-only.svg",
   "enable_chalkboard": true,
   "footer": "<h3>DHBW Stuttgart</h3>",
   "header": "<h1>Scientific Programming Lab</h1>",
   "scroll": true,
   "theme": "serif",
   "transition": "convex"
  },
  "version": 3
 },
 "nbformat": 4,
 "nbformat_minor": 5
}
