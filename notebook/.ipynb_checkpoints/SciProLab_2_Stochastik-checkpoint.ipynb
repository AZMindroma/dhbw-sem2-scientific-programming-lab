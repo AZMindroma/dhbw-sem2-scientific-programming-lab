{
 "cells": [
  {
   "cell_type": "code",
   "execution_count": null,
   "id": "71725de8",
   "metadata": {
    "slideshow": {
     "slide_type": "skip"
    }
   },
   "outputs": [],
   "source": [
    "#Bitte ausführen, damit alles Notwendige importiert wird\n",
    "#Note: Bei Änderungen der zugrundeliegenden Python-Files muss Jupyter neugestartet werden\n",
    "import scipro"
   ]
  },
  {
   "cell_type": "code",
   "execution_count": null,
   "id": "2670d2e4",
   "metadata": {
    "scrolled": true,
    "slideshow": {
     "slide_type": "skip"
    }
   },
   "outputs": [],
   "source": [
    "%%html\n",
    "<!--Bitte diese Cell mit Run ausführen, damit die Styles geladen werden-->\n",
    "<!--Bei Änderungen des CSS muss das Notebook im Browser neu geladen werden-->\n",
    "<link rel=\"stylesheet\" href=\"./styles/sciprolab.css\">\n"
   ]
  },
  {
   "cell_type": "markdown",
   "id": "unique-crisis",
   "metadata": {
    "slideshow": {
     "slide_type": "slide"
    }
   },
   "source": [
    "# Scientific Programming Lab\n"
   ]
  },
  {
   "cell_type": "markdown",
   "id": "3fb48a6b",
   "metadata": {
    "slideshow": {
     "slide_type": "fragment"
    }
   },
   "source": [
    "## Stochastik"
   ]
  },
  {
   "cell_type": "markdown",
   "id": "ba37fa83",
   "metadata": {
    "slideshow": {
     "slide_type": "slide"
    }
   },
   "source": [
    "## Wahrscheinlichkeitsrechnung und Zufallsvariablen"
   ]
  },
  {
   "cell_type": "markdown",
   "id": "4612cb63",
   "metadata": {
    "slideshow": {
     "slide_type": "slide"
    }
   },
   "source": [
    "## Zufallsexperiment\n",
    "\n",
    "- Ein _Zufallsexperiment_, auch _Zufallsvorgang_ oder _Zufallsversuch_, ist ein Vorgang dessen Resultat unsicher bzw. unvorhersehbar ist und erst nach Eintritt des Resultats dieses wirklich feststeht\n",
    "- Typische Beispiele sind das Werfen einer Münze, das Werfen eines Würfels oder das Ziehen der Lottozahlen"
   ]
  },
  {
   "cell_type": "markdown",
   "id": "543a2d73",
   "metadata": {
    "slideshow": {
     "slide_type": "subslide"
    }
   },
   "source": [
    "- Die Unvorhersehbarkeit des Ergebnisses kann verschiedene Gründe haben:\n",
    "    1. Unkenntnis wichtiger beeinflussender Größen - wie z.B. beim Werfen einer Münze, ...\n",
    "    2. Vorgang wird von sensitiven, dynamischen Gesetzen mit Instabilitäten (Bifurkationen, ... etc.) kontrolliert in dem sich kleinste, nicht messbare Unterschiede entscheidend aufschaukeln können - z.B. Mehrkörperproblem, Wettervorhersage, ...\n",
    "    3. Intrinsischer (gesetzmäßiger) Zufall - z.B. Wahrscheinlichkeit mit der ein Elektron durch einen Potentialwall tunnelt "
   ]
  },
  {
   "cell_type": "markdown",
   "id": "69b35a0e",
   "metadata": {
    "slideshow": {
     "slide_type": "slide"
    }
   },
   "source": [
    "<div class=\"definition\">\n",
    "    <h3>Elementarereignis $\\omega$</h3>\n",
    "    Als Elementarereignis $\\omega$ bezeichnet man einen möglichen elementaren Ausgang eines Zufallsexperiments.\n",
    "</div>"
   ]
  },
  {
   "cell_type": "markdown",
   "id": "1af32120",
   "metadata": {
    "slideshow": {
     "slide_type": "slide"
    }
   },
   "source": [
    "- Die Elementarereignisse eines Münzwurfes sind _Kopf_ $K$ und _Zahl_ $Z$\n",
    "- Elementarereignisse schließen sich gegenseitig aus. Es kann entweder _Kopf_ $K$ oder _Zahl_ $Z$ geworfen werden und nicht beides zugleich.\n",
    "- Die Menge aller Elementarereignisse wird mit $\\Omega$ bezeichnet - beim Münzwurf $\\Omega = \\{K,Z\\}$."
   ]
  },
  {
   "cell_type": "markdown",
   "id": "1a541fd5",
   "metadata": {
    "slideshow": {
     "slide_type": "slide"
    }
   },
   "source": [
    "<div class=\"aufgabe\">\n",
    "    <h3>Elementarereignisse</h3>\n",
    "    Betrachten Sie den gleichzeitigen Wurf mit zwei üblichen, sechseitigen Würfeln.\n",
    "    <br>\n",
    "    Beschreiben Sie $\\Omega$ mit einer möglichst kurzen, mathematischen Notation $\\Omega = \\{ \\dots \\}$!\n",
    "</div>"
   ]
  },
  {
   "cell_type": "markdown",
   "id": "a6bca662",
   "metadata": {
    "slideshow": {
     "slide_type": "skip"
    }
   },
   "source": [
    "### SOLUTION BEGIN\n",
    "\n",
    "$$\n",
    "\\Omega = \\{ (x_1,x_2): x_1,x_2 \\in \\{1,2,3,4,5,6\\} \\}\n",
    "$$\n",
    "\n",
    "### SOLUTION END"
   ]
  },
  {
   "cell_type": "markdown",
   "id": "474d6e52",
   "metadata": {
    "slideshow": {
     "slide_type": "slide"
    }
   },
   "source": [
    "## Zufall in Python\n",
    "\n",
    "- Um Zufallsprozesse auch in Python behandeln zu können, gibt es das [`random`-Modul](https://docs.python.org/3/library/random.html) in der Standardbibliothek\n",
    "- Nach dem Import des Moduls mit `import random` stehen eine ganze Reihe von Funktionen zur Verfügung, wie z.B. \n",
    "`randint(a,b)` um Zufallszahlen aus $[a,b]\\in N$ zu erzeugen"
   ]
  },
  {
   "cell_type": "markdown",
   "id": "c09adcf7",
   "metadata": {
    "slideshow": {
     "slide_type": "subslide"
    }
   },
   "source": [
    "## Zufall in Python\n",
    "- Die erzeugten Zahlen sind jedoch _Pseudo-Zufallszahlen_, d.h.:\n",
    "    - Sie besitzen eine \"begrenzte Zufälligkeit\", die für normale Zufallsexperimente reicht, aber nicht strengen Anforderungen wie z.B. in der Kryptographie\n",
    "    - Man kann den Zufallszahlengenerator anfangs mit Hilfe eines _Seeds_ in einen definierten Status setzen, so dass die Zufallsabfolge reproduzierbar wird - sozusagen \"geplanter Zufall\""
   ]
  },
  {
   "cell_type": "markdown",
   "id": "3fd2e8e9",
   "metadata": {
    "slideshow": {
     "slide_type": "slide"
    }
   },
   "source": [
    "<div class=\"aufgabe\">\n",
    "    <h3>Würfeln in Python</h3>\n",
    "    Schreiben Sie Python-Code der das Werfen eines Würfelns simuliert!\n",
    "</div>"
   ]
  },
  {
   "cell_type": "code",
   "execution_count": null,
   "id": "53894972",
   "metadata": {
    "slideshow": {
     "slide_type": "subslide"
    }
   },
   "outputs": [],
   "source": [
    "### SOLUTION BEGIN\n",
    "\n",
    "import random \n",
    "\n",
    "num = random.randint(1, 6)\n",
    "print(\"Die gewürfelte Zahl ist\", num)\n",
    "\n",
    "### SOLUTION END"
   ]
  },
  {
   "cell_type": "markdown",
   "id": "8b0b37d8",
   "metadata": {
    "slideshow": {
     "slide_type": "slide"
    }
   },
   "source": [
    "# Funktionen"
   ]
  },
  {
   "cell_type": "markdown",
   "id": "e19f08f2",
   "metadata": {
    "slideshow": {
     "slide_type": "fragment"
    }
   },
   "source": [
    "Funktionen fassen mehrere Code-Anweisung zusammen und sind dann über den Namen der Funktion ausführbar.\n",
    "Gerade wenn die Funktionalität so nützlich ist, dass wir sie oft verwenden, sollten wir sie in eine Funktion verpacken.\n",
    "Reines Copy-Paste ist aus vielen Gründen eine schlechte Idee."
   ]
  },
  {
   "cell_type": "markdown",
   "id": "aea015b6",
   "metadata": {
    "slideshow": {
     "slide_type": "fragment"
    }
   },
   "source": [
    "- Bessere Strukturierung und Modularisierung des Codes\n",
    "- Generalisierung durch die Übergabe von Parametern\n",
    "- Wiederverwendung von Code ohne Copy-Paste"
   ]
  },
  {
   "cell_type": "markdown",
   "id": "37dce4b1",
   "metadata": {
    "slideshow": {
     "slide_type": "slide"
    }
   },
   "source": [
    "Ganz allgemein werden Funktionen in Python so definiert:\n",
    "```python\n",
    "def fname(x):\n",
    "    body\n",
    "```\n",
    "\n",
    "Häufig ist der Anfang der Implementierung einer Funktion dieser - Funktionskörper besteht nur aus _pass_:\n",
    "```python\n",
    "def fname(x):\n",
    "    pass\n",
    "```"
   ]
  },
  {
   "cell_type": "markdown",
   "id": "b03a80c0",
   "metadata": {
    "slideshow": {
     "slide_type": "slide"
    }
   },
   "source": [
    "<table>\n",
    "<tbody>\n",
    "<tr>\n",
    "<td style=\"text-align:center\"><strong><code>def</code></strong></td>\n",
    "<td style=\"text-align:left\">Keyword</td>\n",
    "</tr>\n",
    "<tr>\n",
    "<td style=\"text-align:center\"><strong><code>fname</code></strong></td>\n",
    "<td style=\"text-align:left\">Name der Funktion, gleiche Regeln wie bei Variablen</td>\n",
    "</tr>\n",
    "<tr>\n",
    "<td style=\"text-align:center\"><strong><code>()</code></strong></td>\n",
    "<td style=\"text-align:left\">Klammern!</td>\n",
    "</tr>\n",
    "<tr>\n",
    "<td style=\"text-align:center\"><strong><code>x</code></strong></td>\n",
    "<td style=\"text-align:left\">Name der Eingabevariable (wie bei mathematischen Formeln)</td>\n",
    "</tr>\n",
    "<tr>\n",
    "<td style=\"text-align:center\"><strong><code>:</code></strong></td>\n",
    "<td style=\"text-align:left\">Doppelpunkt</td>\n",
    "</tr>\n",
    "<tr>\n",
    "<td style=\"text-align:center\"><strong><code>body</code></strong></td>\n",
    "<td style=\"text-align:left\">Funktionskörper. Indentation/Einzug ist wichtig!! (<strong><code>pass</code></strong> &rarr; Python läuft einfach durch die Funktion)</td>\n",
    "</tr>\n",
    "</tbody>\n",
    "</table>"
   ]
  },
  {
   "cell_type": "markdown",
   "id": "78925f0c",
   "metadata": {
    "slideshow": {
     "slide_type": "slide"
    }
   },
   "source": [
    "Eine Funktion wäre zum Beispiel:"
   ]
  },
  {
   "cell_type": "code",
   "execution_count": null,
   "id": "08bbbf40",
   "metadata": {
    "slideshow": {
     "slide_type": "fragment"
    }
   },
   "outputs": [],
   "source": [
    "def my_stupid_function(count):\n",
    "    for i in range(count):\n",
    "        print(\"Hello from my stupid little function!\")"
   ]
  },
  {
   "cell_type": "markdown",
   "id": "bd20a0dc",
   "metadata": {
    "slideshow": {
     "slide_type": "fragment"
    }
   },
   "source": [
    "... und der Aufruf ist so ..."
   ]
  },
  {
   "cell_type": "code",
   "execution_count": null,
   "id": "0c6ecb03",
   "metadata": {
    "slideshow": {
     "slide_type": "fragment"
    }
   },
   "outputs": [],
   "source": [
    "my_stupid_function(3)"
   ]
  },
  {
   "cell_type": "markdown",
   "id": "f3155fbe",
   "metadata": {
    "slideshow": {
     "slide_type": "slide"
    }
   },
   "source": [
    "Fehler bei der Deklaration der Funktion bemerkt man leider oft erst beim Ausführen der Funktion."
   ]
  },
  {
   "cell_type": "code",
   "execution_count": null,
   "id": "6a4c9dd9",
   "metadata": {
    "slideshow": {
     "slide_type": "fragment"
    }
   },
   "outputs": [],
   "source": [
    "def my_more_stupid_function():\n",
    "    # Eine undeklarierte Variable wird durch 0 geteilt\n",
    "    b = a // 0.0"
   ]
  },
  {
   "cell_type": "code",
   "execution_count": null,
   "id": "ec6768fa",
   "metadata": {
    "slideshow": {
     "slide_type": "fragment"
    }
   },
   "outputs": [],
   "source": [
    "my_more_stupid_func()"
   ]
  },
  {
   "cell_type": "markdown",
   "id": "8b1c259c",
   "metadata": {
    "slideshow": {
     "slide_type": "slide"
    }
   },
   "source": [
    "<div class=\"aufgabe\">\n",
    "    <h3>Mehrfaches Würfeln in Python Teil I</h3>\n",
    "    Fassen Sie Ihren Python-Code zum Würfeln in einer Funktion zusammen der Sie übergeben, wie oft der Würfel geworfen werden soll! Testen Sie Ihre Funktion!\n",
    "</div>"
   ]
  },
  {
   "cell_type": "code",
   "execution_count": null,
   "id": "8d41bb3a",
   "metadata": {
    "slideshow": {
     "slide_type": "slide"
    }
   },
   "outputs": [],
   "source": [
    "### SOLUTION BEGIN\n",
    "\n",
    "import random \n",
    "\n",
    "def roll_dices(count):\n",
    "    for i in range(count):\n",
    "        num = random.randint(1, 6)\n",
    "        print(\"Die gewürfelte Zahl ist\", num)\n",
    "\n",
    "roll_dices(5)\n",
    "### SOLUTION END"
   ]
  },
  {
   "cell_type": "markdown",
   "id": "24cc1bc9",
   "metadata": {
    "slideshow": {
     "slide_type": "slide"
    }
   },
   "source": [
    "Bleibt die Frage, wie man auf die Resultate zugreifen kann, die in der Funktion berechnet werden?</br>\n",
    "Versuchen wir es direkt ..."
   ]
  },
  {
   "cell_type": "code",
   "execution_count": null,
   "id": "e0ce7964",
   "metadata": {
    "slideshow": {
     "slide_type": "fragment"
    }
   },
   "outputs": [],
   "source": [
    "def my_more_stupid_function(a):\n",
    "    b = a // 2\n",
    "    \n",
    "my_more_stupid_function(10)\n",
    "b"
   ]
  },
  {
   "cell_type": "markdown",
   "id": "9672149b",
   "metadata": {
    "slideshow": {
     "slide_type": "slide"
    }
   },
   "source": [
    "... das klappt offensichtlich nicht. Wir können auf Variablen, die in der Funktion definiert sind nicht von außen zugreifen. </br>\n",
    "Schauen wir, ob wir etwas von der Funktion zurückbekommen:"
   ]
  },
  {
   "cell_type": "code",
   "execution_count": null,
   "id": "c3d978ae",
   "metadata": {
    "slideshow": {
     "slide_type": "fragment"
    }
   },
   "outputs": [],
   "source": [
    "b = my_more_stupid_function(10)\n",
    "b"
   ]
  },
  {
   "cell_type": "markdown",
   "id": "e2d9e279",
   "metadata": {
    "slideshow": {
     "slide_type": "fragment"
    }
   },
   "source": [
    "`b` scheint leer zu sein. Schauen wir mal genauer hin ..."
   ]
  },
  {
   "cell_type": "code",
   "execution_count": null,
   "id": "a3ac1536",
   "metadata": {
    "slideshow": {
     "slide_type": "fragment"
    }
   },
   "outputs": [],
   "source": [
    "type(b)"
   ]
  },
  {
   "cell_type": "markdown",
   "id": "92efb650",
   "metadata": {
    "slideshow": {
     "slide_type": "slide"
    }
   },
   "source": [
    "Ergebnisse müssen explizit aus Funktionen zurückgegeben werden und es kann auch nur ein Ergebnis aus einer Funktion zurückgegeben werden ..."
   ]
  },
  {
   "cell_type": "code",
   "execution_count": null,
   "id": "f1402ff3",
   "metadata": {
    "slideshow": {
     "slide_type": "fragment"
    }
   },
   "outputs": [],
   "source": [
    "def my_more_stupid_function(a):\n",
    "    b = a // 2\n",
    "    return b\n",
    "    \n",
    "b = my_more_stupid_function(10)\n",
    "print(f\"Es kommt zurück ein {type(b)}-Objekt mit dem Wert {b}.\")"
   ]
  },
  {
   "cell_type": "markdown",
   "id": "398e5eb2",
   "metadata": {
    "slideshow": {
     "slide_type": "slide"
    }
   },
   "source": [
    "<div class=\"aufgabe\">\n",
    "    <h3>Mehrfaches Würfeln in Python Teil II</h3>\n",
    "    Wie könnte man sich alle gewürfelten Augenzahlen merken und diese gesammelt am Ende dem Aufrufer zurückgeben, statt sie nur auszugeben? Erinnern sie sich an die letzte Vorlesung!\n",
    "</div>"
   ]
  },
  {
   "cell_type": "code",
   "execution_count": null,
   "id": "0835843b",
   "metadata": {
    "slideshow": {
     "slide_type": "fragment"
    }
   },
   "outputs": [],
   "source": [
    "### SOLUTION BEGIN\n",
    "\n",
    "import random\n",
    "\n",
    "def roll_dices(count):\n",
    "    rolls = []\n",
    "    for i in range(count):\n",
    "        num = random.randint(1, 6)\n",
    "        rolls.append(num)\n",
    "    return(rolls)\n",
    "\n",
    "all_rolls = roll_dices(10)\n",
    "### SOLUTION END"
   ]
  },
  {
   "cell_type": "code",
   "execution_count": null,
   "id": "bbe54a90",
   "metadata": {
    "slideshow": {
     "slide_type": "fragment"
    }
   },
   "outputs": [],
   "source": [
    "all_rolls"
   ]
  },
  {
   "cell_type": "markdown",
   "id": "cbb0fcd9",
   "metadata": {
    "slideshow": {
     "slide_type": "slide"
    }
   },
   "source": [
    "## Funktionen noch einmal ...\n",
    "\n",
    "Funktionen haben einen Namen (z.B. `print`), Klammern `()` und (optional) etwas zwischen den Klammern (\"Argumente/Eingabe/Input\", z.B. `\"stuff\"`). Sie tun (optional) etwas (\"Seiteneffekt\") und sie geben (optional) etwas zurück.\n",
    "\n",
    "|Name|Argument|Seiteneffekt|Ausgabe|\n",
    "|-----|-----|-----|-----|\n",
    "|`int`|etwas in einen Integer konvertieren |-| konvertierter Wert|\n",
    "|`float`|etwas in einen Float konvertieren|-|konvertierter Wert|\n",
    "|`print`|das was auszugeben ist |Ausgabe auf der Konsole|-|\n",
    "|`input`|-|Eingabe vom Nutzer abfragen |Eingabe des Nutzers als String|\n",
    "|`roll_dices`|Anzahl der Würfe|Liste mit allen gewürfelten Augenzahlen |-|"
   ]
  },
  {
   "cell_type": "markdown",
   "id": "bfffb080",
   "metadata": {
    "slideshow": {
     "slide_type": "subslide"
    }
   },
   "source": [
    "Man kann die Ausgabe einer Variable `x` zuweisen:<br>\n",
    "- `x = function(arguments)`.\n",
    "\n",
    "Die Ausgabefunktion `print` liefert keinen Wert zurück (sondern hat nur einen Seiteneffekt):<br>\n",
    "- Also sieht man eigentlich nie `x = print(\"stuff\")`."
   ]
  },
  {
   "cell_type": "markdown",
   "id": "414e45fc",
   "metadata": {
    "slideshow": {
     "slide_type": "slide"
    }
   },
   "source": [
    "<div class=\"definition\">\n",
    "    <h3>Ereignis $A$</h3>\n",
    "    Als Ereignis $A$ bezeichnet man eine Reihe von möglichen Ausgängen eines Zufallsexperiments $A \\subset \\Omega$.\n",
    "</div>"
   ]
  },
  {
   "cell_type": "markdown",
   "id": "6e3ed9f1",
   "metadata": {
    "slideshow": {
     "slide_type": "subslide"
    }
   },
   "source": [
    "- Ereignisse schließen sich gegenseitig nicht aus.\n",
    "- Beispiele für mögliche Ereignisse beim Wurf mit zwei Wüfeln:\n",
    "    - $\\text{Augensume ist 5} \\to A=\\{(1,4),(2,3),(3,2),(5,1)\\}$\n",
    "    - $\\text{Erste Augenzahl ist 4} \\to A=\\{(4,1),(4,2), \\ldots ,(4,5),(4,6)\\}$"
   ]
  },
  {
   "cell_type": "markdown",
   "id": "47a6f617",
   "metadata": {
    "slideshow": {
     "slide_type": "subslide"
    }
   },
   "source": [
    "- Generell gilt:\n",
    "    - $A = \\emptyset$ &rarr; _unmögliches Ereignis_\n",
    "    - $A = \\Omega$ &rarr; _sicheres Ereignis_\n",
    "    - $A \\subset B$ &rarr; $A$ ist _Teilereignis_ von $B$\n",
    "    - $A \\cap B = \\emptyset$ &rarr; $A$ und  $B$ sind _disjunkte_ Ereignisse\n",
    "    - $A = \\overline{B}$ &rarr; $A$ ist _Komplementärereignis_ von $B$\n",
    "    - $A = \\bigcup_i A_i $ &rarr; $A$ ist die Vereinigung aller $A_i$\n",
    "    - $A = \\bigcap_i A_i $ &rarr; $A$ ist der Schnitt aller $A_i$"
   ]
  },
  {
   "cell_type": "markdown",
   "id": "9a381f5c",
   "metadata": {
    "slideshow": {
     "slide_type": "slide"
    }
   },
   "source": [
    "## Axiome der Wahrscheinlichkeit\n",
    "\n",
    "Wenn mit $P(A)$ die Wahrscheinlichkeit des Eintretens eines Ereignises $A$ bezeichnet wird, muß gelten:\n",
    "1. $\\forall A \\, : \\quad P(A) \\geq 0$\n",
    "2. $P(\\Omega) = 1$\n",
    "3. $\\forall A_i,A_j,i \\neq j \\, \\land \\, A_i \\cap A_j = \\emptyset \\, : \\quad P(\\bigcup_i A_i) =\\sum_i P(A_i)$ "
   ]
  },
  {
   "cell_type": "markdown",
   "id": "dc9339e8",
   "metadata": {
    "slideshow": {
     "slide_type": "slide"
    }
   },
   "source": [
    "<div class=\"definition\">\n",
    "    <h3>Laplace-Wahrscheinlichkeit</h3>\n",
    "    $$ \n",
    "        P(A) = \\frac{|A|}{|\\Omega|} = \\frac{\\text{Anzahl der für A notwendigen Ereignisse}}{\\text{Anzahl aller möglichen Ereignisse}}\n",
    "    $$\n",
    "    unter der Voraussetzung, dass alle Elementarereignisse $\\omega$ gleich wahrscheinlich sind. \n",
    "</div>"
   ]
  },
  {
   "cell_type": "markdown",
   "id": "39e3609f",
   "metadata": {
    "slideshow": {
     "slide_type": "slide"
    }
   },
   "source": [
    "### Beispiel: \n",
    "Wie hoch ist die Wahrscheinlichkeit beim gleichzeitigem Wurf mit zwei Würfeln die Augensumme 5 zu erhalten?"
   ]
  },
  {
   "cell_type": "markdown",
   "id": "719b674d",
   "metadata": {
    "slideshow": {
     "slide_type": "fragment"
    }
   },
   "source": [
    "$A=\\{(1,4),(2,3),(3,2),(5,1)\\}$ \n",
    "\n",
    "$\\Omega = \\{ (x_1,x_2): x_1,x_2 \\in \\{1,2,3,4,5,6\\} \\}$\n",
    "\n",
    "$P(A) = \\frac{|A|}{|\\Omega|} = \\frac{4}{6 \\cdot 6} = \\frac{4}{36} = \\frac{1}{9}$"
   ]
  },
  {
   "cell_type": "markdown",
   "id": "79b18359",
   "metadata": {
    "slideshow": {
     "slide_type": "slide"
    }
   },
   "source": [
    " <div class=\"aufgabe\">\n",
    "    <h3>Fairer Würfel</h3>\n",
    "    Ein Würfel ist fair, wenn alle Augenzahlen gleich wahrscheinlich sind. Schreiben Sie eine Funktion, die das Wurfergebnis Ihrer obigen Funktion entgegennimmt und den relativen Anteil der Augenzahlen berechnet.\n",
    "</div>"
   ]
  },
  {
   "cell_type": "code",
   "execution_count": null,
   "id": "7a850c64",
   "metadata": {
    "slideshow": {
     "slide_type": "fragment"
    }
   },
   "outputs": [],
   "source": [
    "### SOLUTION BEGIN\n",
    "\n",
    "def count_eyes(rolls):\n",
    "    eyes = [0,0,0,0,0,0]\n",
    "    for i in rolls:\n",
    "        eyes[i-1] = eyes[i-1] + 1\n",
    "    proportion = [c/len(rolls) for c in eyes]\n",
    "    return(proportion)\n",
    "\n",
    "all_rolls = roll_dices(100)\n",
    "probs = count_eyes(all_rolls)\n",
    "### SOLUTION END"
   ]
  },
  {
   "cell_type": "markdown",
   "id": "6c27d8ca",
   "metadata": {
    "slideshow": {
     "slide_type": "fragment"
    }
   },
   "source": [
    "Das Einschätzen und Beurteilen von mehreren Zahlen ist für den Menschen nicht einfach. Dafür können wir aber visuell enorme Datenmengen erfassen und verarbeiten, weshalb die grafische Darstellung von Daten enorm wichtig ist."
   ]
  },
  {
   "cell_type": "markdown",
   "id": "e5fe390e",
   "metadata": {
    "slideshow": {
     "slide_type": "slide"
    }
   },
   "source": [
    "## Matplotlib"
   ]
  },
  {
   "cell_type": "markdown",
   "id": "6067f568",
   "metadata": {
    "slideshow": {
     "slide_type": "fragment"
    }
   },
   "source": [
    "__Die Bibiliothek__ für Grafik in Python ist [Matplotlib](https://matplotlib.org/) </br>\n",
    "Ein einfaches Beispiel ist der folgende Scatter-Plot mit Matplotlib:"
   ]
  },
  {
   "cell_type": "code",
   "execution_count": null,
   "id": "b1492810",
   "metadata": {
    "slideshow": {
     "slide_type": "subslide"
    }
   },
   "outputs": [],
   "source": [
    "#%matplotlib notebook\n",
    "import matplotlib.pyplot as plt\n",
    "\n",
    "x_vals = [10, 22.3, 3.5, 8, 1.5]\n",
    "y_vals = [2.3, 5, 7.8, 3.1, 1.2]\n",
    "\n",
    "# Einzeichnen der Balken\n",
    "plt.scatter(x_vals, y_vals, color='skyblue', marker = 'o')\n",
    "\n",
    "# Titel und Achsenbeschriftung\n",
    "plt.title(f'Scatterplot von {len(y_vals)} Werten')\n",
    "plt.xlabel('x')\n",
    "plt.ylabel('y')\n",
    "\n",
    "# Plot anzeigen\n",
    "plt.show()"
   ]
  },
  {
   "cell_type": "code",
   "execution_count": null,
   "id": "b1d630d0",
   "metadata": {
    "slideshow": {
     "slide_type": "slide"
    }
   },
   "outputs": [],
   "source": [
    "#%matplotlib notebook\n",
    "### SOLUTION BEGIN\n",
    "\n",
    "import matplotlib.pyplot as plt\n",
    "\n",
    "eyes = [1, 2, 3, 4, 5, 6]\n",
    "\n",
    "# Einzeichnen der Balken\n",
    "plt.bar(eyes, probs, color='skyblue')\n",
    "\n",
    "# Titel und Achsenbeschriftung\n",
    "plt.title(f'Relative Häufigkeiten bei {len(probs)} Würfen')\n",
    "plt.xlabel('Augenzahl')\n",
    "plt.ylabel('Häufigkeit')\n",
    "\n",
    "# Plot anzeigen\n",
    "plt.show()\n",
    "\n",
    "### SOLUTION END"
   ]
  },
  {
   "cell_type": "markdown",
   "id": "f586686c",
   "metadata": {
    "slideshow": {
     "slide_type": "slide"
    }
   },
   "source": [
    "## Rechenregeln für Wahrscheinlichkeiten\n",
    "\n",
    "$P(\\emptyset) = 0$\n",
    "\n",
    "$P(A) \\leq 1$\n",
    "\n",
    "$A \\subset B \\mapsto P(A) \\leq P(B)$ \n",
    "\n",
    "$P\\left(\\,\\overline{A}\\,\\right) = 1 - P(A)$ \n",
    "\n",
    "$P(A \\cup B) = P(A) + P(B) - P(A \\cap B)$"
   ]
  },
  {
   "cell_type": "markdown",
   "id": "8ba0e62a",
   "metadata": {
    "slideshow": {
     "slide_type": "slide"
    }
   },
   "source": [
    "<div class=\"aufgabe\">\n",
    "    <h3>Rechenregeln für Wahrscheinlichkeiten</h3>\n",
    "    Betrachten Sie wieder den gleichzeitigen Wurf mit zwei üblichen, sechseitigen Würfeln.\n",
    "    <br>\n",
    "    Berechnen Sie die Wahrscheinlichkeit für das Ereignis $A = \\text{Augensumme < 11}$!\n",
    "</div>"
   ]
  },
  {
   "cell_type": "markdown",
   "id": "2a4c3f94",
   "metadata": {
    "slideshow": {
     "slide_type": "slide"
    }
   },
   "source": [
    "### SOLUTION BEGIN\n",
    "\n",
    "$$\n",
    "P(A) = 1 - P(\\text{Augensumme} \\geq 11) = 1 - P(\\, \\{(5,6),(6,6),(6,5) \\} \\,) = 1 - \\frac{3}{36} = \\frac{33}{36} = \\frac{11}{12}\n",
    "$$\n",
    "\n",
    "### SOLUTION END"
   ]
  },
  {
   "cell_type": "markdown",
   "id": "8ff07b89",
   "metadata": {
    "slideshow": {
     "slide_type": "slide"
    }
   },
   "source": [
    "## Bedingte Wahrscheinlichkeiten und der Satz von Bayes"
   ]
  },
  {
   "cell_type": "markdown",
   "id": "4a62ab99",
   "metadata": {
    "slideshow": {
     "slide_type": "fragment"
    }
   },
   "source": [
    "<div class=\"definition\">\n",
    "    <h3>Bedingte Wahrscheinlichkeit</h3>\n",
    "    Die bedingte Wahrscheinlichkeit\n",
    "    $$ \n",
    "        P(A|B) = \\frac{P(A \\cap B)}{P(B)}\n",
    "    $$\n",
    "    gibt die Wahrscheinlichkeit für das Ereignis $A$ an, wenn das Ereignis $B$ bereits eingetreten ist. \n",
    "</div>"
   ]
  },
  {
   "cell_type": "markdown",
   "id": "31c3ed9c",
   "metadata": {
    "slideshow": {
     "slide_type": "slide"
    }
   },
   "source": [
    "Es läßt sich für $P(B) > 0$ zeigen: \n",
    "$$\n",
    "P(A \\cap B) = P(B \\cap A)\n",
    "P(A|B) \\cdot P(B) = P(B|A) \\cdot P(A)\n",
    "P(A|B) = \\frac{P(B|A) \\cdot P(A)}{P(B)}\n",
    "$$"
   ]
  },
  {
   "cell_type": "markdown",
   "id": "709a0d80",
   "metadata": {
    "slideshow": {
     "slide_type": "slide"
    }
   },
   "source": [
    "<div class=\"satz\">\n",
    "    <h3>Satz von Bayes</h3>\n",
    "    Für zwei Ereignisse $A$ und $B$ mit $P(B)>0$ kann die Wahrscheinlichkeit von $A$ unter der Bedingung, dass $B$ eingetreten ist, durch die Wahrscheinlichkeit von $B$ unter der Bedingung, dass $A$ eingetreten ist, mittels der folgenden Formel berechnen:\n",
    "    $$\n",
    "        P(A|B) = \\frac{P(B|A) \\cdot P(A)}{P(B)}\n",
    "    $$\n",
    "</div>"
   ]
  },
  {
   "cell_type": "markdown",
   "id": "abeb180c",
   "metadata": {
    "slideshow": {
     "slide_type": "slide"
    }
   },
   "source": [
    "# Footer"
   ]
  },
  {
   "cell_type": "code",
   "execution_count": null,
   "id": "5cc835ac",
   "metadata": {
    "slideshow": {
     "slide_type": "fragment"
    }
   },
   "outputs": [],
   "source": [
    "#Ausführen, um den aktuellen Footer anzuzeigen\n",
    "from IPython.display import HTML\n",
    "HTML(filename='files/footer.html')"
   ]
  }
 ],
 "metadata": {
  "celltoolbar": "Slideshow",
  "file_extension": ".py",
  "kernelspec": {
   "display_name": "Python 3 (ipykernel)",
   "language": "python",
   "name": "python3"
  },
  "language_info": {
   "codemirror_mode": {
    "name": "ipython",
    "version": 3
   },
   "file_extension": ".py",
   "mimetype": "text/x-python",
   "name": "python",
   "nbconvert_exporter": "python",
   "pygments_lexer": "ipython3",
   "version": "3.11.7"
  },
  "mimetype": "text/x-python",
  "name": "python",
  "npconvert_exporter": "python",
  "pygments_lexer": "ipython3",
  "rise": {
   "autolaunch": false,
   "backimage": "images/python-logo-only.svg",
   "enable_chalkboard": true,
   "footer": "<h3>DHBW Stuttgart</h3>",
   "header": "<h1>Scientific Programming Lab</h1>",
   "scroll": true,
   "theme": "serif",
   "transition": "convex"
  },
  "version": 3
 },
 "nbformat": 4,
 "nbformat_minor": 5
}
