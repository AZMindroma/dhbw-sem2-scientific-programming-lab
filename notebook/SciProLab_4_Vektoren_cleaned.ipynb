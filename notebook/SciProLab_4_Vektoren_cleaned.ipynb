{
 "cells": [
  {
   "cell_type": "code",
   "id": "71725de8",
   "metadata": {
    "slideshow": {
     "slide_type": "skip"
    },
    "ExecuteTime": {
     "end_time": "2025-05-20T16:44:42.632540Z",
     "start_time": "2025-05-20T16:44:42.628620Z"
    }
   },
   "source": [
    "#Bitte ausführen, damit alles Notwendige importiert wird\n",
    "#Note: Bei Änderungen der zugrundeliegenden Python-Files muss Jupyter neugestartet werden\n",
    "import scipro"
   ],
   "outputs": [],
   "execution_count": 1
  },
  {
   "cell_type": "code",
   "id": "2670d2e4",
   "metadata": {
    "scrolled": true,
    "slideshow": {
     "slide_type": "skip"
    },
    "ExecuteTime": {
     "end_time": "2025-05-19T12:38:20.819738Z",
     "start_time": "2025-05-19T12:38:20.808024Z"
    }
   },
   "source": [
    "%%html\n",
    "<!--Bitte diese Cell mit Run ausführen, damit die Styles geladen werden-->\n",
    "<!--Bei Änderungen des CSS muss das Notebook im Browser neu geladen werden-->\n",
    "<link rel=\"stylesheet\" href=\"./styles/sciprolab.css\">\n"
   ],
   "outputs": [
    {
     "data": {
      "text/plain": [
       "<IPython.core.display.HTML object>"
      ],
      "text/html": [
       "<!--Bitte diese Cell mit Run ausführen, damit die Styles geladen werden-->\n",
       "<!--Bei Änderungen des CSS muss das Notebook im Browser neu geladen werden-->\n",
       "<link rel=\"stylesheet\" href=\"./styles/sciprolab.css\">\n",
       "\n"
      ]
     },
     "metadata": {},
     "output_type": "display_data"
    }
   ],
   "execution_count": 2
  },
  {
   "cell_type": "markdown",
   "id": "unique-crisis",
   "metadata": {
    "slideshow": {
     "slide_type": "slide"
    }
   },
   "source": [
    "# Scientific Programming Lab\n"
   ]
  },
  {
   "cell_type": "markdown",
   "id": "543a2d73",
   "metadata": {
    "slideshow": {
     "slide_type": "slide"
    }
   },
   "source": [
    "## Vektoren\n",
    "\n",
    "<div><img src=\"images/machine_learning_2x.png\" width=300 align=right alt=\"xkcd comic describing machine learning as a pile of linear algebra, https://xkcd.com/1838/\"/>\n",
    "</div>    \n",
    "\n",
    "### Ziele und Inhalte\n",
    "\n",
    "- Mathmatische Inhalte\n",
    "  - Definition von Vektoren, Vektoren im $\\mathbb{R}^n$\n",
    "  - Rechneoperationen mit Vektoren und Skalaren\n",
    "  - Änhlichkeitsmaße \n",
    "- Informatische Inhalte\n",
    "  - Arrays im allgemeinen\n",
    "  - Arrays und ähnliches in Python\n",
    "  - NumPy Arrays\n",
    "  - Vektoren im Bereich *künstliche Intelligenz*\n",
    "\n",
    "## Arrays \n",
    "\n",
    "*Arrays* oder *Felder* (der deutsche Begriff ist mehrdeutig, und meist importieren wir einfach das Fremdwort) gehören zu den ältesten Datenstrukturen, die es im Bereich der (praktischen) Informatik gibt. Ein 1-dimensionales Array ist eine Folge von im Speicher direkt nacheinander liegenden Datenelementen der selben Größe (und normalerweise des selben Typs). Der Zugriff auf Array-Elemente erfolgt normalerweise über den *Index* des gesuchten Elementes -  `arr[5]` würde so auf das Element mit Index 5 von `arr` zugreifen (normalerweise das *sechste* Element - siehe unten).\n",
    "\n",
    "Man kann die Adresse jedes Elementes leicht aus der Anfangsadresse des Arrays und der Größe der Elemente errechnen - das ist eine *lineare Transformation*. Der Speicher eines normalen Rechners hat große Ähnlichkeiten mit einem Array - man kann ihn als Array von Bytes (oder von Worten) betrachten. Deswegen sind Arrays auf konventionellen Rechnern auch sehr leicht zu implementieren. Historisch gibt es verschiedene Indizierungsmethoden, aber heutzutage hat sich weitgehend die sehr einfache Methode durchgesetzt, für die sich auch schon die Entwickler der Sprache C entschieden haben: Arrays mit $n$ Einträgen haben Indizes im Bereich $0$ bis $(n-1)$. \n",
    "\n",
    "|arr |0|1|2|3|4|5|\n",
    "|---|---|---|---|---|---|---|\n",
    "| |4|8|15|16|23|42|\n",
    "\n",
    "Es gibt eine Vielzahl von Anwendungen von Arrays - von Datenbanktabellen (mit vielen gleichartigen Zeilen) bis zu Klimamodellen (wo der Zustand der Atmosphäre in einem festen Raster simuliert wird). Gerade in letzterem Fall kommen auch mehrdimensionale Arrays zum Einsatz. Ein mehrdimensionales Array ist konzeptionell ein Array von Arrays geringerer Dimension. Insbesondere kann man 2-D-Arrays als recheckige Schemata von Datenelementen betrachten, wobei jede Zeile (bei \"row-major Layout\") ein 1-D-Array ist:\n",
    "\n",
    "|arr |0|1|2|3|\n",
    "|---|---|---|---|---|\n",
    "|**0**|||||\n",
    "|**1**||||17|\n",
    "|**2**|||||\n",
    "|**3**|||||\n",
    "|**4**|||||\n",
    "\n",
    "Der Zugriff auf z.B. das Element mit dem Wert 17 erfolgt dabei typischerweise mit `arr[1][3]` - in manchen Sprachen auch mit `arr[1,3]`. Da klassiche Arrays eine feste größe haben, kann man auch für mehrdimensionale Arrays die Adresse eines Datenelements in konstanter Zeit aus den Indices errechnen. Dieser schnelle Zugriff in **O**(1) ist eine wichtige Eigenschaft von *echten* Arrays.\n",
    "\n",
    "Neben echten Arrays gibt es heute eine Vielzahl von anderen Datenstrukturen, die ein äußerlich ähnliches Interface anbieten - z.B. sogenannte *assoziative Arrays* und auch (speziell in Python) manche Implementierungen von *Listen*. Diese haben verschiedene Vor- und Nachteile, sind aber hier nicht unser Thema.\n",
    "\n",
    "## Arrays und Array-ähnliche Datenstrukturen in Python\n",
    "\n",
    "### Listen\n",
    "\n",
    "Die häufigste sequentielle Datenstruktur in Python ist die *Liste*. Python-Listen sind sehr vielseitig und bequem zu verwenden, und bieten ein Interface, das Listen-Operationen, Stack-Operationen, und Array-Operationen unterstützt. Die unterliegende Implementierung verwendet ein *dynamisches Array* von Pointern mit *Overallocation* __[[Quelle]](https://docs.python.org/3/faq/design.html#how-are-lists-implemented-in-cpython)__, d.h. zum einen werden nicht die echten Werte, sondern nur Referenzen auf diese in einer Liste gespeichert, zum zweiten belegen Listen in der Regel mehr Platz, als erwartet, und zum dritten sind Zugriffe über den Index in der Regel immer noch **O**(1), allerdings, wegen der Pointer-Dereferenzierung, langsamer als bei echten Arrays. Auch haben Operationen wie das Ein- oder Ausfügen von Elementen sehr verschiedene  Laufzeiten, je nach dem, wo ein Element im Array steht. Für viele Anwendungen sind Listen in Python eine adäquate Datenstruktur. \n",
    "\n",
    "Betrachten Sie folgene Beispiele und probieren Sie sie aus:"
   ]
  },
  {
   "cell_type": "code",
   "id": "e87b34c1-0ca1-41f0-b01a-eb3ddf9fa3b1",
   "metadata": {
    "ExecuteTime": {
     "end_time": "2025-05-19T07:56:27.985123Z",
     "start_time": "2025-05-19T07:56:27.979253Z"
    }
   },
   "source": [
    "lst = [\"a\", \"b\", \"c\", \"d\", \"e\"]\n",
    "\n",
    "i = 0\n",
    "while i < len(lst):\n",
    "    print(i, \":\", lst[i])\n",
    "    i = i+1"
   ],
   "outputs": [
    {
     "name": "stdout",
     "output_type": "stream",
     "text": [
      "0 : a\n",
      "1 : b\n",
      "2 : c\n",
      "3 : d\n",
      "4 : e\n"
     ]
    }
   ],
   "execution_count": 3
  },
  {
   "cell_type": "markdown",
   "id": "1bf2b636-fbf4-45b7-a57c-74d87e53b00c",
   "metadata": {},
   "source": [
    "Hier wird über die Liste (bzw. das Array) `lst` wie in einer klassischen Programmiersprache  iteriert. Wir haben eine klassische Schleifenvariable, die initialisiert und erhöht wird, und wir indizieren das Array direkt. \n",
    "\n",
    "In Python ist man allerdings selten gezwungen, Zählvariablen manuell zu manipulieren. Wesentlich *pythonischer* ist folgende Lösung:"
   ]
  },
  {
   "cell_type": "code",
   "id": "bb5fcd9c-3abb-4622-afb1-4e58d7cd681d",
   "metadata": {
    "ExecuteTime": {
     "end_time": "2025-05-19T08:00:55.932588Z",
     "start_time": "2025-05-19T08:00:55.927241Z"
    }
   },
   "source": [
    "for i in range(len(lst)):\n",
    "        print(i, \":\", lst[i])"
   ],
   "outputs": [
    {
     "name": "stdout",
     "output_type": "stream",
     "text": [
      "0 : a\n",
      "1 : b\n",
      "2 : c\n",
      "3 : d\n",
      "4 : e\n"
     ]
    }
   ],
   "execution_count": 4
  },
  {
   "cell_type": "markdown",
   "id": "0d62dcf6-9aa6-415a-9b27-777fe91d3f03",
   "metadata": {},
   "source": [
    "Die Funktion `range()` liefert ein Objekt, dass sich im wesentlichen wie ein Liste von Indices verhält. Mit einem Argument ist das Ergebnis äquivalent zur Liste `[0,...,arg-1]`, liefert also genau die Indices eines Arrays mit `arg` Elementen.\n",
    "\n",
    "Auch bei dieser Lösung wird noch mit einer expliziten Indexvariable gearbeitet - in vielen klassischen Programmiersprachen ist das nötig. Moderne Sprachen bieten hier oft komfortablere Lösungen - so auch Python, wenn man die Laufvariable nicht braucht:"
   ]
  },
  {
   "cell_type": "code",
   "id": "3a2eeb6e-ef28-4830-a3de-6324903ca46a",
   "metadata": {
    "ExecuteTime": {
     "end_time": "2025-05-19T08:00:58.467356Z",
     "start_time": "2025-05-19T08:00:58.460861Z"
    }
   },
   "source": [
    "for l in lst:\n",
    "    print(\"Kein expliziter Index!\", l)"
   ],
   "outputs": [
    {
     "name": "stdout",
     "output_type": "stream",
     "text": [
      "Kein expliziter Index! a\n",
      "Kein expliziter Index! b\n",
      "Kein expliziter Index! c\n",
      "Kein expliziter Index! d\n",
      "Kein expliziter Index! e\n"
     ]
    }
   ],
   "execution_count": 5
  },
  {
   "cell_type": "markdown",
   "id": "368ba061-0b41-417b-80e2-e005d76da8ea",
   "metadata": {},
   "source": [
    "### Tupel und Dictionaries\n",
    "\n",
    "*Tupel* werden in Python mit Kommata getrennt und üblicherweise in runde Klammern eingeschlossen: `(\"a\", \"b\", \"c\", \"d\", \"e\")`. Sie unterscheiden sich funktional von Listen dadurch, dass sie *immutable*, also unveränderlich sind. Weder können Sie Elemente hinzufügen oder löschen, noch können Sie Elemente verändern. Probieren Sie es aus:"
   ]
  },
  {
   "cell_type": "code",
   "id": "7a26fe24-f5fb-4363-b805-1c732839654b",
   "metadata": {
    "ExecuteTime": {
     "end_time": "2025-05-19T08:01:32.825427Z",
     "start_time": "2025-05-19T08:01:32.819500Z"
    }
   },
   "source": [
    "lst = [\"a\", \"b\", \"c\", \"d\", \"e\"]\n",
    "lst[1] = \"Hallo\"\n",
    "print(lst)"
   ],
   "outputs": [
    {
     "name": "stdout",
     "output_type": "stream",
     "text": [
      "['a', 'Hallo', 'c', 'd', 'e']\n"
     ]
    }
   ],
   "execution_count": 6
  },
  {
   "cell_type": "code",
   "id": "390a7fb8-78c8-4e65-8c9b-27a242972513",
   "metadata": {
    "ExecuteTime": {
     "end_time": "2025-05-19T08:01:41.715081Z",
     "start_time": "2025-05-19T08:01:41.338687Z"
    }
   },
   "source": [
    "tup = (\"a\", \"b\", \"c\", \"d\", \"e\")\n",
    "tup[1] = \"Selber hallo!\"\n",
    "print(tup)"
   ],
   "outputs": [
    {
     "ename": "TypeError",
     "evalue": "'tuple' object does not support item assignment",
     "output_type": "error",
     "traceback": [
      "\u001B[31m---------------------------------------------------------------------------\u001B[39m",
      "\u001B[31mTypeError\u001B[39m                                 Traceback (most recent call last)",
      "\u001B[36mCell\u001B[39m\u001B[36m \u001B[39m\u001B[32mIn[7]\u001B[39m\u001B[32m, line 2\u001B[39m\n\u001B[32m      1\u001B[39m tup = (\u001B[33m\"\u001B[39m\u001B[33ma\u001B[39m\u001B[33m\"\u001B[39m, \u001B[33m\"\u001B[39m\u001B[33mb\u001B[39m\u001B[33m\"\u001B[39m, \u001B[33m\"\u001B[39m\u001B[33mc\u001B[39m\u001B[33m\"\u001B[39m, \u001B[33m\"\u001B[39m\u001B[33md\u001B[39m\u001B[33m\"\u001B[39m, \u001B[33m\"\u001B[39m\u001B[33me\u001B[39m\u001B[33m\"\u001B[39m)\n\u001B[32m----> \u001B[39m\u001B[32m2\u001B[39m \u001B[43mtup\u001B[49m\u001B[43m[\u001B[49m\u001B[32;43m1\u001B[39;49m\u001B[43m]\u001B[49m = \u001B[33m\"\u001B[39m\u001B[33mSelber hallo!\u001B[39m\u001B[33m\"\u001B[39m\n\u001B[32m      3\u001B[39m \u001B[38;5;28mprint\u001B[39m(tup)\n",
      "\u001B[31mTypeError\u001B[39m: 'tuple' object does not support item assignment"
     ]
    }
   ],
   "execution_count": 7
  },
  {
   "cell_type": "markdown",
   "id": "58129a76-63aa-4dd3-bb33-2646f9ecac5b",
   "metadata": {},
   "source": [
    "*Dictionaries* oder *assoziative Arrays* haben in Python dynamische Größe und erlauben die Indizierung über beliebige *immutable* Objekte - Zahlen, Strings, Tupel, aber z.B. keine Listen. Bei Dictionaries müssen die Schlüssel immer angegeben werden. Technisch steht hinter Dictionaries eine *Hash-Table*. Die Geschwindigkeit skaliert ähnlich wie bei echten Arrays, ist aber grundsätzlich ca. 1-2 Größenordnungen langsamer.\n",
    "\n",
    "Im folgenden Beispiel wird ein Dictionary von Studierenden mit als Index die Matrikelnummer verwendet. Führen Sie die Code-Fragmente der Reihenfolge nach aus."
   ]
  },
  {
   "cell_type": "markdown",
   "id": "12d8fecb-6414-4402-9b53-69d4f14bf838",
   "metadata": {},
   "source": [
    "Auf Elemente (engl. *values*) kann mittels des Indexwert (engl. *key*) zugegriffen werden."
   ]
  },
  {
   "cell_type": "code",
   "id": "bf33e1d2-a82e-4369-a5a2-8c220c9bc3d7",
   "metadata": {
    "ExecuteTime": {
     "end_time": "2025-05-19T08:06:14.280577Z",
     "start_time": "2025-05-19T08:06:14.275620Z"
    }
   },
   "source": [
    "students_by_matr = {\"7439876\":\"Max Muster\", \"0677231\":\"Stefan Student\", \"9238573\":\"Karla Kommilitona\", \"6109300\":\"Alime Absolventin\"}\n",
    "print(\"Die Matrikelnummer 7439876 hat\", students_by_matr[\"7439876\"])"
   ],
   "outputs": [
    {
     "name": "stdout",
     "output_type": "stream",
     "text": [
      "Die Matrikelnummer 7439876 hat Max Muster\n"
     ]
    }
   ],
   "execution_count": 8
  },
  {
   "cell_type": "markdown",
   "id": "a83a6dcf-7a68-413a-8b7e-17c32b390fae",
   "metadata": {},
   "source": [
    "Umgekehrt ist die allerdings nicht möglich."
   ]
  },
  {
   "cell_type": "code",
   "id": "731ec99d-1e77-45a9-a6e5-8b705786490c",
   "metadata": {
    "ExecuteTime": {
     "end_time": "2025-05-19T08:12:16.038759Z",
     "start_time": "2025-05-19T08:12:15.986757Z"
    }
   },
   "source": [
    "print(\"Stefan Student hat die Matrikelnummer \", students_by_matr[\"Stefan Student\"])"
   ],
   "outputs": [
    {
     "ename": "KeyError",
     "evalue": "'Stefan Student'",
     "output_type": "error",
     "traceback": [
      "\u001B[31m---------------------------------------------------------------------------\u001B[39m",
      "\u001B[31mKeyError\u001B[39m                                  Traceback (most recent call last)",
      "\u001B[36mCell\u001B[39m\u001B[36m \u001B[39m\u001B[32mIn[9]\u001B[39m\u001B[32m, line 1\u001B[39m\n\u001B[32m----> \u001B[39m\u001B[32m1\u001B[39m \u001B[38;5;28mprint\u001B[39m(\u001B[33m\"\u001B[39m\u001B[33mStefan Student hat die Matrikelnummer \u001B[39m\u001B[33m\"\u001B[39m, \u001B[43mstudents_by_matr\u001B[49m\u001B[43m[\u001B[49m\u001B[33;43m\"\u001B[39;49m\u001B[33;43mStefan Student\u001B[39;49m\u001B[33;43m\"\u001B[39;49m\u001B[43m]\u001B[49m)\n",
      "\u001B[31mKeyError\u001B[39m: 'Stefan Student'"
     ]
    }
   ],
   "execution_count": 9
  },
  {
   "cell_type": "markdown",
   "id": "aa8fa95d-c48f-4ba9-b047-ea8bf9aaed3d",
   "metadata": {},
   "source": [
    "Neue Einträge können nach der Definition hinzugefügt werden, da das Dictionary nicht *immutable* ist. Dies ist i.d.Regel effizienter als in echten Arrays."
   ]
  },
  {
   "cell_type": "code",
   "id": "a0f0f00e-6aa3-4c26-a8e1-f118d362614b",
   "metadata": {
    "ExecuteTime": {
     "end_time": "2025-05-19T08:12:19.734292Z",
     "start_time": "2025-05-19T08:12:19.726377Z"
    }
   },
   "source": [
    "print(\"Gibt es einen Studi mit Matrikelnummer 4328787?\", \"4328787\" in students_by_matr)\n",
    "students_by_matr[\"4328787\"] = \"Eberhard Erstie\"\n",
    "print(\"Die Matrikelnummer 4328787 hat\", students_by_matr[\"4328787\"])"
   ],
   "outputs": [
    {
     "name": "stdout",
     "output_type": "stream",
     "text": [
      "Gibt es einen Studi mit Matrikelnummer 4328787? False\n",
      "Die Matrikelnummer 4328787 hat Eberhard Erstie\n"
     ]
    }
   ],
   "execution_count": 10
  },
  {
   "cell_type": "markdown",
   "id": "4535160f-1c61-4339-b1ad-e3d26a56657c",
   "metadata": {},
   "source": [
    "Ebenso können Einträge entfernt werden."
   ]
  },
  {
   "cell_type": "code",
   "id": "a7e17a93-0060-4e23-af37-03ccfa2574ec",
   "metadata": {
    "ExecuteTime": {
     "end_time": "2025-05-19T08:12:22.567978Z",
     "start_time": "2025-05-19T08:12:22.561060Z"
    }
   },
   "source": [
    "print(\"Die Matrikelnummer 6109300 hat\", students_by_matr[\"6109300\"])\n",
    "del students_by_matr[\"6109300\"]\n",
    "print(\"Gibt es einen Studi mit Matrikelnummer 6109300?\", \"6109300\" in students_by_matr)"
   ],
   "outputs": [
    {
     "name": "stdout",
     "output_type": "stream",
     "text": [
      "Die Matrikelnummer 6109300 hat Alime Absolventin\n",
      "Gibt es einen Studi mit Matrikelnummer 6109300? False\n"
     ]
    }
   ],
   "execution_count": 11
  },
  {
   "cell_type": "markdown",
   "id": "1b3ce867-3ab2-4fb7-aabd-8f7a7f063be9",
   "metadata": {},
   "source": [
    "Mittels einer for-Schleife können Sie über das Dictionary iterieren."
   ]
  },
  {
   "cell_type": "code",
   "id": "4c30383f-721e-40cf-a135-ce74a7970828",
   "metadata": {
    "ExecuteTime": {
     "end_time": "2025-05-19T08:12:24.761016Z",
     "start_time": "2025-05-19T08:12:24.753639Z"
    }
   },
   "source": [
    "dct = {1:\"a\", 2:\"b\", 3:\"c\", \"vier\":\"d\", (2,3):\"e\"}\n",
    "print(dct)\n",
    "for k in dct:\n",
    "    print(k)"
   ],
   "outputs": [
    {
     "name": "stdout",
     "output_type": "stream",
     "text": [
      "{1: 'a', 2: 'b', 3: 'c', 'vier': 'd', (2, 3): 'e'}\n",
      "1\n",
      "2\n",
      "3\n",
      "vier\n",
      "(2, 3)\n"
     ]
    }
   ],
   "execution_count": 12
  },
  {
   "cell_type": "markdown",
   "id": "0f177e26-8276-48cd-a7c5-3b136496c2c5",
   "metadata": {},
   "source": [
    "Beachten Sie, dass die `for`-Schleife beim Dictionary über die Indexwerte (oder *Schlüssel*) iteriert. Um an die Werte zu kommen, muss man explizit dereferenzieren:"
   ]
  },
  {
   "cell_type": "code",
   "id": "c33b4723-b336-458d-87ff-cdcf4257e0e5",
   "metadata": {
    "ExecuteTime": {
     "end_time": "2025-05-19T08:15:28.953263Z",
     "start_time": "2025-05-19T08:15:28.947053Z"
    }
   },
   "source": [
    "for k in dct:\n",
    "    print(k, \":\", dct[k])"
   ],
   "outputs": [
    {
     "name": "stdout",
     "output_type": "stream",
     "text": [
      "1 : a\n",
      "2 : b\n",
      "3 : c\n",
      "vier : d\n",
      "(2, 3) : e\n"
     ]
    }
   ],
   "execution_count": 13
  },
  {
   "cell_type": "markdown",
   "id": "78348a61-2b3f-437c-8400-411384e08af3",
   "metadata": {},
   "source": [
    "### Python Arrays (als allgemeine Arrays nicht empfohlen!)\n",
    "\n",
    "Python implementiert \"echte\" Arrays im Sinn von C im Modul `array`. Allerdings ist dieser \n",
    "Typ vor allem auf den effizienten Datenaustausch mit Betriebssystemfunktionen und externen\n",
    "Datenquellen- und Senken ausgelegt. Insbesondere sind diese Arrays als C-Arrays und mit den\n",
    "Beschränkungen von C-Datentypen angelegt. Entsprechend werden nur wenige Python-Datentypen\n",
    "unterstützt, und diese nur beschränkt. Näheres finden Sie natürlich \n",
    "__[im Manual](https://docs.python.org/3/library/array.html)__.\n"
   ]
  },
  {
   "cell_type": "markdown",
   "id": "7c898217-24cf-443c-8a67-519e579fb9f5",
   "metadata": {},
   "source": [
    "### NumPy Arrays\n",
    "\n",
    "Python as *die* Sprache im Bereich Datascience muss natürlich den effizienten Umgang mit \n",
    "Arrays unterstützen. Es tut dies mit der Erweiterung NumPy, die heute als Modul `numpy` in\n",
    "praktisch jeder Python-Installation enthalten ist und ein sehr mächtiges Array-Konzept \n",
    "unterstützt. NumPy ist speziell dafür entwickelt, numerische Programmierung in Python\n",
    "einfacher und effizienter zu machen. NumPy und SciPy stecken in den meisten komplexen\n",
    "wissenschaftlichen Programmen, die in Python entwickelt werden. Die \n",
    "__[volle Dokumentation](https://numpy.org/doc/stable/index.html)__ zu NumPy finden Sie \n",
    "online, eine __[Einführung in NumPy Arrays](https://numpy.org/doc/stable/user/absolute_beginners.html)__ \n",
    "ebenfalls.\n",
    "\n",
    "NumPy Arrays haben im Vergleich zu Python-Listen einige Einschränkungen,\n",
    "sind im Gegenzug aber für viele Operationen effizienter und unterstützen auch einen reicheren\n",
    "Vorrat an Methode. Insbesondere:\n",
    "- In NumPy-Arrays sind alle Elemente vom gleichen Typ. Diesen ermittelt NumPy in der Regel automatisch\n",
    "  wenn das Array angelegt wird (er kann aber auch vom Programmierer vorgegeben werden), und er\n",
    "  kann danach nicht verändert werden.\n",
    "- NumPy-Arrays sind n-dimensional (die häufigsten Spezialfälle sind 1-dimensional - also\n",
    "  von der Struktur wie Vektoren, und 2-dimensional - analog zu Matrizen). Deswegen heißt die\n",
    "  Klasse, die sie implementiert, auch `ndarray`.\n",
    "- NumPy-Arrays sind in allen Dimensionen konstant groß. Ein 2-D-Array hat also die Form einer\n",
    "  rechteckigen Tabelle, ein 3-D-Array die Form eine Quaders von aufeinander gestapelten Tabellen,\n",
    "  und so weiter.\n",
    "- Die Gesamtgröße eines NumPy-Arrays kann nach Erschaffung nicht mehr verändert werden. Insbesondere\n",
    "  funktionieren Methoden wie `pop()` oder `append()` nicht. Man kann die (gedachte) Anordnung\n",
    "  der Elemente des Arrays verändern, solange sich die Gesamtgröße nicht ändert. Ein Array der\n",
    "  Größe 4x6 kann also auch als 2x12, 6x4, 2x3x4 oder sogar als 4-d-Array 2x3x2x2 gedacht werden.\n",
    "  Dabei verändert sich die Lage der Daten im Speicher nicht, nur die *Form* (*Shape*) des\n",
    "  Arrays.\n",
    "- Slicing (das definieren von Sub-Arrays) funktioniert anders als mit klassischen Python-Listen.\n",
    "  Während bei Listen ein Befehl wie `a[2:4]` eine Kopie der Teilliste zurückgibt, wird für ein\n",
    "  `ndarray` ein *View* auf einen Ausschnitt des Originalarrays erzeugt. Der Unterschied wird\n",
    "  offensichtlich, wenn man eines von beiden verändert - dabei ändert sich immer das Gegenstück\n",
    "  mit.\n",
    "\n",
    "Um NumPy nutzen zu können, müssen Sie zunächst das Modul importieren. Traditionell wird\n",
    "NumPy unter dem Namen `np` importiert, um bequemen Zugang zu allen Klassen und \n",
    "Funktionen zu haben, ohne alle Namen direkt in den globalen Namespace zu importieren:\n",
    "  \n",
    "  "
   ]
  },
  {
   "cell_type": "code",
   "id": "e5b55005-d7fa-41fb-8254-a2591c4ef606",
   "metadata": {
    "ExecuteTime": {
     "end_time": "2025-05-20T17:01:03.905118Z",
     "start_time": "2025-05-20T17:01:03.830423Z"
    }
   },
   "source": [
    "import numpy as np\n",
    "\n",
    "a = np.array([[1, 2, 3],[4, 5, 6]])\n",
    "\n",
    "print(a)\n"
   ],
   "outputs": [
    {
     "name": "stdout",
     "output_type": "stream",
     "text": [
      "[[1 2 3]\n",
      " [4 5 6]]\n"
     ]
    }
   ],
   "execution_count": 1
  },
  {
   "cell_type": "markdown",
   "id": "5bef340c-b7bd-4d48-a6f5-1104f460194a",
   "metadata": {},
   "source": [
    "Damit ist ein NumPy-Array mit zwei Zeilen und drei Spalten angelegt. \n",
    "<div class=\"aufgabe\">\n",
    "    <h3>Erste Experimente mit ndarray</h3>\n",
    "Probieren Sie die folgenden\n",
    "Befehle aus. Können Sie die Ergebnisse erklären?\n",
    "</div>"
   ]
  },
  {
   "cell_type": "code",
   "execution_count": null,
   "id": "bdcae063-2b24-40c2-8ec5-5b502d601990",
   "metadata": {},
   "outputs": [],
   "source": [
    "print(a[1][2])\n",
    "print(a[1, 2])\n",
    "print(a[1, 4])"
   ]
  },
  {
   "cell_type": "markdown",
   "id": "65d6f2b0-839c-4fbd-8dce-46bc84be34b5",
   "metadata": {},
   "source": [
    "**Erklärung**\n",
    "\n",
    "---\n",
    "<span style=\"color:red\">Student Answer</span> <br>\n",
    "[1][2] -> 6: Element 1 im großen Array, Element 2 im kleineren Array <br>\n",
    "[1, 2] -> Alternative Schreibweise <br>\n",
    "[1, 4] -> Element 1 hat keine 4 Elemente\n",
    "\n",
    "---\n",
    "\n"
   ]
  },
  {
   "cell_type": "code",
   "id": "206ff261-35b2-4d6f-ad67-0f0e27d0b0a1",
   "metadata": {
    "ExecuteTime": {
     "end_time": "2025-05-19T08:54:47.023420Z",
     "start_time": "2025-05-19T08:54:46.999638Z"
    }
   },
   "source": [
    "a[1,1]=18\n",
    "print(a)"
   ],
   "outputs": [
    {
     "name": "stdout",
     "output_type": "stream",
     "text": [
      "[[ 1  2  3]\n",
      " [ 4 18  6]]\n"
     ]
    }
   ],
   "execution_count": 15
  },
  {
   "cell_type": "markdown",
   "id": "be91b510-0a60-4e22-8fc2-1c0fd3021ef7",
   "metadata": {},
   "source": [
    "**Erklärung**\n",
    "\n",
    "---\n",
    "## <span style=\"color:red\">Student Answer</span>\n",
    "\n",
    "*Double-click and add your answer between the lines*\n",
    "\n",
    "---"
   ]
  },
  {
   "cell_type": "code",
   "id": "3b8ed2a7-6d18-4a6d-9b7d-cc54971678c5",
   "metadata": {
    "ExecuteTime": {
     "end_time": "2025-05-19T09:00:03.220804Z",
     "start_time": "2025-05-19T09:00:03.122417Z"
    }
   },
   "source": [
    "a[1,1]=3.1415\n",
    "print(a)\n",
    "a[1,1]=\"Hallo\"\n",
    "print(a)"
   ],
   "outputs": [
    {
     "name": "stdout",
     "output_type": "stream",
     "text": [
      "[[1 2 3]\n",
      " [4 3 6]]\n"
     ]
    },
    {
     "ename": "ValueError",
     "evalue": "invalid literal for int() with base 10: 'Hallo'",
     "output_type": "error",
     "traceback": [
      "\u001B[31m---------------------------------------------------------------------------\u001B[39m",
      "\u001B[31mValueError\u001B[39m                                Traceback (most recent call last)",
      "\u001B[36mCell\u001B[39m\u001B[36m \u001B[39m\u001B[32mIn[16]\u001B[39m\u001B[32m, line 3\u001B[39m\n\u001B[32m      1\u001B[39m a[\u001B[32m1\u001B[39m,\u001B[32m1\u001B[39m]=\u001B[32m3.1415\u001B[39m\n\u001B[32m      2\u001B[39m \u001B[38;5;28mprint\u001B[39m(a)\n\u001B[32m----> \u001B[39m\u001B[32m3\u001B[39m \u001B[43ma\u001B[49m\u001B[43m[\u001B[49m\u001B[32;43m1\u001B[39;49m\u001B[43m,\u001B[49m\u001B[32;43m1\u001B[39;49m\u001B[43m]\u001B[49m=\u001B[33m\"\u001B[39m\u001B[33mHallo\u001B[39m\u001B[33m\"\u001B[39m\n\u001B[32m      4\u001B[39m \u001B[38;5;28mprint\u001B[39m(a)\n",
      "\u001B[31mValueError\u001B[39m: invalid literal for int() with base 10: 'Hallo'"
     ]
    }
   ],
   "execution_count": 16
  },
  {
   "cell_type": "markdown",
   "id": "90492032-6053-4373-9a8d-0ceb56a689cc",
   "metadata": {},
   "source": [
    "**Erklärung**\n",
    "\n",
    "---\n",
    "## <span style=\"color:red\">Student Answer</span>\n",
    "\n",
    "*Double-click and add your answer between the lines*\n",
    "\n",
    "---"
   ]
  },
  {
   "cell_type": "code",
   "id": "7c519afb-4974-4b74-9acc-43a9c8fa1d26",
   "metadata": {
    "ExecuteTime": {
     "end_time": "2025-05-20T17:02:15.930137Z",
     "start_time": "2025-05-20T17:02:15.926583Z"
    }
   },
   "source": [
    "a[1,1] = len(a)\n",
    "print(a)"
   ],
   "outputs": [
    {
     "name": "stdout",
     "output_type": "stream",
     "text": [
      "[[1 2 3]\n",
      " [4 2 6]]\n"
     ]
    }
   ],
   "execution_count": 2
  },
  {
   "cell_type": "code",
   "id": "75f318c4-b641-4b81-81b3-a2a37636e8fe",
   "metadata": {
    "ExecuteTime": {
     "end_time": "2025-05-20T17:02:28.772914Z",
     "start_time": "2025-05-20T17:02:28.769275Z"
    }
   },
   "source": [
    "b = [len]\n",
    "print(b)"
   ],
   "outputs": [
    {
     "name": "stdout",
     "output_type": "stream",
     "text": [
      "[<built-in function len>]\n"
     ]
    }
   ],
   "execution_count": 3
  },
  {
   "cell_type": "markdown",
   "id": "00857f25-7082-4fd8-99f6-7e913ffc3ffe",
   "metadata": {},
   "source": [
    "**Erklärung**\n",
    "\n",
    "---\n",
    "## <span style=\"color:red\">Student Answer</span>\n",
    "\n",
    "*Double-click and add your answer between the lines*\n",
    "\n",
    "---"
   ]
  },
  {
   "cell_type": "code",
   "id": "f668bac5-7596-452d-82d0-0b6ad923ee88",
   "metadata": {
    "ExecuteTime": {
     "end_time": "2025-05-20T17:02:44.993589Z",
     "start_time": "2025-05-20T17:02:44.985465Z"
    }
   },
   "source": [
    "l = [[1, 2, 3],[4, 5, 6]]\n",
    "a = np.array([[1, 2, 3],[4, 5, 6]])\n",
    "print(l)\n",
    "print(a)\n",
    "print()\n",
    "\n",
    "l1 = l[1][0:2] # 0 bis ausschließlich 2\n",
    "a1 = a[1,0:2]\n",
    "print(l1)\n",
    "print(a1)\n",
    "print()\n",
    "\n",
    "l1[1] = 17\n",
    "a1[1] = 17 # Keine Kopie, sondern ein \"View\" von a -> Veränderung verändert auch a!\n",
    "print(l)\n",
    "print(a)\n",
    "print()\n",
    "\n",
    "a[1,0]=32\n",
    "print(a1)\n",
    "print()"
   ],
   "outputs": [
    {
     "name": "stdout",
     "output_type": "stream",
     "text": [
      "[[1, 2, 3], [4, 5, 6]]\n",
      "[[1 2 3]\n",
      " [4 5 6]]\n",
      "\n",
      "[4, 5]\n",
      "[4 5]\n",
      "\n",
      "[[1, 2, 3], [4, 5, 6]]\n",
      "[[ 1  2  3]\n",
      " [ 4 17  6]]\n",
      "\n",
      "[32 17]\n",
      "\n"
     ]
    }
   ],
   "execution_count": 4
  },
  {
   "cell_type": "markdown",
   "id": "ad0ec86b-18e5-48f0-978c-02e4ab249d6f",
   "metadata": {},
   "source": [
    "**Erklärung**\n",
    "\n",
    "---\n",
    "## <span style=\"color:red\">Student Answer</span>\n",
    "\n",
    "*Double-click and add your answer between the lines*\n",
    "\n",
    "---"
   ]
  },
  {
   "cell_type": "markdown",
   "id": "2dc26502-5b14-4c2e-94db-1bc3aa3d422b",
   "metadata": {},
   "source": [
    "#### Dimensionen und Größen\n",
    "\n",
    "Wie die meisten Objekte in Python sind auch Objekte vom Typ `ndarray` zu einem guten Teil selbstbeschreibend,\n",
    "d.h. man kann viele ihrer Eigenschaften über Member-Variablen oder Methoden erfragen. Im Fall eines `ndarray`\n",
    "mit Namen `a` sind das insbesondere:\n",
    "\n",
    "- `a.ndim`: Anzahl der Dimensionen des Arrays. Das Ergebnis ist 1 für einfache 1-dimensionale Arrays,\n",
    "  zwei für tabellenartige 2d-Arrays, und so weiter\n",
    "- `a.shape`: Größe des Arrays in der jeweiligen Dimension. Das Ergebnis ist ein Tupel von `a.ndim` vielen Integer-Werten.\n",
    "- `a.size`: Gesamtanzahl der Elemente des Arrays. Der Wert ist das Produkt der einzelnen Dimensionsgrößen.\n",
    "- `a.dtype`: Typ der Arrayelemente - das ist für die meisten unserer Anwendungen weniger wichtig.\n",
    "\n",
    "Probieren Sie es einmal aus:"
   ]
  },
  {
   "cell_type": "code",
   "id": "0443e55a-3e62-401c-a169-808ce4b7fab1",
   "metadata": {
    "ExecuteTime": {
     "end_time": "2025-05-19T09:11:00.300500Z",
     "start_time": "2025-05-19T09:11:00.289905Z"
    }
   },
   "source": [
    "a = np.array([[1, 2, 3],[4, 5, 6]])\n",
    "b = np.array([1, 2, 3, 4, 5, 6 ])\n",
    "c = np.array([[1, 2, 3, 4, 5, 6 ]])\n",
    "\n",
    "print(\"a.ndim:\", a.ndim)\n",
    "print(a)\n",
    "print(a.shape)\n",
    "print(a.size)\n",
    "print()\n",
    "\n",
    "print(\"b.ndim:\", b.ndim)\n",
    "print(b)\n",
    "print(b.shape)\n",
    "print(b.size)\n",
    "print()\n",
    "\n",
    "print(\"c.ndim:\", c.ndim)\n",
    "print(c)\n",
    "print(c.shape)\n",
    "print(c.size)\n",
    "print()\n"
   ],
   "outputs": [
    {
     "name": "stdout",
     "output_type": "stream",
     "text": [
      "a.ndim: 2\n",
      "[[1 2 3]\n",
      " [4 5 6]]\n",
      "(2, 3)\n",
      "6\n",
      "\n",
      "b.ndim: 1\n",
      "[1 2 3 4 5 6]\n",
      "(6,)\n",
      "6\n",
      "\n",
      "c.ndim: 2\n",
      "[[1 2 3 4 5 6]]\n",
      "(1, 6)\n",
      "6\n",
      "\n"
     ]
    }
   ],
   "execution_count": 20
  },
  {
   "cell_type": "markdown",
   "id": "70050c4a-18a5-4000-83d2-2c3718eeebe6",
   "metadata": {},
   "source": [
    "<div class=\"aufgabe\">\n",
    "    <h3>Ergebnisse interpretieren</h3>\n",
    "Können Sie die Ergebnisse erklären?\n",
    "</div>\n",
    "    \n",
    "**Erklärung**\n",
    "\n",
    "---\n",
    "## <span style=\"color:red\">Student Answer</span>\n",
    "\n",
    "*Double-click and add your answer between the lines*\n",
    "\n",
    "---\n",
    "  \n",
    "#### Indexing für Fortgeschrittene\n",
    "\n",
    "Eine Besonderheit von `ndarray` ist, dass nicht nur einzelne Elemente über die Koordinaten angesprochen \n",
    "werden können, sondern auch ganze Gruppen von Elementen, und zwar sowohl nach Lage im Array, als auch\n",
    "semantisch über den Inhalt der Felder. Ersteres haben wir ja bereits in obigem Beispiel gesehen: Man kann statt\n",
    "eines festen Index-Wertes für jede Dimension immer auch einen Bereich oder *Slice* der Form `X:Y` angeben\n",
    "und damit die Werte mit den Indices `X` bis `Y-1` selektieren (beide können auch weggelassen werden, dann\n",
    "geht es ab 0 bzw. bis zum Ende des Wertebereichs). Wichtig: Dabei werden in der Regel *Views* zurückgegeben,\n",
    "also Ansichten auf das existierende Array. Wenn sie genau wissen wollen, wann *Views* und wann Kopien erzeugt\n",
    "werden, dann __[hilft ihnen das Manual](https://numpy.org/doc/stable/user/basics.copies.html)__.\n",
    "\n"
   ]
  },
  {
   "cell_type": "code",
   "id": "8b682076-5524-47a1-b456-bec40545af1c",
   "metadata": {
    "ExecuteTime": {
     "end_time": "2025-05-20T17:03:22.536492Z",
     "start_time": "2025-05-20T17:03:22.531468Z"
    }
   },
   "source": [
    "a = np.array([[1, 2, 3],[4, 5, 6],[7, 8, 9]])\n",
    "print(a[0:2,1:3])\n"
   ],
   "outputs": [
    {
     "name": "stdout",
     "output_type": "stream",
     "text": [
      "[[2 3]\n",
      " [5 6]]\n"
     ]
    }
   ],
   "execution_count": 5
  },
  {
   "cell_type": "markdown",
   "id": "9cafae76-965f-4e02-9439-e157597fa43a",
   "metadata": {},
   "source": [
    "Tatsächlich ist die Slice-Notation bei NumPy-Arrays noch vielseitiger: Wir können auch noch eine Schrittweite\n",
    "angeben, also einen Slice der Form `X:Y:Z` verwenden. Zu lesen ist das als \"Nimm ab Index `X` bis (ausschließlich) \n",
    "Index `Y` jeden `Z`-ten Wert:"
   ]
  },
  {
   "cell_type": "code",
   "id": "10509579-9a53-4e32-9e5c-972a6716bf7c",
   "metadata": {
    "ExecuteTime": {
     "end_time": "2025-05-19T09:19:38.539317Z",
     "start_time": "2025-05-19T09:19:38.532091Z"
    }
   },
   "source": [
    "a = np.array(range(30))\n",
    "print(a)\n",
    "print(a[10:25:3])"
   ],
   "outputs": [
    {
     "name": "stdout",
     "output_type": "stream",
     "text": [
      "[ 0  1  2  3  4  5  6  7  8  9 10 11 12 13 14 15 16 17 18 19 20 21 22 23\n",
      " 24 25 26 27 28 29]\n",
      "[10 13 16 19 22]\n"
     ]
    }
   ],
   "execution_count": 25
  },
  {
   "cell_type": "markdown",
   "id": "cd38baec-9ff8-43df-835a-5381d893e780",
   "metadata": {},
   "source": [
    "Das funktioniert auch im mehrdimensionalen Fall. Was ergibt folgender Code?"
   ]
  },
  {
   "cell_type": "code",
   "id": "372727e6-6e71-4e30-8bd7-fd37b580ecdd",
   "metadata": {
    "ExecuteTime": {
     "end_time": "2025-05-19T09:20:47.433921Z",
     "start_time": "2025-05-19T09:20:47.426141Z"
    }
   },
   "source": [
    "b = np.array([range(10), range(0,20,2), range(10,20)])\n",
    "print(b)\n",
    "print(b[:,5:15:2]) # Zu viele Elemente werden akzeptiert, aber irreführend (lieber 10 als 15)\n"
   ],
   "outputs": [
    {
     "name": "stdout",
     "output_type": "stream",
     "text": [
      "[[ 0  1  2  3  4  5  6  7  8  9]\n",
      " [ 0  2  4  6  8 10 12 14 16 18]\n",
      " [10 11 12 13 14 15 16 17 18 19]]\n",
      "[[ 5  7  9]\n",
      " [10 14 18]\n",
      " [15 17 19]]\n"
     ]
    }
   ],
   "execution_count": 26
  },
  {
   "cell_type": "markdown",
   "id": "d49aa87e-52ab-433b-a2c0-5052fd2ed0f7",
   "metadata": {},
   "source": [
    "Tatsächlich kann man solchen Auszügen aus einem Array auch Werte zuweisen, wenn man einen\n",
    "Wert kompatibler Struktur wählt:"
   ]
  },
  {
   "cell_type": "code",
   "id": "4e885343-6835-4cb0-a906-3b71ab64f78d",
   "metadata": {
    "ExecuteTime": {
     "end_time": "2025-05-19T09:23:36.615847Z",
     "start_time": "2025-05-19T09:23:36.609436Z"
    }
   },
   "source": [
    "a = np.array(range(30))\n",
    "print(a)\n",
    "a[10:25:3] = [666,666,666,666,666]\n",
    "print(a)"
   ],
   "outputs": [
    {
     "name": "stdout",
     "output_type": "stream",
     "text": [
      "[ 0  1  2  3  4  5  6  7  8  9 10 11 12 13 14 15 16 17 18 19 20 21 22 23\n",
      " 24 25 26 27 28 29]\n",
      "[  0   1   2   3   4   5   6   7   8   9 666  11  12 666  14  15 666  17\n",
      "  18 666  20  21 666  23  24  25  26  27  28  29]\n"
     ]
    }
   ],
   "execution_count": 29
  },
  {
   "cell_type": "markdown",
   "id": "d034fd22-3945-406d-aa81-36e888823c62",
   "metadata": {},
   "source": [
    "...und kompatibel sind recht viele Werte, wie im nächsten Abschnitt angerissen wird.\n",
    "Doch zuvor wollen wir uns noch kurz mit der semantischen Addressierung beschäftigen. So\n",
    "können wir aus einem Array z.B. alle Werte extrahieren, die bestimmte Eigenschaften\n",
    "haben. Dazu wird die Bedingung in die eckigen Klammern gesetzt, z.B.: `a[a%2==0]`.\n",
    "Probieren Sie es aus!"
   ]
  },
  {
   "cell_type": "code",
   "id": "028ea838-cf78-453c-b813-fef340328d24",
   "metadata": {
    "ExecuteTime": {
     "end_time": "2025-05-19T09:23:53.881291Z",
     "start_time": "2025-05-19T09:23:53.869196Z"
    }
   },
   "source": [
    "print(\"a:\", a)\n",
    "print(a[a%2==0])\n",
    "print()\n",
    "print(\"b:\", b)\n",
    "print(b[b>10])"
   ],
   "outputs": [
    {
     "name": "stdout",
     "output_type": "stream",
     "text": [
      "a: [  0   1   2   3   4   5   6   7   8   9 666  11  12 666  14  15 666  17\n",
      "  18 666  20  21 666  23  24  25  26  27  28  29]\n",
      "[  0   2   4   6   8 666  12 666  14 666  18 666  20 666  24  26  28]\n",
      "\n",
      "b: [[ 0  1  2  3  4  5  6  7  8  9]\n",
      " [ 0  2  4  6  8 10 12 14 16 18]\n",
      " [10 11 12 13 14 15 16 17 18 19]]\n",
      "[12 14 16 18 11 12 13 14 15 16 17 18 19]\n"
     ]
    }
   ],
   "execution_count": 30
  },
  {
   "cell_type": "markdown",
   "id": "64def1f9-447c-4e7f-8583-d2d4ba47acd5",
   "metadata": {},
   "source": [
    "Beachten Sie: In dem Fall ist auch der Auszug aus dem zweidimensionalen Array `b` ein 1d-Array.\n",
    "Versuchen Sie einmal, diesem Auszug etwas zuzuweisen!"
   ]
  },
  {
   "cell_type": "code",
   "id": "94c9b435-0ec9-4697-a411-8d5e4e84c02d",
   "metadata": {
    "ExecuteTime": {
     "end_time": "2025-05-19T09:27:00.127934Z",
     "start_time": "2025-05-19T09:27:00.122180Z"
    }
   },
   "source": [
    "b[b>10] = 1\n",
    "print(b)"
   ],
   "outputs": [
    {
     "name": "stdout",
     "output_type": "stream",
     "text": [
      "[[ 0  1  2  3  4  5  6  7  8  9]\n",
      " [ 0  2  4  6  8 10  1  1  1  1]\n",
      " [10  1  1  1  1  1  1  1  1  1]]\n"
     ]
    }
   ],
   "execution_count": 31
  },
  {
   "cell_type": "markdown",
   "id": "8b1d5d08-02ae-4c9f-837b-54f4d3774356",
   "metadata": {},
   "source": [
    "Python und NumPyu überraschen hier klassische Informatiker mit einer\n",
    "konsequent umgesetzten Technik, die man so nicht erwarten würde. Aber warum\n",
    "konnten wie dem relativ langen Auszug aus dem Array den einfachen Wert\n",
    "1 zuweisen, der dann für alle Werte eingesetzt wurde?\n",
    "\n"
   ]
  },
  {
   "cell_type": "markdown",
   "id": "3b1f6080-de6c-438f-a1d0-576a9178c3b9",
   "metadata": {},
   "source": [
    "#### Broadcasting\n",
    "\n",
    "*Broadcasting* ist eine Technik, mit der NumPy Operationen zwischen Arrays kompatibler\n",
    "Größe oder zwischen Arrays und Einzelwerten (Skalaren) sehr effizient ermöglicht. \n",
    "Grundsätzlich erfolgen Operationen zwischen Arrays elementweise, wobei die jeweils\n",
    "korrespondierenden Werte interagieren:"
   ]
  },
  {
   "cell_type": "code",
   "id": "8da35d4c-253d-4520-9ca6-f859938719bd",
   "metadata": {
    "ExecuteTime": {
     "end_time": "2025-05-19T09:31:28.261705Z",
     "start_time": "2025-05-19T09:31:28.254861Z"
    }
   },
   "source": [
    "a = np.array([1, 2, 3, 4])\n",
    "b = np.array([8, 7, 6, 5])\n",
    "print(a+b)\n",
    "print(a*b)\n",
    "print()\n",
    "\n",
    "c = np.array(range(20))\n",
    "c[8:12] = (a+b)\n",
    "print(c)"
   ],
   "outputs": [
    {
     "name": "stdout",
     "output_type": "stream",
     "text": [
      "[9 9 9 9]\n",
      "[ 8 14 18 20]\n",
      "\n",
      "[ 0  1  2  3  4  5  6  7  9  9  9  9 12 13 14 15 16 17 18 19]\n"
     ]
    }
   ],
   "execution_count": 38
  },
  {
   "cell_type": "markdown",
   "id": "3a9e2a5d-ac3c-4db1-9f83-7e3be81b26ff",
   "metadata": {},
   "source": [
    "__[Broadcasting](https://numpy.org/doc/stable/user/basics.broadcasting.html)__ ermöglicht es, einen \n",
    "passenden \"kleineren\" Datentyp über den \"größeren\" Partner zu verteilen. Den einfachsten Anwendungsfall\n",
    "haben Sie bereits gesehen: Wir können Operationen zwischen einem Array und einem Einzelwert \n",
    "(oder *Skalar*) durchführen. Dabei wird der Skalar so behandelt, als wäre er ein Array passender\n",
    "Größe, bei dem alle Felder mit dem Wert des Skalars besetzt sind.\n",
    "\n",
    "Das funktioniert wunderbar auch in komplexeren Fällen, z.B. wenn man ein Array mit den Dimensionen\n",
    "3x4 mit einem Array mit den Dimensionen 4x1 verknüpft. Dabei wird das zweite Array virtuell 3 mal \n",
    "dupliziert, so dass die Größen passen:"
   ]
  },
  {
   "cell_type": "code",
   "id": "88a81bd5-7b11-4785-b72d-b7da5b579d01",
   "metadata": {
    "ExecuteTime": {
     "end_time": "2025-05-19T09:31:32.117790Z",
     "start_time": "2025-05-19T09:31:32.111878Z"
    }
   },
   "source": [
    "a = np.array([[1, 2, 3, 4], [5, 6, 7, 8], [9, 9, 9, 9]])\n",
    "b = np.array([11, 12, 13,14])\n",
    "print(a.shape, b.shape)\n",
    "print(a+b)"
   ],
   "outputs": [
    {
     "name": "stdout",
     "output_type": "stream",
     "text": [
      "(3, 4) (4,)\n",
      "[[12 14 16 18]\n",
      " [16 18 20 22]\n",
      " [20 21 22 23]]\n"
     ]
    }
   ],
   "execution_count": 39
  },
  {
   "cell_type": "markdown",
   "id": "5f30feec-fc19-4fc4-bc58-3aa5d75b37c9",
   "metadata": {},
   "source": [
    "<div class=\"aufgabe\">\n",
    "    <img src=\"images/Eratosthenes_profile.png\" width=120 align=right alt=\"Erathosthenes betrachtet die Aufgabenstellung ;-)\"/>\n",
    "    <h3>Erathostenes mal anders</h3>    \n",
    "    Erinnern Sie sich an das <em>Sieb des Erathostenes</em> aus der ersten Veranstaltung? Schreiben Sie nun eine \n",
    "    Funktion <tt>erathosethenes_sieve(max_val)</tt>, die das Sieb des Erathosthenes noch einmal implementiert\n",
    "    und die Primzahlen bis (einschließlich) <tt>max_val</tt> als Liste zurückgibt.\n",
    "    Verwenden Sie für das eigentliche Sieb ein NumPy-Array. Sie sollten mit einer einzigen expliziten\n",
    "    Schleife auskommen können!\n",
    "</div>\n",
    "<details class=\"hint\">\n",
    "<summary></summary>\n",
    "   Nehmen Sie für das eigentliche Sieb ein Array von natürlichen Zahlen, \n",
    "   nicht von Boolschen Werten, und markieren Sie \"durchgestrichene\" Werte, \n",
    "   indem Sie sie auf 0 setzen.\n",
    "    <details class=\"nexthint\">\n",
    "    <summary></summary>\n",
    "       Sie können alle Vielfachen einer Zahl durch einen Broadcast über einen geeigneten Slice erreichen.\n",
    "    </details>\n",
    "</details>\n"
   ]
  },
  {
   "cell_type": "code",
   "id": "1058bcba-75f3-452c-8da2-3177dbadd688",
   "metadata": {
    "ExecuteTime": {
     "end_time": "2025-05-19T10:09:03.396722Z",
     "start_time": "2025-05-19T10:09:03.390348Z"
    }
   },
   "source": [
    "import numpy as np\n",
    "\n",
    "# YOUR CODE HERE\n",
    "def erathosethenes_sieve(max_val):\n",
    "    primes = []\n",
    "    a = np.array(range(max_val+1))\n",
    "    # a = a[1:max_val]\n",
    "\n",
    "    a[1] = 0\n",
    "\n",
    "    for p in a:\n",
    "        if p != 0:\n",
    "            primes.append(p)\n",
    "            a[2*p::p] = 0\n",
    "        # min_val = a[a != 0].min()\n",
    "        # primes.append(min_val)\n",
    "        # a[(a % min_val == 0)] = 0\n",
    "\n",
    "    return primes\n",
    "\n",
    "\n",
    "print(erathosethenes_sieve(1000))\n",
    "# Erwartetes Ergebnis: [2, 3, 5, 7, 11, 13, 17, 19, 23, 29, 31, 37, 41, 43, 47, 53]\n"
   ],
   "outputs": [
    {
     "name": "stdout",
     "output_type": "stream",
     "text": [
      "[2, 3, 5, 7, 11, 13, 17, 19, 23, 29, 31, 37, 41, 43, 47, 53, 59, 61, 67, 71, 73, 79, 83, 89, 97, 101, 103, 107, 109, 113, 127, 131, 137, 139, 149, 151, 157, 163, 167, 173, 179, 181, 191, 193, 197, 199, 211, 223, 227, 229, 233, 239, 241, 251, 257, 263, 269, 271, 277, 281, 283, 293, 307, 311, 313, 317, 331, 337, 347, 349, 353, 359, 367, 373, 379, 383, 389, 397, 401, 409, 419, 421, 431, 433, 439, 443, 449, 457, 461, 463, 467, 479, 487, 491, 499, 503, 509, 521, 523, 541, 547, 557, 563, 569, 571, 577, 587, 593, 599, 601, 607, 613, 617, 619, 631, 641, 643, 647, 653, 659, 661, 673, 677, 683, 691, 701, 709, 719, 727, 733, 739, 743, 751, 757, 761, 769, 773, 787, 797, 809, 811, 821, 823, 827, 829, 839, 853, 857, 859, 863, 877, 881, 883, 887, 907, 911, 919, 929, 937, 941, 947, 953, 967, 971, 977, 983, 991, 997]\n"
     ]
    }
   ],
   "execution_count": 87
  },
  {
   "cell_type": "markdown",
   "id": "116a8551-3c33-4166-b8a0-0f90cd413522",
   "metadata": {},
   "source": [
    "## Vektoren\n",
    "\n",
    "In der Physik sind Vektoren Objekte, die durch eine Länge und eine\n",
    "Richtung beschrieben werden. In der Mathematik sind Vektoren Elemente\n",
    "eines Vektorraums. Ein Vektorraum ist eine mathematische Struktur,\n",
    "konkret eine abelsche Gruppe (von \"Vektoren\") über einem Körper K (von\n",
    "\"Skalaren\"), bei der eine zusätzliche Verknüpfung (die\n",
    "Skalarmultiplikation) das Verknüpfen von Vektoren und Skalaren\n",
    "ermöglicht. Für diese Skalarmultiplikation werden zusätzlich\n",
    "Distributivgesetze und Assoziativgesetz gefordert.\n",
    "\n",
    "In dieser Vorlesung bewegen wir uns zwischen diesen beiden\n",
    "Definitionen. Für uns sind Vektoren Elemente von $\\mathbb{R}^n$, also $n$-Tupel\n",
    "von reelen Zahlen. Dabei ist $n$ fest - d.h. jeder gegebene Vektorraum\n",
    "enthält nur Vektoren mit $n$ Elementen.  Die reelen Zahlen $\\mathbb{R}$ selbst \n",
    "bilden den *Skalarkörper*, und sind die zugehörigen *Skalare*. Wenn Ihnen\n",
    "das Wort komisch vorkommt: Ein Skalar *skaliert* einen Vektor - wenn \n",
    "sie einen Vektor mit dem Skalar 2 multiplizieren, so behält er seine \n",
    "Richtung, wird aber doppelt so lang.\n",
    "\n",
    "### Grundlagen \n",
    "\n",
    "<div class=\"definition\">\n",
    "   <h3>$\\mathbb{R}^n$ als Vektorraum</h3>\n",
    "    <p>\n",
    "    Wir setzen die reelen Zahlen $\\mathbb{R}$ voraus, die mit den üblichen Operationen \n",
    "    $+:\\mathbb{R}\\times\\mathbb{R}\\to\\mathbb{R}$ und\n",
    "    $\\cdot:\\mathbb{R}\\times\\mathbb{R}\\to\\mathbb{R}$ einen <em>algebraischen Körper</em>\n",
    "    bilden. Für $x\\in\\mathbb{R}$ bezeichnet $-x$ das <em>inverse Element</em> zu $x$ (also \n",
    "    die Zahl, die sich mit $x$ zu 0 addiert), und $x-y$ steht kurz für $x+(-y)$.\n",
    "    </p>\n",
    "    <p>\n",
    "    Sei $n\\in \\mathbb{N}, n>0$. Die Menge $\\mathbb{R}^n$ ist die Menge aller <em>n-Tupel über \n",
    "    $\\mathbb{R}$</em></em>, also von allen Tupeln der Form $\\langle x_1, \\ldots, x_n \\rangle$, \n",
    "    wobei $x_i \\in \\mathbb{R}$ für alle $i$ von $1$ bis $n$ gilt. \n",
    "    Wir definieren folgende Operationen:\n",
    "    <ul>\n",
    "    <li>$\\oplus:\\mathbb{R}^n \\times \\mathbb{R}^n \\to \\mathbb{R}^n, \n",
    "        \\langle{} x_1, \\ldots, x_n \\rangle{} \\oplus \\langle y_1, \\ldots, y_n \\rangle \\mapsto \\langle x_1+y_1, \\ldots, x_n+y_n \\rangle$\n",
    "        (die <em>Vektoraddition</em>, also die Addition zweier Vektoren zu einem dritten)\n",
    "    </li>\n",
    "    <li>$\\otimes:\\mathbb{R} \\times \\mathbb{R}^n \\to \\mathbb{R}^n, \n",
    "        \\lambda \\otimes \\langle y_1, \\ldots, y_n \\rangle \\mapsto \\langle \\lambda \\cdot y_1, \\ldots, \\lambda \\cdot y_n \\rangle$ \n",
    "        (die <em>Skalarmultiplikation</em>, d.h. die Multiplikation einer reelen Zahl mit einem Vektor zu einem neuen Vektor)\n",
    "    </li>\n",
    "    </ul>\n",
    "    </p>\n",
    "    <p>\n",
    "    Damit ist $(\\mathbb{R}^n, \\oplus, \\otimes)$ ein <em>Vektorraum</em>. Die \n",
    "    Elemente von $\\mathbb{R}^n$ heißen <em>Vektoren</em>.</p>\n",
    "</div>\n",
    "\n",
    "\n",
    "Vektoren im $\\mathbb{R}^n$ sind also (mathematische) Tupel. Davon zu unterscheiden\n",
    "ist die Python-Datenstruktur der Tupel. Wir können Python-Tupel verwenden, um\n",
    "Vektoren zu repräsentieren, aber das ist nur die halbe Miete - die Operationen\n",
    "fehlen ja. Später werden wir eine Klasse `Vector` definieren, die Vektoren als\n",
    "`ndarray`s darstellt, und die Vektor-Operationen als Klassenmethoden definiert.\n",
    "\n",
    "Einfache Spezialfälle sind $\\mathbb{R}^2$ - dann reden wir über Vektoren in der\n",
    "Ebene, und $\\mathbb{R}^3$ - Vektoren im 3-dimensionalen Raum. Diese beiden Fälle\n",
    "haben eine Vielzahl von Anwendungen in Technik und Physik.\n",
    "\n",
    "Zur Verwendung von Vektoren in mathematischen Formeln gibt es verschiedene \n",
    "Konventionen. Entweder werden Variablen, die Vektoren repräsentieren, \n",
    "**fett** gedruckt. Alternativ werden die Variablennamen auch mit einem Pfeil\n",
    "über dem Namen dargestellt: $\\vec{a}$. Wir verwenden hier die erste \n",
    "Schreibweise. Zur einfacheren Schreibweise wird auch oft auf die Unterscheidung\n",
    "zwischen der Skalaraddition $+$ und der Vektoradition $\\oplus$ verzichtet, wenn\n",
    "die Typen klar sind. Gleiches gilt für $\\otimes$ und $\\cdot$, wobei beide\n",
    "Multiplikationszeichen auch oft weggelassen werden. Also: \n",
    "$\\lambda (\\mathbf{a}+\\mathbf{b})$ ist die vereinfachte Schreibweise \n",
    "für $\\lambda \\otimes (\\mathbf{a}\\oplus\\mathbf{b})$.\n",
    "\n",
    "<div class=\"aufgabe\">\n",
    "<h3>Vektorrechnung</h3>\n",
    "    Seien $\\mathbf{a}=\\langle 1, 2, 3 \\rangle, \\mathbf{b}=\\langle 0, 2, 4 \n",
    "    \\rangle, \\mathbf{n} = \\langle 0, 0, 0 \\rangle$. Berechnen Sie die folgenden \n",
    "    Ausdrücke:\n",
    "    <ul>\n",
    "    <li>$\\mathbf{a}+\\mathbf{b}$</li>\n",
    "    <li>$\\mathbf{a}+3\\mathbf{b}$</li>\n",
    "    <li>$\\mathbf{b}+3\\mathbf{n}$</li>\n",
    "    <li>$\\mathbf{b}-3\\mathbf{a}$</li>\n",
    "    <li>$2\\mathbf{a}$</li>\n",
    "    <li>$\\mathbf{a}+\\mathbf{a}$</li>\n",
    "    </ul>\n",
    "</div>"
   ]
  },
  {
   "cell_type": "markdown",
   "id": "56633746-43bd-417c-b886-a61e8f9db820",
   "metadata": {},
   "source": [
    "Lösung:\n",
    "---\n",
    "## <span style=\"color:red\">Student Answer</span>\n",
    "\n",
    "*Double-click and add your answer between the lines*\n",
    "\n",
    "---"
   ]
  },
  {
   "cell_type": "markdown",
   "id": "49a79d61-0d96-4860-b1c1-1956b4a2b9a0",
   "metadata": {
    "jp-MarkdownHeadingCollapsed": true
   },
   "source": [
    "<div class=\"remark\">\n",
    "    <img src=\"images/Sir_Isaac_Newton_1702.jpg\" width=120 align=right alt=\"Image of Isaac Newton\" />   \n",
    "    <h3>Philosophiæ Naturalis Principia Mathematica</h3>\n",
    "    <p>\n",
    "    Newtons berühmte Formel $F=m\\cdot{}a$ (Kraft = Masse mal Beschleunigung) kann man\n",
    "    auch als Vektorgleichung schreiben: $\\mathbf{F}=m \\cdot{} \\mathbf{a}$. Kraft und \n",
    "    Beschleunigung sind Größen, denen man auch eine Richtung zuordnen kann, d.h. es sind\n",
    "    <em>vektorielle</em> Größen im $\\mathbb{R}^3$. Die Masse $m$ ist dagegen ein reiner Skalar. \n",
    "    </p>\n",
    "    <p>\n",
    "    Wenn man direkt mit Vektoren rechnet, werden viele Problem der Physik einfacher und\n",
    "    vor allem eleganter, als wenn man die Größe und die Richtung verschiedener Konzepte\n",
    "    (Kräfte, Beschleunigungen, Bewegungen, ...) jeweils separat berechnen muss.\n",
    "    </p>\n",
    "</div>\n",
    "\n",
    "Wenn wir ein karthesisches Koordinatensystem annehmen, dann\n",
    "repräsentiert der Vektor <1, 2, 3> die Verschiebung eines Punktes um\n",
    "eine Einheit in der X-Koordinate, zwei Einheiten in der Y-Koordinate,\n",
    "und drei Einheiten in der Z-Koordinate.\n",
    "\n",
    "Analog können Vektoren aber auch selbst als Punkte in Raum\n",
    "interpretiert werden. Der Übergang zwischen beiden Sichtweisen ist\n",
    "einfach - der Vektor entspricht dem Punkt, auf den er den\n",
    "Koordinatenursprung verschieben würde. \n",
    "\n",
    "Im karthesischen Koordinatenraum können wir auch verschiedene Abstandsmaße\n",
    "definieren. Das wichtigste beruht auf dem *Skalarprodukt*, einer \n",
    "Verknüpfung zweier Vektoren zu einem Skalar (in unserem Fall also einer\n",
    "reelen Zahl). \n",
    "<div class=\"definition\">\n",
    "   <h3>Skalarprodukt im $\\mathbb{R}^n$</h3>\n",
    "    Seien $\\mathbf{a}=\\langle a_1, \\ldots, a_n \\rangle, \\mathbf{b}=\\langle b_1, \\ldots, b_n \\rangle \\in \\mathbb{R}^n$. Das\n",
    "    Skalarprodukt der beiden Vektoren ist $\\mathbf{a}\\cdot \\mathbf{b} = \\sum_{i=1}^n a_ib_i$.\n",
    "</div>\n",
    "\n",
    "Das Skalarprodukt ist also die Summe der Produkte der korrespondierenden Vektorelemente.\n",
    "Über das Skalarprodukt kann man einem Vektor auch eine Länge oder *Norm* zuordnen:\n",
    "<div class=\"definition\">\n",
    "   <h3>Euklidsche Norm</h3>\n",
    "    Seien $\\mathbf{a} \\in \\mathbb{R}^n$. Die Norm von $\\mathbf{a}$ ist $\\|\\mathbf{a}\\|=\\sqrt{\\mathbf{a}\\cdot \\mathbf{a}}$.\n",
    "</div>\n",
    "\n",
    "Die so aus dem Skalarprodukt definierte Norm entspricht exakt der geometrische Länge\n",
    "eines Vektors, die man auch durch iterierte Anwendung des Satzes des Pythagoras\n",
    "berechenen kann.\n",
    "\n",
    "<div class=\"remark\">\n",
    "    <img src=\"images/clouds.png\" width=120 align=\"center\" alt=\"Clouds with lightning\" />   \n",
    "    <h3>Skalarmultiplikation vs. Skalarprodukt</h3>\n",
    "        <ul>\n",
    "        <li>Die <em>Skalarmultiplikation</em> ist eine Operation zwischen einem Skalar und einem Vektor. \n",
    "             Sie wird auch \"äußeres Produkt\" genannt, weil einer der Operatoren kein Element des\n",
    "             Vektorraums  ist (sondern des \"äußeren\" Skalarköpers - daher der Name). Das Ergebnis ist wieder \n",
    "            ein Vektor. Jeder Vektorraum muss eine Skalarmultiplikation haben - sie ist eine der definierenden \n",
    "             Eigenschaften.</li>\n",
    "        <li>Viele, aber nicht alle Vektorräume definieren zusätzlich ein sogenanntes <em>inneres Produkt</em>,\n",
    "            das <em>Skalarprodukt</em>. Dieses verknüpft zwei Vektoren, das Ergebnis ist ein Skalar (daher hier der Name).\n",
    "            Vektorräume mit Skalarprodukt werden auch <em>Prähilberträume</em> oder <em>euklidsche Räume</em>\n",
    "            genannt - leider ist die Nomenklatur aber nicht einheitlich. Unabhängig vom Wert von $n$ ist \n",
    "            $\\mathbb{R}^n$ ein euklidscher (Vektor-)Raum, und hat ein Skalarprodukt.\n",
    "        </li>\n",
    "    </ul>\n",
    "    Diese beiden Begriffe sollte man nicht verwechseln\n",
    "</div>\n",
    "\n",
    "<div class=\"aufgabe\">\n",
    "<h3>Skalarprodukt und Norm</h3>\n",
    "    Seien $\\mathbf{a}=\\langle 1, 2, 3 \\rangle, \\mathbf{b}=\\langle 0, 2, -4 \\rangle, \n",
    "    \\mathbf{c}=\\langle 0, 0, 1 \\rangle,\\mathbf{d} = \\langle 0, 1, 0 \\rangle$ und \n",
    "    $\\mathbf{o} = \\langle 0, 0, 0 \\rangle$. Berechnen Sie die folgenden \n",
    "    Ausdrücke:\n",
    "    <ul>\n",
    "    <li>$\\mathbf{a}\\cdot\\mathbf{b}$</li>\n",
    "    <li>$\\mathbf{a}\\cdot\\mathbf{c}$</li>\n",
    "    <li>$\\mathbf{a}\\cdot\\mathbf{d}$</li>\n",
    "    <li>$\\mathbf{c}\\cdot\\mathbf{d}$</li>\n",
    "    <li>$\\mathbf{a}\\cdot\\mathbf{o}$</li>\n",
    "    <li>$\\|\\mathbf{a}\\|$</li>\n",
    "    <li>$\\|\\mathbf{b}\\|$</li>\n",
    "    <li>$\\|\\mathbf{c}\\|$</li>\n",
    "    <li>$\\|\\mathbf{d}\\|$</li>\n",
    "    <li>$\\|\\mathbf{o}\\|$</li>\n",
    "    <li>$\\|\\mathbf{a}-\\mathbf{b}\\|$</li>\n",
    "    </ul>\n",
    "</div>"
   ]
  },
  {
   "cell_type": "markdown",
   "id": "2515192b-8dc9-4d3b-8588-be69becc45b7",
   "metadata": {},
   "source": [
    "Lösung:\n",
    "\n",
    "---\n",
    "## <span style=\"color:red\">Student Answer</span>\n",
    "\n",
    "*Double-click and add your answer between the lines*\n",
    "\n",
    "---\n",
    "\n",
    "### Einschub: Vektoren in der KI\n",
    "\n",
    "In der künstlichen Intelligenz treffen wir Vektoren vor allem im Gebiet des maschinellen\n",
    "Lernen an. Objekte, die wir z.B. klassifizieren wollen, können als *Feature-Vektoren*\n",
    "kodiert werden. Im Prinzip können einzelne Features aus verschiedenen Domänen kommen,\n",
    "in der Praxis gehen viele Lernverfahren (z.B. klassische neuronale Netze) aber besser mit \n",
    "rein numerischen Vektoren um - damit liegt die Repräsentation eines Objektes wieder im\n",
    "$\\mathbb{R}^n$ und wir sind im Bereich der klassischen linearen Algebra.\n",
    "\n",
    "Schauen wir uns als Beispiel eine Reihe von Sportlern an:\n",
    "\n",
    "|Name             |Größe (cm)|Gewicht (kg)|Sportart|\n",
    "|---              | --- | ---    |---     |\n",
    "|Usain Bolt       | 195 | 94     | Sprint  |\n",
    "|Eliud Kipchoge   | 167 | 52     | Marathon|\n",
    "|Stephen Kiprotich| 172 | 56     | Marathon|\n",
    "|Bam Bam Bigelow  | 193 | 177    | Pro-Wrestling|\n",
    "|Hulk Hogan       | 201 | 137    | Pro-Wrestling|\n",
    "|Magic Johnson    | 206 | 100    | Basketball|\n",
    "|Dirk Nowitzki    | 213 | 111    | Basketball|\n",
    "|LeBron James     | 206 | 113    | Basketball|\n",
    "|Shaquille O'Neal | 216 | 147    | Basketball|\n",
    "|Michael Jordan   | 198 |  98    | Basketball|\n",
    "|Big Van Vader    | 196 | 204    | Pro-Wrestling|\n",
    "|Sting            | 188 | 113    | Pro-Wrestling|\n",
    "|Jesse Owens      | 180 |  75    | Sprint |\n",
    "|Carl Lewis       | 188 |  80    | Sprint |\n",
    "|Ben Johnson      | 177 |  75    | Sprint |\n",
    "|Larry Bird       | 206 | 100    | Basketball|\n",
    "|Kelvin Kiptum    | 189 | 65     | Marathon|\n",
    "\n",
    "<img src=\"images/sportler_knn.png\" width=600 align=right alt=\"Diagramm der Sportler und ihrer Eigenschaften\"/>\n",
    "\n",
    "Die Klassifikationsaufgabe besteht darin, aus Größe und Gewicht die Sportart\n",
    "zu prognostizieren. Am einfachsten geht das vielleicht mit dem \n",
    "*Nearest Neighbour*-Verfahren. Dabei sucht man den ähnlichsten bekannten\n",
    "Sportler, und prognostiziert dessen Sportart. \n",
    "\n",
    "Eine Variante ist das $k$NN-Verfahren,\n",
    "wo man nicht einen, sondern die $k$ nächsten Nachbarn bestimmt, und die häufigste\n",
    "Klasse unter diesen bestimmt. So oder so braucht man dafür aber *Abstandsmaße* oder\n",
    "Ähnlichkeitsmaße.\n",
    "\n",
    "Eine andere interessante Aufgabe wäre es hier, die unterschiedlichen \n",
    "Klassen ohne Vorkenntnisse zu erkennen - sogenanntes \"unsupervised\n",
    "learning\". Dabei würde z.B. der __[*K-Means*-Algorithmus](https://en.wikipedia.org/wiki/K-means_clustering)__ \n",
    "verwendet, um Cluster von ähnlichen Individuen zu erkennen. Auch dabei\n",
    "kommen Abstandsmaße zum tragen.\n",
    "\n",
    "Übrigens: Auch aktuelle KI-Systeme wie z.B. *Large Language Models* basieren weitgehend\n",
    "auf numerischen Vektoren und einer großen Menge linerarer Algebra, gewürzt mit kleinen\n",
    "aber kritischen Anteilen von Analysis.\n",
    "\n",
    "\n",
    "### Abstandsmaße und Ähnlichkeiten\n",
    "\n",
    "Wenn wir Vektoren als Punkte im karthesischen Raum interpretieren, dann ist der natürlichste \"Abstand\" \n",
    "der beiden Vektoren die Länge der Linie, die die beiden Punkte verbindet. Dieses Abstandsmaß nennen\n",
    "wir auch den *Euklidschen Abstand*, und wir können ihn elegant über bereits bekannte Konzepte \n",
    "definieren - er ergibt sich nämlich gerade als die Länge (oder \"euklidsche Norm\") des Differenzvektors.\n",
    "\n",
    "<div class=\"definition\">\n",
    "   <h3>Euklidscher Abstand</h3>\n",
    "    <p>\n",
    "    Seien $\\mathbf{a}=\\langle a_1, \\ldots, a_n \\rangle, \\mathbf{b}=\\langle b_1, \\ldots, b_n \\rangle \\in \\mathbb{R}^n$.\n",
    "    Der euklidsche Abstand $d_{euklid}:\\mathbb{R}^n\\times \\mathbb{R}^n \\to \\mathbb{R}$ ist definiert als \n",
    "    $d_{euklid}(\\mathbf{a},\\mathbf{b}) = \\|\\mathbf{a}-\\mathbf{b}\\|$.    \n",
    "    </p>\n",
    "    <p>Direkt berechnen kann man ihn auch als $d_{euklid}(\\mathbf{a},\\mathbf{b}) = \\sqrt{\\sum_{i=1}^n (a_i-b_i)^2}$.</p>\n",
    "</div>\n",
    "\n",
    "Ein alternatives Abstandsmaß ist der sogenannte \"Manhattan-Abstand\". Dieser ist inspiriert von dem\n",
    "rechtwinkligen Straßennetz in Manhattan, bei der der kürzeste praktisch realisierbare Weg immer\n",
    "den Straßen folgen muss, und die Abkürzung über die Luftlinie (die dem euklidschen Abstand entspricht)\n",
    "nicht möglich ist. Bei der sogenannten Manhattan-Metrik muss der Weg also immer parallel zu den\n",
    "Koordinaten-Achsen gemessen werden - also für jede Dimension einzeln:\n",
    "\n",
    "<div class=\"definition\">\n",
    "   <h3>Manhattan-Abstand</h3>\n",
    "    <p>\n",
    "    Seien $\\mathbf{a}=\\langle a_1, \\ldots, a_n \\rangle, \\mathbf{b}=\\langle b_1, \\ldots, b_n \\rangle \\in \\mathbb{R}^n$.\n",
    "    Der Manhattan-Abstand $d_{manhattan}:\\mathbb{R}^n\\times \\mathbb{R}^n \\to \\mathbb{R}$ ist definiert als $d_{manhattan}(\\mathbf{a},\\mathbf{b}) = \\sum_{i=1}^n (|a_i-b_i|)$.\n",
    "    </p>    \n",
    "</div>\n",
    "\n",
    "Sowohl der euklidsche Abstand als auch der Manhattan-Abstand sind echte *Metriken*, d.h. die Abstände verschiedener Punkte\n",
    "sind immer positiv, und es gilt die *Dreiecksungleichung*: Die Summe der Abstände zwischen **a**/**b** und **b**/**c** \n",
    "ist immer mindestens so groß wie der direkte Abstand **a**/**c**. Wir betrachten zwei Punkte als *ähnlich*, wenn sie im\n",
    "Raum nahe zusammenliegen - je näher, je ähnlicher. Auf dieser Annahme beruht z.B. das *Nearest-Neighbor*-Verfahren\n",
    "zur Klassifikation von Objekten. \n",
    "\n",
    "Manchmal sind aber auch andere Ähnlichkeitsmaße nützlich. Ein Beispiel dafür ist die \n",
    "Kosinus-Ähnlichkeit. Sie betrachtet nicht die Lage der durch die Vektor-Koordinaten beschriebenen \n",
    "Punkte im Raum, sondern die *Richtung* der Vektoren. Konkret wird der Kosinus des Winkels zwischen\n",
    "zwei Vektoren berechnet. Zwei Vektoren, die in exakt die gleich Richtung zeigen, also parallel \n",
    "zueinander sind, umschließen einen Winkel von 0°, und haben somit eine Ähnlichkeit von 1. Vektoren,\n",
    "die im rechten Winkel zueinander stehen, haben eine Ähnlichkeit von 0, und Vektoren, die *antiparallel*\n",
    "sind, haben eine Ähnlichkeit von -1. Da ein Vektor der Länge 0 keine Richtung hat, kann man zu ihm\n",
    "natürlich auch keine Kosinus-Ähnlichkeit bestimmen.\n",
    "\n",
    "Formal definiert ist die Kosinus-Ähnlichkeit wie folgt:\n",
    "\n",
    "<div class=\"definition\">\n",
    "   <h3>Kosinus-Ähnlichkeit</h3>\n",
    "    <p>\n",
    "    Seien $\\mathbf{a}=\\langle a_1, \\ldots, a_n \\rangle, \\mathbf{b}=\\langle b_1, \\ldots, b_n \\rangle \\in \\mathbb{R}^n$ zwei\n",
    "    Vektoren mit Länge größer 0.\n",
    "    Die Kosinus-Ähnlichkeit $s_{cosine}:\\mathbb{R}^n\\times \\mathbb{R}^n \\to [-1,1]$ ist definiert als $s_{cosine}(\\mathbf{a},\\mathbf{b}) = \\frac{\\mathbf{a}\\cdot\\mathbf{b}}{\\|\\mathbf{a}\\|\\|\\mathbf{b}\\|}$.\n",
    "    </p>    \n",
    "    <p>\n",
    "    Sie berechnet sich also als das Skalarprodukt der beiden Vektoren, geteilt durch das Produkt der Längen der Vektoren.\n",
    "    </p>\n",
    "</div>\n",
    "\n",
    "Eine Anwendung der Kosinus-Ähnlichkeit ist z.B. beim Dokumenten-Retrieval oder die Dokumenten-Zuordnung. Dabei wird der *Häufigkeitsvektor* für die Wortverteilung in einem Dokument bestimmt. Dokumente mit ähnlichen Inhalten haben typischerweise\n",
    "ähnliche Wortverteilungen, und verschiedene Autoren haben verschiedene Vorlieben beim Vokabular. Da nur die Richtung der Vektoren berücksichtigt wird, spielt die Länge der Dokumente (und damit der Vektoren) bei der Kosinus-Ähnlichkeit keine Rolle.\n",
    "\n",
    "<div class=\"remark\">\n",
    "    <h3>Abstand und Ähnlichkeit illustriert</h3>\n",
    "    <img src=\"images/vector_metrics_cropped.png\" width=600 align=right alt=\"Diagram zur Illustration von Euklidscher Metrik, Manhattan-Metrik und Kosinus-Ähnlichkeit\"/>\n",
    "    Das nebenstehende Diagramm zeigt die Vektoren <3,9> und <9,4> in der \n",
    "    euklidschen Ebene und die verschiedenen Abstands- und Ähnlichkeitsmaße.\n",
    "    <ul>\n",
    "        <li>Der kürzeste Abstand (die euklidsche Distanz) ergibt sich als die Hypothenuse\n",
    "            eines rechtwinkligen Dreiecks mit Katheten der Läge 6 und 5, also die Wurzel\n",
    "            aus 25+36=61. Im Diagramm ist der Abstand als rote Linie markiert.</li>\n",
    "        <li>Die Manhattan-Distanz kann man einfach entlang einer beliebigen Zick-Zack-Linie\n",
    "            vom Endpunkt von $v_1$ zum Endpunkt von $v_2$, die sich nie von letzterem entfernt,\n",
    "            auszählen, z.B. entlang der grünen Linie. Das Ergebnis ist 6+5=11. </li>\n",
    "        <li>Für die Kosinus-Ähnlichkeit berechnen wir erst das Skalarprodukt\n",
    "            der beiden Vektoren (63) und teilen das Ergebnis durch die beiden Längen\n",
    "            der Vektoren.</li>\n",
    "    </ul>\n",
    "</div>\n",
    "\n",
    "\n",
    "\n"
   ]
  },
  {
   "cell_type": "markdown",
   "id": "4bac8444-96ff-49b6-8dbd-11befd85d07a",
   "metadata": {},
   "source": [
    "<div class=\"aufgabe\">\n",
    "<h3>Abstand und Ähnlichkeit</h3>\n",
    "    Seien $\\mathbf{a}=\\langle 1, 2, 3 \\rangle, \\mathbf{b}=\\langle 0, 2, -4 \\rangle, \n",
    "    \\mathbf{c}=\\langle 0, 0, 1 \\rangle,\\mathbf{d} = \\langle 0, 1, 0 \\rangle$ und \n",
    "    $\\mathbf{o} = \\langle 0, 0, 0 \\rangle$. Berechnen Sie die folgenden \n",
    "    Ausdrücke:\n",
    "    <ul>\n",
    "    <li>$d_{euklid}(\\mathbf{a}, \\mathbf{b})$</li>\n",
    "    <li>$d_{manhattan}(\\mathbf{a}, \\mathbf{b})$</li>\n",
    "    <li>$s_{cosine}(\\mathbf{a}, \\mathbf{b})$</li>\n",
    "    <li>$d_{euklid}(\\mathbf{a}, \\mathbf{c})$</li>\n",
    "    <li>$d_{manhattan}(\\mathbf{a}, \\mathbf{c})$</li>\n",
    "    <li>$s_{cosine}(\\mathbf{a}, \\mathbf{c})$</li>\n",
    "    <li>$d_{euklid}(\\mathbf{c}, \\mathbf{d})$</li>\n",
    "    <li>$d_{manhattan}(\\mathbf{c}, \\mathbf{d})$</li>\n",
    "    <li>$s_{cosine}(\\mathbf{c}, \\mathbf{d})$</li>\n",
    "    <li>$d_{euklid}(\\mathbf{a}, \\mathbf{o})$</li>\n",
    "    <li>$d_{manhattan}(\\mathbf{a}, \\mathbf{o})$</li>\n",
    "    <li>$d_{euklid}(\\mathbf{c}, \\mathbf{o})$</li>\n",
    "    <li>$d_{manhattan}(\\mathbf{c}, \\mathbf{o})$</li>\n",
    "    </ul>\n",
    "</div>\n"
   ]
  },
  {
   "cell_type": "markdown",
   "id": "259a933a-9385-4c28-b44d-e43293edfe71",
   "metadata": {},
   "source": [
    "Lösung:\n",
    "\n",
    "---\n",
    "## <span style=\"color:red\">Student Answer</span>\n",
    "\n",
    "*Double-click and add your answer between the lines*\n",
    "\n",
    "---\n"
   ]
  },
  {
   "cell_type": "markdown",
   "id": "4c1a00e3-b26d-432a-a2ab-63ce375ea0d2",
   "metadata": {},
   "source": [
    "Anmerkung: Wir haben den euklidschen Abstand über die Norm, und die Norm über das Skalarprodukt definiert, obwohl das Ergebnis ja im karthesischen Koordinatenraum relativ naheliegend ist. Aber die Konstruktion ist allgemein - und damit ist klar, dass *jeder* Vektorraum mit Skalarprodukt notwendigerweise auch eine Norm und eine Abstandsmetrik hat.\n",
    "\n",
    "Doch genug mit der Theorie."
   ]
  },
  {
   "cell_type": "markdown",
   "id": "engaging-secretariat",
   "metadata": {
    "slideshow": {
     "slide_type": "slide"
    }
   },
   "source": [
    "<div class=\"aufgabe\">\n",
    "    <h3>Vektoren als Python-Klasse</h3>\n",
    "    Implementieren Sie eine Klasse \"Vector\", die die üblichen Vector-Operationen und -Methoden \n",
    "    unterstützt. Unten finden Sie eine Liste von Methoden und einen Rahmen mit Unit-Tests für\n",
    "    Ihren Code.\n",
    "</div>\n",
    "\n",
    "- `__init__(self, vec)`: Das Argument kann Tupel oder Liste von Gleitkommazahlen sein.\n",
    "- `__eq__(self, other)`: Zwei Vektoren sind gleich, wenn sie die gleiche Anzahl von Komponenten haben, und die jeweils korrespondierenden Komponenten gleich sind.\n",
    "- `__str__(self)`: Wir wollen Vektoren in der Form `<1, 2, 3>`  darstellen.\n",
    "- `__repr__(self)`: Hier haben wir keine besonderen Anforderungen, Vorschlag: `Vector([1 2 3])`\n",
    "- `__bool__(self)`: Nur der Null-Vektor (alle Komponenten 0) ist \"False\", alle anderen sind \"True\".\n",
    "- `__len__(self)`: Anzahl der Dimensionen bzw. Komponenten.\n",
    "- `__neg__(self)`: Gibt den Inversen Vektor zu `self` zurück.\n",
    "- `__add__(self, other)`: Addiert zwei Vektoren komponentenweise.\n",
    "- `__sub__(self, other)`: Subtrahiert zwei Vektoren.\n",
    "- `__mul__(self, other)`: Multipliziert einen Vektor mit einem Skalar (z.B. <1, 0, 2>*3 = <3, 0, 6>) oder zwei Vektoren zum *Skalarprodukt*.\n",
    "- `__rmul__(self, other)`: Das brauchen wir für den Fall, dass ein Skalar links an einen Vektor multipliziert wird (Fall `4*<1, 2, 3>=<4, 8, 12>).\n",
    "- `is_zero(self)`: Ist `self` der Null-Vektor?\n",
    "- `norm(self)`: Was ist die Länge im Euklidschen Raum?\n",
    "- `euclid_dist(self, other)`: Was ist der Euklidsche Abstand zweier Vektoren?\n",
    "- `manhattan_dist(self, other)`: Was ist der Manhattan-Abstand zweier Vektoren?\n",
    "- `cosine_similarity(self, other)`: Was ist die Ähnlichkeit der Richtung zweier Vektoren?\n"
   ]
  },
  {
   "cell_type": "code",
   "id": "7403cca1",
   "metadata": {
    "slideshow": {
     "slide_type": "fragment"
    },
    "ExecuteTime": {
     "end_time": "2025-05-22T12:30:26.267295Z",
     "start_time": "2025-05-22T12:30:26.220831Z"
    }
   },
   "source": [
    "# Notes:\n",
    "# print(0.0 == 0) -> True\n",
    "\n",
    "# print(vector.__len__()) for Vector([1,2,3]) -> 3\n",
    "# print(repr(vector)) für repr\n",
    "\n",
    "# Variablen aus NumPy Array:\n",
    "# variables = [val for i, val in enumerate(self.vec)]\n",
    "\n",
    "# Simples printing:\n",
    "# for value in self.vec:\n",
    "# print(value)\n",
    "\n",
    "# technical_str returns:\n",
    "# [np.int64(-1), np.int64(2), np.int64(3)]\n",
    "\n",
    "\n",
    "# YOUR CODE HERE\n",
    "class Vector:\n",
    "    def __init__(self, vec):\n",
    "        self.vec = np.array(vec)\n",
    "\n",
    "    def check_dims(self, other):\n",
    "        if not isinstance(other, Vector):\n",
    "            raise VectorError(\"No Vector\")\n",
    "        if len(self.vec) != len(other.vec):\n",
    "            raise VectorError(\"Vectors aren't the same size!\")\n",
    "\n",
    "    def __str__(self):\n",
    "        return f\"<{', '.join(str(x) for x in self.vec)}>\"\n",
    "\n",
    "    def __repr__(self):\n",
    "        return f\"Vector({self.vec.tolist()})\"\n",
    "\n",
    "    def __eq__(self, other):\n",
    "        if not isinstance(other, Vector):\n",
    "            return False\n",
    "        if len(self.vec) != len(other.vec):\n",
    "            return False\n",
    "        return np.array_equal(self.vec, other.vec)\n",
    "\n",
    "    def __len__(self):\n",
    "        return len(self.vec)\n",
    "\n",
    "    def __bool__(self):\n",
    "        return bool(np.any(self.vec != 0))\n",
    "\n",
    "    def __neg__(self):\n",
    "        return Vector(-self.vec)\n",
    "\n",
    "    def __add__(self, other):\n",
    "        self.check_dims(other)\n",
    "        return Vector(self.vec + other.vec)\n",
    "\n",
    "    def __sub__(self, other):\n",
    "        self.check_dims(other)\n",
    "        return Vector(self.vec - other.vec)\n",
    "\n",
    "    def __mul__(self, other):\n",
    "        if isinstance(other, Vector):\n",
    "            self.check_dims(other)\n",
    "            return float(np.dot(self.vec, other.vec))\n",
    "        return Vector(self.vec * other)\n",
    "\n",
    "    def __rmul__(self, other):\n",
    "        return Vector(other * self.vec)\n",
    "\n",
    "    def is_zero(self):\n",
    "        return np.all(self.vec == 0)\n",
    "\n",
    "    def norm(self):\n",
    "        return np.linalg.norm(self.vec)\n",
    "\n",
    "    def euclid_dist(self, other):\n",
    "        self.check_dims(other)\n",
    "        return np.linalg.norm(self.vec - other.vec)\n",
    "\n",
    "    def manhattan_dist(self, other):\n",
    "        self.check_dims(other)\n",
    "        return np.sum(np.abs(self.vec - other.vec))\n",
    "\n",
    "    def cosine_similarity(self, other):\n",
    "        self.check_dims(other)\n",
    "        if self.is_zero() or other.is_zero():\n",
    "            raise VectorError(\"Cannot compute cosine similarity with zero vector\")\n",
    "        return np.dot(self.vec, other.vec) / (self.norm() * other.norm())\n",
    "\n",
    "#!/usr/bin/env python\n",
    "\n",
    "\"\"\"Einführung Vektoren\n",
    "\n",
    "In der Physik sind Vektoren Objekte, die durch eine Länge und eine\n",
    "Richtung beschrieben werden. In der Mathematik sind Vektoren Elemente\n",
    "eines Vektorraums. Ein Vektorraum ist eine mathematische Struktur,\n",
    "konkret eine abelsche Gruppe (von \"Vektoren\") über einem Körper K (von\n",
    "\"Skalaren\"), bei der eine zusätzliche Verknüpfung (die\n",
    "Skalarmultiplikation) das Verknüpfen von Vektoren und Skalaren\n",
    "ermöglicht. Für diese Skalarmultiplikation werden zusätzlich\n",
    "Distributivgesetze und Assoziativgesetz gefordert.\n",
    "\n",
    "In dieser Vorlesung bewegen wir uns zwischen diesen beiden\n",
    "Definitionen. Für uns sind Vektoren Elemente von $R^n$, also $n$-Tupel\n",
    "von reelen Zahlen. Dabei ist $n$ fest - d.h. jeder gegebene Vektorraum\n",
    "enthält nur Vektoren mit $n$ Elementen.  Die reelen Zahlen R bilden\n",
    "den Skalarkörper, und sind die zugehörigen Skalare.\n",
    "\n",
    "Einfache Spezialfälle sind R^2 - dann reden wir über Vektoren in der\n",
    "Ebene, und R^3 - Vektoren im 3-dimensionalen Raum. Diese beiden Fälle\n",
    "haben eine Vielzahl von Anwendungen in Technik und Physik.\n",
    "\n",
    "Wenn wir ein karthesisches Koordinatensystem annehmen, dann\n",
    "repräsentiert der Vektor <1, 2, 3> die Verschiebung eines Punktes um\n",
    "eine Einheit in der X-Koordinate, zwei Einheiten in der Y-Koordinate,\n",
    "und drei Einheiten in der Z-Koordinate.\n",
    "\n",
    "Analog können Vektoren aber auch selbst als Punkte in Raum\n",
    "interpretiert werden. Der Übergang zwischen beiden Sichtweisen ist\n",
    "einfach - der Vektor entspricht dem Punkt, auf dem er den\n",
    "Koordinatenursprung verschieben würde.\n",
    "\n",
    "\"\"\"\n",
    "\n",
    "import unittest\n",
    "import numpy as np\n",
    "import math\n",
    "\n",
    "\n",
    "class VectorError(Exception):\n",
    "    \"\"\"\n",
    "    Für eigene Fehler, die mit Vektoren auftreten können.\n",
    "    \"\"\"\n",
    "    pass\n",
    "\n",
    "class TestVectors(unittest.TestCase):\n",
    "    \"\"\"\n",
    "    Unittests für den Vector-Datentyp.\n",
    "    \"\"\"\n",
    "    def setUp(self):\n",
    "        \"\"\"\n",
    "        Initialisiere Variablen für den Test.\n",
    "        \"\"\"\n",
    "        self.a  = Vector([0, 0, 1])\n",
    "        self.b  = Vector([0, 1, 0])\n",
    "        self.c  = Vector([1, 0, 0])\n",
    "        self.d  = Vector([1, 1, 0])\n",
    "        self.e  = Vector([1, 2, 3])\n",
    "        self.f  = Vector([3, 2, 1])\n",
    "        self.fn = Vector([-3, -2, -1])\n",
    "        self.g  = Vector([-1, -2, 3])\n",
    "        self.n  = Vector([0, 0, 0])\n",
    "        self.o  = Vector([1, 1, 1])\n",
    "        self.p  = Vector([1, 2])\n",
    "        self.q  = Vector([1, 2, -3, 4])\n",
    "\n",
    "    def test_01_basics(self):\n",
    "        \"\"\"\n",
    "        Testet Basiseigenschaften - Gleichheit,\n",
    "        Ausgabe.\n",
    "        \"\"\"\n",
    "        self.assertEqual(self.a, self.a)\n",
    "        self.assertNotEqual(self.a, self.b)\n",
    "        self.assertEqual(str(self.e), \"<1, 2, 3>\")\n",
    "        \n",
    "\n",
    "    def test_02_dims(self):\n",
    "        \"\"\"\n",
    "        Testet Dimensionen und den Umgang mit\n",
    "        Unterschieden.\n",
    "        \"\"\"\n",
    "        self.assertNotEqual(self.a, self.p)\n",
    "        self.assertNotEqual(self.p, self.q)\n",
    "        self.assertNotEqual(self.q, self.p)\n",
    "        self.assertEqual(len(self.a), 3)\n",
    "        self.assertEqual(len(self.p), 2)\n",
    "        self.assertEqual(len(self.q), 4)\n",
    "\n",
    "    def test_03_bool(self):\n",
    "        \"\"\"\n",
    "        Testet die Umwandlung zu bool.\n",
    "        \"\"\"\n",
    "        self.assertTrue(self.a)\n",
    "        self.assertTrue(self.b)\n",
    "        self.assertTrue(self.p)\n",
    "        self.assertTrue(self.q)\n",
    "        self.assertFalse(self.n)\n",
    "\n",
    "    def test_04_addition(self):\n",
    "        \"\"\"\n",
    "        Testet Addition.\n",
    "        \"\"\"\n",
    "        self.assertEqual(self.b+self.c, self.d)\n",
    "        self.assertEqual(self.f+self.n, self.f)\n",
    "        self.assertEqual(self.f+self.fn, self.n)\n",
    "        self.assertEqual(self.a+self.b+self.c, self.o)\n",
    "\n",
    "    def test_05_subtraction(self):\n",
    "        \"\"\"\n",
    "        Testet Subtraktion.\n",
    "        \"\"\"\n",
    "        self.assertEqual(self.d-self.c, self.b)\n",
    "        self.assertEqual(self.a-self.a, self.n)\n",
    "        self.assertEqual(self.f-self.n, self.f)\n",
    "        self.assertEqual(self.o-self.d, self.a)\n",
    "        self.assertEqual(self.a-self.b-self.c, self.a-self.d)\n",
    "\n",
    "    def test_06_negation(self):\n",
    "        \"\"\"\n",
    "        Testet das unäre Minus.\n",
    "        \"\"\"\n",
    "        self.assertEqual(-self.f, self.fn)\n",
    "        self.assertEqual(-self.fn, self.f)\n",
    "        self.assertEqual(self.a+-self.a, self.n)\n",
    "        self.assertEqual(self.f+-self.n, self.f)\n",
    "        self.assertEqual(self.d+-self.c, self.b)\n",
    "\n",
    "    def test_07_multiplikation(self):\n",
    "        \"\"\"\n",
    "        Testet Skalarmultiplikation (nicht Skalarprodukt!)\n",
    "        \"\"\"\n",
    "        self.assertEqual(self.a, 1*self.a)\n",
    "        self.assertEqual(self.a+self.a, 2*self.a)\n",
    "        self.assertEqual(self.f*2, 2*self.f)\n",
    "        self.assertNotEqual(self.a*2, self.a)\n",
    "        self.assertEqual(self.a*0, self.n)\n",
    "\n",
    "    def test_08_is_zero(self):\n",
    "        \"\"\"\n",
    "        Testet is_zero().\n",
    "        \"\"\"\n",
    "        self.assertFalse(self.a.is_zero())\n",
    "        self.assertTrue(self.n.is_zero())\n",
    "        \n",
    "    def test_09_norm(self):\n",
    "        \"\"\"\n",
    "        Testet  norm() und Skalarprodukt.\n",
    "        \"\"\"\n",
    "        self.assertEqual(self.a.norm(),1)\n",
    "        self.assertEqual(self.b.norm(),1)\n",
    "        self.assertEqual(self.c.norm(),1)\n",
    "        self.assertEqual(self.a*self.b, 0)\n",
    "        self.assertEqual(self.a*self.a, 1)\n",
    "        self.assertAlmostEqual(self.f*self.f, self.f.norm()*self.f.norm())\n",
    "        self.assertAlmostEqual(self.o*self.o, self.o.norm()*self.o.norm())\n",
    "\n",
    "    def test_10_similarity_euclid(self):\n",
    "        \"\"\"\n",
    "        Testet Ähnlichkeitsmaß und Abstandsmaße.\n",
    "        \"\"\"\n",
    "        self.assertEqual(self.a.euclid_dist(self.a),0)\n",
    "        self.assertAlmostEqual(self.a.euclid_dist(self.b),1.4142135623730951)\n",
    "        self.assertAlmostEqual(self.f.euclid_dist(self.fn),2*self.f.norm())\n",
    "\n",
    "    def test_11_similarity_manhattan(self):\n",
    "        \"\"\"\n",
    "        Testet Ähnlichkeitsmaß und Abstandsmaße.\n",
    "        \"\"\"\n",
    "        self.assertEqual(self.a.manhattan_dist(self.a),0)\n",
    "        self.assertEqual(self.a.manhattan_dist(self.b),2)\n",
    "        self.assertAlmostEqual(self.f.manhattan_dist(self.fn),12)\n",
    "\n",
    "    def test_12_similarity_cosine(self):\n",
    "        \"\"\"\n",
    "        Testet Ähnlichkeitsmaß und Abstandsmaße.\n",
    "        \"\"\"\n",
    "        self.assertEqual(self.a.cosine_similarity(self.a),1)\n",
    "        self.assertEqual(self.a.cosine_similarity(self.b),0)\n",
    "        self.assertAlmostEqual(self.f.cosine_similarity(self.fn),-1)\n",
    "    \n",
    "\n",
    "    def addition_dim_mismatch(self):\n",
    "        self.p+self.q\n",
    "\n",
    "    def addition_type_mismatch(self):\n",
    "        self.p+\"Kein Vektor\"\n",
    "\n",
    "    def multiplikation_dim_mismatch(self):\n",
    "        self.p*self.q\n",
    "\n",
    "    def cosine_similarity_with_zero(self):\n",
    "        self.n.cosine_similarity(self.a)\n",
    "    \n",
    "    def test_13_error_handling(self):\n",
    "        \"\"\"\n",
    "        Testet die Fehlerbehandlung\n",
    "        \"\"\"\n",
    "        self.assertRaises(VectorError, self.addition_dim_mismatch)\n",
    "        self.assertRaises(VectorError, self.addition_type_mismatch)\n",
    "        self.assertRaises(VectorError, self.multiplikation_dim_mismatch)\n",
    "        self.assertRaises(VectorError, self.cosine_similarity_with_zero)\n",
    "\n",
    "\n",
    "if __name__ == '__main__':\n",
    "    #Durchführung der Tests\n",
    "    loader = unittest.TestLoader()\n",
    "    suite = unittest.TestSuite()\n",
    "\n",
    "    #Hier können einzelne Tests auskommentiert werden\n",
    "    suite.addTest(TestVectors(\"test_01_basics\"))\n",
    "    suite.addTest(TestVectors(\"test_02_dims\"))\n",
    "    suite.addTest(TestVectors(\"test_03_bool\"))\n",
    "    suite.addTest(TestVectors(\"test_04_addition\"))\n",
    "    suite.addTest(TestVectors(\"test_05_subtraction\"))\n",
    "    suite.addTest(TestVectors(\"test_06_negation\"))\n",
    "    suite.addTest(TestVectors(\"test_07_multiplikation\"))\n",
    "    suite.addTest(TestVectors(\"test_08_is_zero\"))\n",
    "    suite.addTest(TestVectors(\"test_09_norm\"))\n",
    "    suite.addTest(TestVectors(\"test_10_similarity_euclid\"))\n",
    "    suite.addTest(TestVectors(\"test_11_similarity_manhattan\"))\n",
    "    suite.addTest(TestVectors(\"test_12_similarity_cosine\"))\n",
    "    suite.addTest(TestVectors(\"test_13_error_handling\"))\n",
    "\n",
    "\n",
    "    runner = unittest.TextTestRunner()\n",
    "\n",
    "    runner.run(suite)\n",
    "    '''\n",
    "    print(\"Hacky unorganised tests ;-)\")\n",
    "    a = Vector([1, 2, 3])\n",
    "    e = Vector([-7, 2, 1])\n",
    "    b = Vector([3, 2, 1])\n",
    "    c = Vector([1, 1, 0])\n",
    "    d = Vector([0, 0, 1])\n",
    "    n = Vector([0, 0, 0])\n",
    "    print(a)\n",
    "    print(repr(a))\n",
    "    print(a+b)\n",
    "    print(a+-a)\n",
    "    print(a-a)\n",
    "    print(a-b)\n",
    "    print(a*a)\n",
    "    print(a*b)\n",
    "    print(4*a)\n",
    "    print(a*4)\n",
    "    print(a*n)\n",
    "    print(\"0*a:\", 0*a)\n",
    "    print(c*d)\n",
    "    print(a*e)\n",
    "    print(a.norm())\n",
    "    print(b.norm())\n",
    "    print(n.norm())\n",
    "    print(a.euclid_dist(b))\n",
    "    print(a.euclid_dist(n))\n",
    "    print(a.euclid_dist(a))\n",
    "    print(a.manhattan_dist(b))\n",
    "    print(a.cosine_similarity(a))\n",
    "    print(a.cosine_similarity(b))\n",
    "    print(c.cosine_similarity(d))\n",
    "    print(c.cosine_similarity(-c))\n",
    "    print(b.cosine_similarity(-b))\n",
    "    '''"
   ],
   "outputs": [
    {
     "name": "stderr",
     "output_type": "stream",
     "text": [
      ".............\n",
      "----------------------------------------------------------------------\n",
      "Ran 13 tests in 0.011s\n",
      "\n",
      "OK\n"
     ]
    }
   ],
   "execution_count": 3
  },
  {
   "cell_type": "markdown",
   "id": "8d940dbd-dfc1-4097-9898-5f61085d3a94",
   "metadata": {
    "scrolled": true,
    "slideshow": {
     "slide_type": "fragment"
    }
   },
   "source": [
    "<div class=\"aufgabe\">\n",
    "    <h3>Bonus: Maschinelles Lernen mit <em>k</em>NN</h3>\n",
    "    Implementieren Sie einen <em>k</em>NN-Algorithmus zur Klassifikation von Sportlern. Sie können obige Liste\n",
    "    erweitern (Sportlerdaten findet man z.B. auf Wikipedia), um an mehr Trainings- und Testdaten zu kommen (Tipp:\n",
    "    Dabei kann man sich gut austauschen, wenn jeder sich z.B. eine Sportart vornimmt). Vergleichen Sie folgende Fälle:\n",
    "    <ul>\n",
    "        <li>k=1, 3, 5</li>\n",
    "        <li>Rohdaten vs. normalisierte Daten (zur Normalisierung skalieren Sie alle Werte auf den Zahlenbereich [0,1]).</li>\n",
    "    </ul>\n",
    "    Was funktioniert besser?\n",
    "</div>\n"
   ]
  },
  {
   "cell_type": "code",
   "execution_count": null,
   "id": "94e2a6ce-a5e8-4005-9ab2-37b78b1f0581",
   "metadata": {},
   "outputs": [],
   "source": []
  },
  {
   "cell_type": "markdown",
   "id": "3291432e-598b-4b9c-97b9-a64bd862cd1f",
   "metadata": {},
   "source": [
    "# Footer"
   ]
  },
  {
   "cell_type": "code",
   "execution_count": null,
   "id": "7392d151",
   "metadata": {},
   "outputs": [],
   "source": [
    "#Ausführen, um den aktuellen Footer anzuzeigen\n",
    "from IPython.display import HTML\n",
    "HTML(filename='files/footer.html')"
   ]
  }
 ],
 "metadata": {
  "file_extension": ".py",
  "kernelspec": {
   "display_name": "Python 3 (ipykernel)",
   "language": "python",
   "name": "python3"
  },
  "language_info": {
   "codemirror_mode": {
    "name": "ipython",
    "version": 3
   },
   "file_extension": ".py",
   "mimetype": "text/x-python",
   "name": "python",
   "nbconvert_exporter": "python",
   "pygments_lexer": "ipython3",
   "version": "3.12.7"
  },
  "mimetype": "text/x-python",
  "name": "python",
  "npconvert_exporter": "python",
  "pygments_lexer": "ipython3",
  "rise": {
   "autolaunch": false,
   "backimage": "images/python-logo-only.svg",
   "enable_chalkboard": true,
   "footer": "<h3>DHBW Stuttgart</h3>",
   "header": "<h1>Scientific Programming Lab</h1>",
   "scroll": true,
   "theme": "serif",
   "transition": "convex"
  },
  "version": 3
 },
 "nbformat": 4,
 "nbformat_minor": 5
}
